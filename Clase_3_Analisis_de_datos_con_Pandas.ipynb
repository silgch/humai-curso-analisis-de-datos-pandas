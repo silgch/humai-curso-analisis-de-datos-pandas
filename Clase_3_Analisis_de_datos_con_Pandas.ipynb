{
  "cells": [
    {
      "cell_type": "markdown",
      "metadata": {
        "id": "YXUN-bhiLgGS"
      },
      "source": [
        "<a href=\"https://colab.research.google.com/github/institutohumai/cursos-python/blob/master/AnalisisDeDatos/3_Agrupacion_y_Agregacion/agrupacion_agregacion.ipynb\"> <img src='https://colab.research.google.com/assets/colab-badge.svg' /> </a>\n",
        "<div align=\"center\"> Recordá abrir en una nueva pestaña </div>"
      ]
    },
    {
      "cell_type": "markdown",
      "metadata": {
        "id": "V5B5yzCaLgGY"
      },
      "source": [
        "# Agrupación\n"
      ]
    },
    {
      "cell_type": "markdown",
      "metadata": {
        "id": "qwszZvtbLgGZ"
      },
      "source": [
        "## Tabla de Contenidos\n",
        "\n",
        "    I. Agrupación y agregación\n",
        "        I. Introducción\n",
        "            I. Crear columnas\n",
        "    III. Funciones de Agregación simple\n",
        "    IV. GroupBy: Trabajando sobre grupos\n",
        "        I. Clases que se encargan de la Agregación en Pandas\n",
        "        II. DataSetGroupBy\n",
        "            I. Lazy Evaluation\n",
        "            II. Iterar sobre los grupos\n",
        "        III. SeriesGroupBy\n",
        "        IV. Agregaciones múltiples\n",
        "        V. MultiIndex\n",
        "        VI. Ejercicios"
      ]
    },
    {
      "cell_type": "markdown",
      "metadata": {
        "id": "Il1tmDEfLgGb"
      },
      "source": [
        "## Introducción\n",
        "\n",
        "En esta clase vamos a ver cómo agrupar datos a partir de una clave para trabajar sobre distintos grupos. \n",
        "El primer dataset que vamos a utilizar es del portal de datos abiertos de España.  Los datos se pueden encontrar <a href='http://opendata.esri.es/datasets/paro-por-municipio-espa%C3%B1a/geoservice'> aquí</a> y la única modificación que se les hizo fue reemplazar el código de provincia por la descripción de la misma"
      ]
    },
    {
      "cell_type": "code",
      "execution_count": 1,
      "metadata": {
        "id": "beDF5Z7ILgGc"
      },
      "outputs": [],
      "source": [
        "#! pip install plotly"
      ]
    },
    {
      "cell_type": "code",
      "execution_count": 2,
      "metadata": {
        "id": "i_kOokCBLgGe"
      },
      "outputs": [],
      "source": [
        "import pandas as pd\n",
        "import plotly.express as px"
      ]
    },
    {
      "cell_type": "code",
      "execution_count": 3,
      "metadata": {
        "id": "Wa28ZXeaLgGf"
      },
      "outputs": [],
      "source": [
        "df = pd.read_csv('https://datasets-humai.s3.amazonaws.com/datasets/parodesprov.csv')"
      ]
    },
    {
      "cell_type": "code",
      "execution_count": 5,
      "metadata": {
        "colab": {
          "base_uri": "https://localhost:8080/",
          "height": 336
        },
        "id": "9KUTMEuGLgGi",
        "outputId": "02960317-4e8b-4744-b387-a4c7c4ea8d04"
      },
      "outputs": [
        {
          "output_type": "execute_result",
          "data": {
            "text/plain": [
              "      OBJECTID  Codigo             Texto  Cod_Prov  Cod_CCAA  \\\n",
              "0            1    1001  Alegría-Dulantzi         1        16   \n",
              "8170      8171    1001  Alegría-Dulantzi         1        16   \n",
              "1            2    1002           Amurrio         1        16   \n",
              "8171      8172    1002           Amurrio         1        16   \n",
              "2            3    1003           Aramaio         1        16   \n",
              "8172      8173    1003           Aramaio         1        16   \n",
              "\n",
              "      TotalParoRegistrado  PAD_1C02 PAD_1_COD_PROV  PAD_1_COD_CCAA  \\\n",
              "0                   184.0    2856.0    Araba/Álava            16.0   \n",
              "8170                185.0    2913.0            NaN             NaN   \n",
              "1                   766.0   10260.0    Araba/Álava            16.0   \n",
              "8171                766.0   10291.0            NaN             NaN   \n",
              "2                    18.0    1502.0    Araba/Álava            16.0   \n",
              "8172                 18.0    1496.0            NaN             NaN   \n",
              "\n",
              "       Shape__Area  Shape__Length  Codigop  \n",
              "0     3.709269e+07   48191.568537      1.0  \n",
              "8170  3.709269e+07   48191.568751      NaN  \n",
              "1     1.799114e+08   90623.621986      1.0  \n",
              "8171  1.799114e+08   90623.621773      NaN  \n",
              "2     1.377066e+08   58592.914048      1.0  \n",
              "8172  1.377066e+08   58592.915252      NaN  "
            ],
            "text/html": [
              "\n",
              "  <div id=\"df-6c927665-bd7b-4146-a07f-4403294b50fb\">\n",
              "    <div class=\"colab-df-container\">\n",
              "      <div>\n",
              "<style scoped>\n",
              "    .dataframe tbody tr th:only-of-type {\n",
              "        vertical-align: middle;\n",
              "    }\n",
              "\n",
              "    .dataframe tbody tr th {\n",
              "        vertical-align: top;\n",
              "    }\n",
              "\n",
              "    .dataframe thead th {\n",
              "        text-align: right;\n",
              "    }\n",
              "</style>\n",
              "<table border=\"1\" class=\"dataframe\">\n",
              "  <thead>\n",
              "    <tr style=\"text-align: right;\">\n",
              "      <th></th>\n",
              "      <th>OBJECTID</th>\n",
              "      <th>Codigo</th>\n",
              "      <th>Texto</th>\n",
              "      <th>Cod_Prov</th>\n",
              "      <th>Cod_CCAA</th>\n",
              "      <th>TotalParoRegistrado</th>\n",
              "      <th>PAD_1C02</th>\n",
              "      <th>PAD_1_COD_PROV</th>\n",
              "      <th>PAD_1_COD_CCAA</th>\n",
              "      <th>Shape__Area</th>\n",
              "      <th>Shape__Length</th>\n",
              "      <th>Codigop</th>\n",
              "    </tr>\n",
              "  </thead>\n",
              "  <tbody>\n",
              "    <tr>\n",
              "      <th>0</th>\n",
              "      <td>1</td>\n",
              "      <td>1001</td>\n",
              "      <td>Alegría-Dulantzi</td>\n",
              "      <td>1</td>\n",
              "      <td>16</td>\n",
              "      <td>184.0</td>\n",
              "      <td>2856.0</td>\n",
              "      <td>Araba/Álava</td>\n",
              "      <td>16.0</td>\n",
              "      <td>3.709269e+07</td>\n",
              "      <td>48191.568537</td>\n",
              "      <td>1.0</td>\n",
              "    </tr>\n",
              "    <tr>\n",
              "      <th>8170</th>\n",
              "      <td>8171</td>\n",
              "      <td>1001</td>\n",
              "      <td>Alegría-Dulantzi</td>\n",
              "      <td>1</td>\n",
              "      <td>16</td>\n",
              "      <td>185.0</td>\n",
              "      <td>2913.0</td>\n",
              "      <td>NaN</td>\n",
              "      <td>NaN</td>\n",
              "      <td>3.709269e+07</td>\n",
              "      <td>48191.568751</td>\n",
              "      <td>NaN</td>\n",
              "    </tr>\n",
              "    <tr>\n",
              "      <th>1</th>\n",
              "      <td>2</td>\n",
              "      <td>1002</td>\n",
              "      <td>Amurrio</td>\n",
              "      <td>1</td>\n",
              "      <td>16</td>\n",
              "      <td>766.0</td>\n",
              "      <td>10260.0</td>\n",
              "      <td>Araba/Álava</td>\n",
              "      <td>16.0</td>\n",
              "      <td>1.799114e+08</td>\n",
              "      <td>90623.621986</td>\n",
              "      <td>1.0</td>\n",
              "    </tr>\n",
              "    <tr>\n",
              "      <th>8171</th>\n",
              "      <td>8172</td>\n",
              "      <td>1002</td>\n",
              "      <td>Amurrio</td>\n",
              "      <td>1</td>\n",
              "      <td>16</td>\n",
              "      <td>766.0</td>\n",
              "      <td>10291.0</td>\n",
              "      <td>NaN</td>\n",
              "      <td>NaN</td>\n",
              "      <td>1.799114e+08</td>\n",
              "      <td>90623.621773</td>\n",
              "      <td>NaN</td>\n",
              "    </tr>\n",
              "    <tr>\n",
              "      <th>2</th>\n",
              "      <td>3</td>\n",
              "      <td>1003</td>\n",
              "      <td>Aramaio</td>\n",
              "      <td>1</td>\n",
              "      <td>16</td>\n",
              "      <td>18.0</td>\n",
              "      <td>1502.0</td>\n",
              "      <td>Araba/Álava</td>\n",
              "      <td>16.0</td>\n",
              "      <td>1.377066e+08</td>\n",
              "      <td>58592.914048</td>\n",
              "      <td>1.0</td>\n",
              "    </tr>\n",
              "    <tr>\n",
              "      <th>8172</th>\n",
              "      <td>8173</td>\n",
              "      <td>1003</td>\n",
              "      <td>Aramaio</td>\n",
              "      <td>1</td>\n",
              "      <td>16</td>\n",
              "      <td>18.0</td>\n",
              "      <td>1496.0</td>\n",
              "      <td>NaN</td>\n",
              "      <td>NaN</td>\n",
              "      <td>1.377066e+08</td>\n",
              "      <td>58592.915252</td>\n",
              "      <td>NaN</td>\n",
              "    </tr>\n",
              "  </tbody>\n",
              "</table>\n",
              "</div>\n",
              "      <button class=\"colab-df-convert\" onclick=\"convertToInteractive('df-6c927665-bd7b-4146-a07f-4403294b50fb')\"\n",
              "              title=\"Convert this dataframe to an interactive table.\"\n",
              "              style=\"display:none;\">\n",
              "        \n",
              "  <svg xmlns=\"http://www.w3.org/2000/svg\" height=\"24px\"viewBox=\"0 0 24 24\"\n",
              "       width=\"24px\">\n",
              "    <path d=\"M0 0h24v24H0V0z\" fill=\"none\"/>\n",
              "    <path d=\"M18.56 5.44l.94 2.06.94-2.06 2.06-.94-2.06-.94-.94-2.06-.94 2.06-2.06.94zm-11 1L8.5 8.5l.94-2.06 2.06-.94-2.06-.94L8.5 2.5l-.94 2.06-2.06.94zm10 10l.94 2.06.94-2.06 2.06-.94-2.06-.94-.94-2.06-.94 2.06-2.06.94z\"/><path d=\"M17.41 7.96l-1.37-1.37c-.4-.4-.92-.59-1.43-.59-.52 0-1.04.2-1.43.59L10.3 9.45l-7.72 7.72c-.78.78-.78 2.05 0 2.83L4 21.41c.39.39.9.59 1.41.59.51 0 1.02-.2 1.41-.59l7.78-7.78 2.81-2.81c.8-.78.8-2.07 0-2.86zM5.41 20L4 18.59l7.72-7.72 1.47 1.35L5.41 20z\"/>\n",
              "  </svg>\n",
              "      </button>\n",
              "      \n",
              "  <style>\n",
              "    .colab-df-container {\n",
              "      display:flex;\n",
              "      flex-wrap:wrap;\n",
              "      gap: 12px;\n",
              "    }\n",
              "\n",
              "    .colab-df-convert {\n",
              "      background-color: #E8F0FE;\n",
              "      border: none;\n",
              "      border-radius: 50%;\n",
              "      cursor: pointer;\n",
              "      display: none;\n",
              "      fill: #1967D2;\n",
              "      height: 32px;\n",
              "      padding: 0 0 0 0;\n",
              "      width: 32px;\n",
              "    }\n",
              "\n",
              "    .colab-df-convert:hover {\n",
              "      background-color: #E2EBFA;\n",
              "      box-shadow: 0px 1px 2px rgba(60, 64, 67, 0.3), 0px 1px 3px 1px rgba(60, 64, 67, 0.15);\n",
              "      fill: #174EA6;\n",
              "    }\n",
              "\n",
              "    [theme=dark] .colab-df-convert {\n",
              "      background-color: #3B4455;\n",
              "      fill: #D2E3FC;\n",
              "    }\n",
              "\n",
              "    [theme=dark] .colab-df-convert:hover {\n",
              "      background-color: #434B5C;\n",
              "      box-shadow: 0px 1px 3px 1px rgba(0, 0, 0, 0.15);\n",
              "      filter: drop-shadow(0px 1px 2px rgba(0, 0, 0, 0.3));\n",
              "      fill: #FFFFFF;\n",
              "    }\n",
              "  </style>\n",
              "\n",
              "      <script>\n",
              "        const buttonEl =\n",
              "          document.querySelector('#df-6c927665-bd7b-4146-a07f-4403294b50fb button.colab-df-convert');\n",
              "        buttonEl.style.display =\n",
              "          google.colab.kernel.accessAllowed ? 'block' : 'none';\n",
              "\n",
              "        async function convertToInteractive(key) {\n",
              "          const element = document.querySelector('#df-6c927665-bd7b-4146-a07f-4403294b50fb');\n",
              "          const dataTable =\n",
              "            await google.colab.kernel.invokeFunction('convertToInteractive',\n",
              "                                                     [key], {});\n",
              "          if (!dataTable) return;\n",
              "\n",
              "          const docLinkHtml = 'Like what you see? Visit the ' +\n",
              "            '<a target=\"_blank\" href=https://colab.research.google.com/notebooks/data_table.ipynb>data table notebook</a>'\n",
              "            + ' to learn more about interactive tables.';\n",
              "          element.innerHTML = '';\n",
              "          dataTable['output_type'] = 'display_data';\n",
              "          await google.colab.output.renderOutput(dataTable, element);\n",
              "          const docLink = document.createElement('div');\n",
              "          docLink.innerHTML = docLinkHtml;\n",
              "          element.appendChild(docLink);\n",
              "        }\n",
              "      </script>\n",
              "    </div>\n",
              "  </div>\n",
              "  "
            ]
          },
          "metadata": {},
          "execution_count": 5
        }
      ],
      "source": [
        "# Exploramos los datos\n",
        "df.sort_values('Codigo').head(6)"
      ]
    },
    {
      "cell_type": "markdown",
      "metadata": {
        "id": "XKjpkvORLgGj"
      },
      "source": [
        "Noten que en este conjunto de datos, al parecer la base está duplicada. Los municipios figuran dos veces, una vez con el código de provincia en NaN y otra vez con el código de provincia informado. Los valores de paro y población son muy cercanos en todos los casos, así que podemos considerarlas cercanas en el tiempo."
      ]
    },
    {
      "cell_type": "code",
      "execution_count": 6,
      "metadata": {
        "id": "tn5jVAHNLgGk"
      },
      "outputs": [],
      "source": [
        "#Borramos los datos nulos y sobreescribimos el dataset:\n",
        "df = df[df['PAD_1_COD_PROV'].notnull()].copy()"
      ]
    },
    {
      "cell_type": "markdown",
      "metadata": {
        "id": "0Umj_QaaLgGl"
      },
      "source": [
        "## Niveles de Agregación\n",
        "\n",
        "Además de los municipios (identificados por la variable Código), tenemos dos niveles de agregación geográfica, la provincia (Cod_Prov) y la comunidad autónoma (Cod_CAA).\n",
        "\n",
        "Veamos qué valores toman y cómo se combinan.\n"
      ]
    },
    {
      "cell_type": "code",
      "execution_count": 7,
      "metadata": {
        "colab": {
          "base_uri": "https://localhost:8080/"
        },
        "id": "BMOdtzZ1LgGl",
        "outputId": "5833a257-91d7-4d3c-b006-2530650c2ee6"
      },
      "outputs": [
        {
          "output_type": "execute_result",
          "data": {
            "text/plain": [
              "7     2248\n",
              "9      947\n",
              "8      919\n",
              "1      778\n",
              "2      731\n",
              "10     542\n",
              "11     388\n",
              "12     314\n",
              "15     272\n",
              "16     251\n",
              "13     179\n",
              "17     174\n",
              "6      102\n",
              "5       88\n",
              "3       78\n",
              "4       67\n",
              "14      45\n",
              "18       1\n",
              "19       1\n",
              "Name: Cod_CCAA, dtype: int64"
            ]
          },
          "metadata": {},
          "execution_count": 7
        }
      ],
      "source": [
        "# ¿Cuántos municipios tiene cada comunidad? ¿Hay alguno que no tenga CCAA asociada?\n",
        "df['Cod_CCAA'].value_counts(dropna=False)"
      ]
    },
    {
      "cell_type": "code",
      "execution_count": 8,
      "metadata": {
        "colab": {
          "base_uri": "https://localhost:8080/"
        },
        "id": "IT3DR59dLgGm",
        "outputId": "b3d49998-59e5-4a0e-f11e-f56309baa7a5"
      },
      "outputs": [
        {
          "output_type": "execute_result",
          "data": {
            "text/plain": [
              "19"
            ]
          },
          "metadata": {},
          "execution_count": 8
        }
      ],
      "source": [
        "# ¿Cuántas CCAA hay?\n",
        "len(df['Cod_CCAA'].unique())"
      ]
    },
    {
      "cell_type": "code",
      "execution_count": 9,
      "metadata": {
        "colab": {
          "base_uri": "https://localhost:8080/"
        },
        "id": "2k-0lPSxLgGm",
        "outputId": "0ff209c3-68dc-41ec-d65f-698ce4f39f3d"
      },
      "outputs": [
        {
          "output_type": "execute_result",
          "data": {
            "text/plain": [
              "9     371\n",
              "37    362\n",
              "8     311\n",
              "50    293\n",
              "19    288\n",
              "31    272\n",
              "46    266\n",
              "5     248\n",
              "49    248\n",
              "16    238\n",
              "44    236\n",
              "25    231\n",
              "47    225\n",
              "10    223\n",
              "17    221\n",
              "24    211\n",
              "40    209\n",
              "45    204\n",
              "22    202\n",
              "34    191\n",
              "43    184\n",
              "42    183\n",
              "28    179\n",
              "26    174\n",
              "18    172\n",
              "6     165\n",
              "3     141\n",
              "12    135\n",
              "48    112\n",
              "41    105\n",
              "4     103\n",
              "29    103\n",
              "39    102\n",
              "13    102\n",
              "23     97\n",
              "15     93\n",
              "32     92\n",
              "20     88\n",
              "2      87\n",
              "21     79\n",
              "33     78\n",
              "14     75\n",
              "7      67\n",
              "27     67\n",
              "36     62\n",
              "38     54\n",
              "1      51\n",
              "30     45\n",
              "11     44\n",
              "35     34\n",
              "51      1\n",
              "52      1\n",
              "Name: Cod_Prov, dtype: int64"
            ]
          },
          "metadata": {},
          "execution_count": 9
        }
      ],
      "source": [
        "# ¿Cuántos municipios tiene cada provincia? ¿Hay alguno que no tenga provincia asociada?\n",
        "df['Cod_Prov'].value_counts(dropna=False)"
      ]
    },
    {
      "cell_type": "code",
      "execution_count": 10,
      "metadata": {
        "colab": {
          "base_uri": "https://localhost:8080/"
        },
        "id": "BJsIrrDdLgGn",
        "outputId": "19d2df8d-1254-4699-ddd3-9fb6c02eefc9"
      },
      "outputs": [
        {
          "output_type": "execute_result",
          "data": {
            "text/plain": [
              "52"
            ]
          },
          "metadata": {},
          "execution_count": 10
        }
      ],
      "source": [
        "# ¿Cuántas provincias hay?\n",
        "len(df['Cod_Prov'].unique())"
      ]
    },
    {
      "cell_type": "code",
      "execution_count": 11,
      "metadata": {
        "colab": {
          "base_uri": "https://localhost:8080/",
          "height": 1000
        },
        "id": "4_eS59enLgGo",
        "outputId": "1e1bae25-30ec-458a-cf75-cda18920ce7d"
      },
      "outputs": [
        {
          "output_type": "execute_result",
          "data": {
            "text/plain": [
              "      Cod_CCAA  Cod_Prov\n",
              "0           16         1\n",
              "51           8         2\n",
              "138         10         3\n",
              "279          1         4\n",
              "382          7         5\n",
              "630         11         6\n",
              "795          4         7\n",
              "862          9         8\n",
              "1173         7         9\n",
              "1544        11        10\n",
              "1767         1        11\n",
              "1811        10        12\n",
              "1946         8        13\n",
              "2048         1        14\n",
              "2123        12        15\n",
              "2216         8        16\n",
              "2454         9        17\n",
              "2675         1        18\n",
              "2847         8        19\n",
              "3135        16        20\n",
              "3223         1        21\n",
              "3302         2        22\n",
              "3504         1        23\n",
              "3601         7        24\n",
              "3812         9        25\n",
              "4043        17        26\n",
              "4217        12        27\n",
              "4284        13        28\n",
              "4463         1        29\n",
              "4566        14        30\n",
              "4611        15        31\n",
              "4928        12        32\n",
              "5020         3        33\n",
              "5098         7        34\n",
              "5289         5        35\n",
              "5323        12        36\n",
              "5385         7        37\n",
              "5747         5        38\n",
              "5801         6        39\n",
              "5903         7        40\n",
              "6112         1        41\n",
              "6217         7        42\n",
              "6400         9        43\n",
              "6584         2        44\n",
              "6820         8        45\n",
              "7024        10        46\n",
              "7290         7        47\n",
              "7515        16        48\n",
              "7627         7        49\n",
              "7875         2        50\n",
              "8168        18        51\n",
              "8169        19        52"
            ],
            "text/html": [
              "\n",
              "  <div id=\"df-e1cc7417-1f92-4759-b780-f63d03ec692e\">\n",
              "    <div class=\"colab-df-container\">\n",
              "      <div>\n",
              "<style scoped>\n",
              "    .dataframe tbody tr th:only-of-type {\n",
              "        vertical-align: middle;\n",
              "    }\n",
              "\n",
              "    .dataframe tbody tr th {\n",
              "        vertical-align: top;\n",
              "    }\n",
              "\n",
              "    .dataframe thead th {\n",
              "        text-align: right;\n",
              "    }\n",
              "</style>\n",
              "<table border=\"1\" class=\"dataframe\">\n",
              "  <thead>\n",
              "    <tr style=\"text-align: right;\">\n",
              "      <th></th>\n",
              "      <th>Cod_CCAA</th>\n",
              "      <th>Cod_Prov</th>\n",
              "    </tr>\n",
              "  </thead>\n",
              "  <tbody>\n",
              "    <tr>\n",
              "      <th>0</th>\n",
              "      <td>16</td>\n",
              "      <td>1</td>\n",
              "    </tr>\n",
              "    <tr>\n",
              "      <th>51</th>\n",
              "      <td>8</td>\n",
              "      <td>2</td>\n",
              "    </tr>\n",
              "    <tr>\n",
              "      <th>138</th>\n",
              "      <td>10</td>\n",
              "      <td>3</td>\n",
              "    </tr>\n",
              "    <tr>\n",
              "      <th>279</th>\n",
              "      <td>1</td>\n",
              "      <td>4</td>\n",
              "    </tr>\n",
              "    <tr>\n",
              "      <th>382</th>\n",
              "      <td>7</td>\n",
              "      <td>5</td>\n",
              "    </tr>\n",
              "    <tr>\n",
              "      <th>630</th>\n",
              "      <td>11</td>\n",
              "      <td>6</td>\n",
              "    </tr>\n",
              "    <tr>\n",
              "      <th>795</th>\n",
              "      <td>4</td>\n",
              "      <td>7</td>\n",
              "    </tr>\n",
              "    <tr>\n",
              "      <th>862</th>\n",
              "      <td>9</td>\n",
              "      <td>8</td>\n",
              "    </tr>\n",
              "    <tr>\n",
              "      <th>1173</th>\n",
              "      <td>7</td>\n",
              "      <td>9</td>\n",
              "    </tr>\n",
              "    <tr>\n",
              "      <th>1544</th>\n",
              "      <td>11</td>\n",
              "      <td>10</td>\n",
              "    </tr>\n",
              "    <tr>\n",
              "      <th>1767</th>\n",
              "      <td>1</td>\n",
              "      <td>11</td>\n",
              "    </tr>\n",
              "    <tr>\n",
              "      <th>1811</th>\n",
              "      <td>10</td>\n",
              "      <td>12</td>\n",
              "    </tr>\n",
              "    <tr>\n",
              "      <th>1946</th>\n",
              "      <td>8</td>\n",
              "      <td>13</td>\n",
              "    </tr>\n",
              "    <tr>\n",
              "      <th>2048</th>\n",
              "      <td>1</td>\n",
              "      <td>14</td>\n",
              "    </tr>\n",
              "    <tr>\n",
              "      <th>2123</th>\n",
              "      <td>12</td>\n",
              "      <td>15</td>\n",
              "    </tr>\n",
              "    <tr>\n",
              "      <th>2216</th>\n",
              "      <td>8</td>\n",
              "      <td>16</td>\n",
              "    </tr>\n",
              "    <tr>\n",
              "      <th>2454</th>\n",
              "      <td>9</td>\n",
              "      <td>17</td>\n",
              "    </tr>\n",
              "    <tr>\n",
              "      <th>2675</th>\n",
              "      <td>1</td>\n",
              "      <td>18</td>\n",
              "    </tr>\n",
              "    <tr>\n",
              "      <th>2847</th>\n",
              "      <td>8</td>\n",
              "      <td>19</td>\n",
              "    </tr>\n",
              "    <tr>\n",
              "      <th>3135</th>\n",
              "      <td>16</td>\n",
              "      <td>20</td>\n",
              "    </tr>\n",
              "    <tr>\n",
              "      <th>3223</th>\n",
              "      <td>1</td>\n",
              "      <td>21</td>\n",
              "    </tr>\n",
              "    <tr>\n",
              "      <th>3302</th>\n",
              "      <td>2</td>\n",
              "      <td>22</td>\n",
              "    </tr>\n",
              "    <tr>\n",
              "      <th>3504</th>\n",
              "      <td>1</td>\n",
              "      <td>23</td>\n",
              "    </tr>\n",
              "    <tr>\n",
              "      <th>3601</th>\n",
              "      <td>7</td>\n",
              "      <td>24</td>\n",
              "    </tr>\n",
              "    <tr>\n",
              "      <th>3812</th>\n",
              "      <td>9</td>\n",
              "      <td>25</td>\n",
              "    </tr>\n",
              "    <tr>\n",
              "      <th>4043</th>\n",
              "      <td>17</td>\n",
              "      <td>26</td>\n",
              "    </tr>\n",
              "    <tr>\n",
              "      <th>4217</th>\n",
              "      <td>12</td>\n",
              "      <td>27</td>\n",
              "    </tr>\n",
              "    <tr>\n",
              "      <th>4284</th>\n",
              "      <td>13</td>\n",
              "      <td>28</td>\n",
              "    </tr>\n",
              "    <tr>\n",
              "      <th>4463</th>\n",
              "      <td>1</td>\n",
              "      <td>29</td>\n",
              "    </tr>\n",
              "    <tr>\n",
              "      <th>4566</th>\n",
              "      <td>14</td>\n",
              "      <td>30</td>\n",
              "    </tr>\n",
              "    <tr>\n",
              "      <th>4611</th>\n",
              "      <td>15</td>\n",
              "      <td>31</td>\n",
              "    </tr>\n",
              "    <tr>\n",
              "      <th>4928</th>\n",
              "      <td>12</td>\n",
              "      <td>32</td>\n",
              "    </tr>\n",
              "    <tr>\n",
              "      <th>5020</th>\n",
              "      <td>3</td>\n",
              "      <td>33</td>\n",
              "    </tr>\n",
              "    <tr>\n",
              "      <th>5098</th>\n",
              "      <td>7</td>\n",
              "      <td>34</td>\n",
              "    </tr>\n",
              "    <tr>\n",
              "      <th>5289</th>\n",
              "      <td>5</td>\n",
              "      <td>35</td>\n",
              "    </tr>\n",
              "    <tr>\n",
              "      <th>5323</th>\n",
              "      <td>12</td>\n",
              "      <td>36</td>\n",
              "    </tr>\n",
              "    <tr>\n",
              "      <th>5385</th>\n",
              "      <td>7</td>\n",
              "      <td>37</td>\n",
              "    </tr>\n",
              "    <tr>\n",
              "      <th>5747</th>\n",
              "      <td>5</td>\n",
              "      <td>38</td>\n",
              "    </tr>\n",
              "    <tr>\n",
              "      <th>5801</th>\n",
              "      <td>6</td>\n",
              "      <td>39</td>\n",
              "    </tr>\n",
              "    <tr>\n",
              "      <th>5903</th>\n",
              "      <td>7</td>\n",
              "      <td>40</td>\n",
              "    </tr>\n",
              "    <tr>\n",
              "      <th>6112</th>\n",
              "      <td>1</td>\n",
              "      <td>41</td>\n",
              "    </tr>\n",
              "    <tr>\n",
              "      <th>6217</th>\n",
              "      <td>7</td>\n",
              "      <td>42</td>\n",
              "    </tr>\n",
              "    <tr>\n",
              "      <th>6400</th>\n",
              "      <td>9</td>\n",
              "      <td>43</td>\n",
              "    </tr>\n",
              "    <tr>\n",
              "      <th>6584</th>\n",
              "      <td>2</td>\n",
              "      <td>44</td>\n",
              "    </tr>\n",
              "    <tr>\n",
              "      <th>6820</th>\n",
              "      <td>8</td>\n",
              "      <td>45</td>\n",
              "    </tr>\n",
              "    <tr>\n",
              "      <th>7024</th>\n",
              "      <td>10</td>\n",
              "      <td>46</td>\n",
              "    </tr>\n",
              "    <tr>\n",
              "      <th>7290</th>\n",
              "      <td>7</td>\n",
              "      <td>47</td>\n",
              "    </tr>\n",
              "    <tr>\n",
              "      <th>7515</th>\n",
              "      <td>16</td>\n",
              "      <td>48</td>\n",
              "    </tr>\n",
              "    <tr>\n",
              "      <th>7627</th>\n",
              "      <td>7</td>\n",
              "      <td>49</td>\n",
              "    </tr>\n",
              "    <tr>\n",
              "      <th>7875</th>\n",
              "      <td>2</td>\n",
              "      <td>50</td>\n",
              "    </tr>\n",
              "    <tr>\n",
              "      <th>8168</th>\n",
              "      <td>18</td>\n",
              "      <td>51</td>\n",
              "    </tr>\n",
              "    <tr>\n",
              "      <th>8169</th>\n",
              "      <td>19</td>\n",
              "      <td>52</td>\n",
              "    </tr>\n",
              "  </tbody>\n",
              "</table>\n",
              "</div>\n",
              "      <button class=\"colab-df-convert\" onclick=\"convertToInteractive('df-e1cc7417-1f92-4759-b780-f63d03ec692e')\"\n",
              "              title=\"Convert this dataframe to an interactive table.\"\n",
              "              style=\"display:none;\">\n",
              "        \n",
              "  <svg xmlns=\"http://www.w3.org/2000/svg\" height=\"24px\"viewBox=\"0 0 24 24\"\n",
              "       width=\"24px\">\n",
              "    <path d=\"M0 0h24v24H0V0z\" fill=\"none\"/>\n",
              "    <path d=\"M18.56 5.44l.94 2.06.94-2.06 2.06-.94-2.06-.94-.94-2.06-.94 2.06-2.06.94zm-11 1L8.5 8.5l.94-2.06 2.06-.94-2.06-.94L8.5 2.5l-.94 2.06-2.06.94zm10 10l.94 2.06.94-2.06 2.06-.94-2.06-.94-.94-2.06-.94 2.06-2.06.94z\"/><path d=\"M17.41 7.96l-1.37-1.37c-.4-.4-.92-.59-1.43-.59-.52 0-1.04.2-1.43.59L10.3 9.45l-7.72 7.72c-.78.78-.78 2.05 0 2.83L4 21.41c.39.39.9.59 1.41.59.51 0 1.02-.2 1.41-.59l7.78-7.78 2.81-2.81c.8-.78.8-2.07 0-2.86zM5.41 20L4 18.59l7.72-7.72 1.47 1.35L5.41 20z\"/>\n",
              "  </svg>\n",
              "      </button>\n",
              "      \n",
              "  <style>\n",
              "    .colab-df-container {\n",
              "      display:flex;\n",
              "      flex-wrap:wrap;\n",
              "      gap: 12px;\n",
              "    }\n",
              "\n",
              "    .colab-df-convert {\n",
              "      background-color: #E8F0FE;\n",
              "      border: none;\n",
              "      border-radius: 50%;\n",
              "      cursor: pointer;\n",
              "      display: none;\n",
              "      fill: #1967D2;\n",
              "      height: 32px;\n",
              "      padding: 0 0 0 0;\n",
              "      width: 32px;\n",
              "    }\n",
              "\n",
              "    .colab-df-convert:hover {\n",
              "      background-color: #E2EBFA;\n",
              "      box-shadow: 0px 1px 2px rgba(60, 64, 67, 0.3), 0px 1px 3px 1px rgba(60, 64, 67, 0.15);\n",
              "      fill: #174EA6;\n",
              "    }\n",
              "\n",
              "    [theme=dark] .colab-df-convert {\n",
              "      background-color: #3B4455;\n",
              "      fill: #D2E3FC;\n",
              "    }\n",
              "\n",
              "    [theme=dark] .colab-df-convert:hover {\n",
              "      background-color: #434B5C;\n",
              "      box-shadow: 0px 1px 3px 1px rgba(0, 0, 0, 0.15);\n",
              "      filter: drop-shadow(0px 1px 2px rgba(0, 0, 0, 0.3));\n",
              "      fill: #FFFFFF;\n",
              "    }\n",
              "  </style>\n",
              "\n",
              "      <script>\n",
              "        const buttonEl =\n",
              "          document.querySelector('#df-e1cc7417-1f92-4759-b780-f63d03ec692e button.colab-df-convert');\n",
              "        buttonEl.style.display =\n",
              "          google.colab.kernel.accessAllowed ? 'block' : 'none';\n",
              "\n",
              "        async function convertToInteractive(key) {\n",
              "          const element = document.querySelector('#df-e1cc7417-1f92-4759-b780-f63d03ec692e');\n",
              "          const dataTable =\n",
              "            await google.colab.kernel.invokeFunction('convertToInteractive',\n",
              "                                                     [key], {});\n",
              "          if (!dataTable) return;\n",
              "\n",
              "          const docLinkHtml = 'Like what you see? Visit the ' +\n",
              "            '<a target=\"_blank\" href=https://colab.research.google.com/notebooks/data_table.ipynb>data table notebook</a>'\n",
              "            + ' to learn more about interactive tables.';\n",
              "          element.innerHTML = '';\n",
              "          dataTable['output_type'] = 'display_data';\n",
              "          await google.colab.output.renderOutput(dataTable, element);\n",
              "          const docLink = document.createElement('div');\n",
              "          docLink.innerHTML = docLinkHtml;\n",
              "          element.appendChild(docLink);\n",
              "        }\n",
              "      </script>\n",
              "    </div>\n",
              "  </div>\n",
              "  "
            ]
          },
          "metadata": {},
          "execution_count": 11
        }
      ],
      "source": [
        "# ¿Hay alguna provincia que tenga más de una CCAA asociada?\n",
        "df[['Cod_CCAA','Cod_Prov']].drop_duplicates().sort_values('Cod_Prov')"
      ]
    },
    {
      "cell_type": "markdown",
      "metadata": {
        "id": "JdwVDfNmLgGo"
      },
      "source": [
        "## Buscando valores nulos\n",
        "\n",
        "Ahora queremos filtrar todas las filas del DataFrame que contengan algún valor nulo, para analizar en detalle por qué existe ese valor faltante y si vamos a querer completarlo o descartarlo.\n",
        "\n",
        "El método df.isnull() devuelve un DataFrame del mismo tamaño que el original, pero en lugar de los valores devuelve True si había un NaN y False si no lo había. "
      ]
    },
    {
      "cell_type": "code",
      "execution_count": 12,
      "metadata": {
        "colab": {
          "base_uri": "https://localhost:8080/",
          "height": 207
        },
        "id": "n7d3QIwULgGp",
        "outputId": "1b6b9542-d669-4fcf-b688-c4a9f4acea61"
      },
      "outputs": [
        {
          "output_type": "execute_result",
          "data": {
            "text/plain": [
              "   OBJECTID  Codigo  Texto  Cod_Prov  Cod_CCAA  TotalParoRegistrado  PAD_1C02  \\\n",
              "0     False   False  False     False     False                False     False   \n",
              "1     False   False  False     False     False                False     False   \n",
              "2     False   False  False     False     False                False     False   \n",
              "\n",
              "   PAD_1_COD_PROV  PAD_1_COD_CCAA  Shape__Area  Shape__Length  Codigop  \n",
              "0           False           False        False          False    False  \n",
              "1           False           False        False          False    False  \n",
              "2           False           False        False          False    False  "
            ],
            "text/html": [
              "\n",
              "  <div id=\"df-d46a85c6-6ecb-4296-84e7-af0ee285e6d3\">\n",
              "    <div class=\"colab-df-container\">\n",
              "      <div>\n",
              "<style scoped>\n",
              "    .dataframe tbody tr th:only-of-type {\n",
              "        vertical-align: middle;\n",
              "    }\n",
              "\n",
              "    .dataframe tbody tr th {\n",
              "        vertical-align: top;\n",
              "    }\n",
              "\n",
              "    .dataframe thead th {\n",
              "        text-align: right;\n",
              "    }\n",
              "</style>\n",
              "<table border=\"1\" class=\"dataframe\">\n",
              "  <thead>\n",
              "    <tr style=\"text-align: right;\">\n",
              "      <th></th>\n",
              "      <th>OBJECTID</th>\n",
              "      <th>Codigo</th>\n",
              "      <th>Texto</th>\n",
              "      <th>Cod_Prov</th>\n",
              "      <th>Cod_CCAA</th>\n",
              "      <th>TotalParoRegistrado</th>\n",
              "      <th>PAD_1C02</th>\n",
              "      <th>PAD_1_COD_PROV</th>\n",
              "      <th>PAD_1_COD_CCAA</th>\n",
              "      <th>Shape__Area</th>\n",
              "      <th>Shape__Length</th>\n",
              "      <th>Codigop</th>\n",
              "    </tr>\n",
              "  </thead>\n",
              "  <tbody>\n",
              "    <tr>\n",
              "      <th>0</th>\n",
              "      <td>False</td>\n",
              "      <td>False</td>\n",
              "      <td>False</td>\n",
              "      <td>False</td>\n",
              "      <td>False</td>\n",
              "      <td>False</td>\n",
              "      <td>False</td>\n",
              "      <td>False</td>\n",
              "      <td>False</td>\n",
              "      <td>False</td>\n",
              "      <td>False</td>\n",
              "      <td>False</td>\n",
              "    </tr>\n",
              "    <tr>\n",
              "      <th>1</th>\n",
              "      <td>False</td>\n",
              "      <td>False</td>\n",
              "      <td>False</td>\n",
              "      <td>False</td>\n",
              "      <td>False</td>\n",
              "      <td>False</td>\n",
              "      <td>False</td>\n",
              "      <td>False</td>\n",
              "      <td>False</td>\n",
              "      <td>False</td>\n",
              "      <td>False</td>\n",
              "      <td>False</td>\n",
              "    </tr>\n",
              "    <tr>\n",
              "      <th>2</th>\n",
              "      <td>False</td>\n",
              "      <td>False</td>\n",
              "      <td>False</td>\n",
              "      <td>False</td>\n",
              "      <td>False</td>\n",
              "      <td>False</td>\n",
              "      <td>False</td>\n",
              "      <td>False</td>\n",
              "      <td>False</td>\n",
              "      <td>False</td>\n",
              "      <td>False</td>\n",
              "      <td>False</td>\n",
              "    </tr>\n",
              "  </tbody>\n",
              "</table>\n",
              "</div>\n",
              "      <button class=\"colab-df-convert\" onclick=\"convertToInteractive('df-d46a85c6-6ecb-4296-84e7-af0ee285e6d3')\"\n",
              "              title=\"Convert this dataframe to an interactive table.\"\n",
              "              style=\"display:none;\">\n",
              "        \n",
              "  <svg xmlns=\"http://www.w3.org/2000/svg\" height=\"24px\"viewBox=\"0 0 24 24\"\n",
              "       width=\"24px\">\n",
              "    <path d=\"M0 0h24v24H0V0z\" fill=\"none\"/>\n",
              "    <path d=\"M18.56 5.44l.94 2.06.94-2.06 2.06-.94-2.06-.94-.94-2.06-.94 2.06-2.06.94zm-11 1L8.5 8.5l.94-2.06 2.06-.94-2.06-.94L8.5 2.5l-.94 2.06-2.06.94zm10 10l.94 2.06.94-2.06 2.06-.94-2.06-.94-.94-2.06-.94 2.06-2.06.94z\"/><path d=\"M17.41 7.96l-1.37-1.37c-.4-.4-.92-.59-1.43-.59-.52 0-1.04.2-1.43.59L10.3 9.45l-7.72 7.72c-.78.78-.78 2.05 0 2.83L4 21.41c.39.39.9.59 1.41.59.51 0 1.02-.2 1.41-.59l7.78-7.78 2.81-2.81c.8-.78.8-2.07 0-2.86zM5.41 20L4 18.59l7.72-7.72 1.47 1.35L5.41 20z\"/>\n",
              "  </svg>\n",
              "      </button>\n",
              "      \n",
              "  <style>\n",
              "    .colab-df-container {\n",
              "      display:flex;\n",
              "      flex-wrap:wrap;\n",
              "      gap: 12px;\n",
              "    }\n",
              "\n",
              "    .colab-df-convert {\n",
              "      background-color: #E8F0FE;\n",
              "      border: none;\n",
              "      border-radius: 50%;\n",
              "      cursor: pointer;\n",
              "      display: none;\n",
              "      fill: #1967D2;\n",
              "      height: 32px;\n",
              "      padding: 0 0 0 0;\n",
              "      width: 32px;\n",
              "    }\n",
              "\n",
              "    .colab-df-convert:hover {\n",
              "      background-color: #E2EBFA;\n",
              "      box-shadow: 0px 1px 2px rgba(60, 64, 67, 0.3), 0px 1px 3px 1px rgba(60, 64, 67, 0.15);\n",
              "      fill: #174EA6;\n",
              "    }\n",
              "\n",
              "    [theme=dark] .colab-df-convert {\n",
              "      background-color: #3B4455;\n",
              "      fill: #D2E3FC;\n",
              "    }\n",
              "\n",
              "    [theme=dark] .colab-df-convert:hover {\n",
              "      background-color: #434B5C;\n",
              "      box-shadow: 0px 1px 3px 1px rgba(0, 0, 0, 0.15);\n",
              "      filter: drop-shadow(0px 1px 2px rgba(0, 0, 0, 0.3));\n",
              "      fill: #FFFFFF;\n",
              "    }\n",
              "  </style>\n",
              "\n",
              "      <script>\n",
              "        const buttonEl =\n",
              "          document.querySelector('#df-d46a85c6-6ecb-4296-84e7-af0ee285e6d3 button.colab-df-convert');\n",
              "        buttonEl.style.display =\n",
              "          google.colab.kernel.accessAllowed ? 'block' : 'none';\n",
              "\n",
              "        async function convertToInteractive(key) {\n",
              "          const element = document.querySelector('#df-d46a85c6-6ecb-4296-84e7-af0ee285e6d3');\n",
              "          const dataTable =\n",
              "            await google.colab.kernel.invokeFunction('convertToInteractive',\n",
              "                                                     [key], {});\n",
              "          if (!dataTable) return;\n",
              "\n",
              "          const docLinkHtml = 'Like what you see? Visit the ' +\n",
              "            '<a target=\"_blank\" href=https://colab.research.google.com/notebooks/data_table.ipynb>data table notebook</a>'\n",
              "            + ' to learn more about interactive tables.';\n",
              "          element.innerHTML = '';\n",
              "          dataTable['output_type'] = 'display_data';\n",
              "          await google.colab.output.renderOutput(dataTable, element);\n",
              "          const docLink = document.createElement('div');\n",
              "          docLink.innerHTML = docLinkHtml;\n",
              "          element.appendChild(docLink);\n",
              "        }\n",
              "      </script>\n",
              "    </div>\n",
              "  </div>\n",
              "  "
            ]
          },
          "metadata": {},
          "execution_count": 12
        }
      ],
      "source": [
        "# isnull podemos usarlo como una mascara:\n",
        "df.isnull().head(3)"
      ]
    },
    {
      "cell_type": "markdown",
      "metadata": {
        "id": "ko_YLKxvLgGp"
      },
      "source": [
        "#### Entendiendo el parámetro axis\n",
        "A continuación vamos a reducir el DataFrame de más arriba a una serie, compuesta por Booleans que indican True si hay algún valor nulo en la fila y False si no hay ninguno. La forma de reducir una serie de Booleanos es any() y el parámetro axis = 1 indica que queremos reducir el DataFrame aplicando la función de manera horizontal, probando todos los valores del eje y. \n",
        " \n"
      ]
    },
    {
      "cell_type": "code",
      "execution_count": 13,
      "metadata": {
        "colab": {
          "base_uri": "https://localhost:8080/",
          "height": 179
        },
        "id": "HLRSUMTuLgGq",
        "outputId": "081b80c7-f6b0-44a9-867b-b75336788ecc"
      },
      "outputs": [
        {
          "output_type": "execute_result",
          "data": {
            "text/plain": [
              "      OBJECTID  Codigo                      Texto  Cod_Prov  Cod_CCAA  \\\n",
              "1766      1767   10905  Pueblonuevo de Miramontes        10        11   \n",
              "\n",
              "      TotalParoRegistrado  PAD_1C02 PAD_1_COD_PROV  PAD_1_COD_CCAA  \\\n",
              "1766                  NaN     830.0        Cáceres            11.0   \n",
              "\n",
              "       Shape__Area  Shape__Length  Codigop  \n",
              "1766  3.979055e+07   34532.621933     10.0  "
            ],
            "text/html": [
              "\n",
              "  <div id=\"df-7796abb4-db5d-4c75-ae03-61372d4f9e8b\">\n",
              "    <div class=\"colab-df-container\">\n",
              "      <div>\n",
              "<style scoped>\n",
              "    .dataframe tbody tr th:only-of-type {\n",
              "        vertical-align: middle;\n",
              "    }\n",
              "\n",
              "    .dataframe tbody tr th {\n",
              "        vertical-align: top;\n",
              "    }\n",
              "\n",
              "    .dataframe thead th {\n",
              "        text-align: right;\n",
              "    }\n",
              "</style>\n",
              "<table border=\"1\" class=\"dataframe\">\n",
              "  <thead>\n",
              "    <tr style=\"text-align: right;\">\n",
              "      <th></th>\n",
              "      <th>OBJECTID</th>\n",
              "      <th>Codigo</th>\n",
              "      <th>Texto</th>\n",
              "      <th>Cod_Prov</th>\n",
              "      <th>Cod_CCAA</th>\n",
              "      <th>TotalParoRegistrado</th>\n",
              "      <th>PAD_1C02</th>\n",
              "      <th>PAD_1_COD_PROV</th>\n",
              "      <th>PAD_1_COD_CCAA</th>\n",
              "      <th>Shape__Area</th>\n",
              "      <th>Shape__Length</th>\n",
              "      <th>Codigop</th>\n",
              "    </tr>\n",
              "  </thead>\n",
              "  <tbody>\n",
              "    <tr>\n",
              "      <th>1766</th>\n",
              "      <td>1767</td>\n",
              "      <td>10905</td>\n",
              "      <td>Pueblonuevo de Miramontes</td>\n",
              "      <td>10</td>\n",
              "      <td>11</td>\n",
              "      <td>NaN</td>\n",
              "      <td>830.0</td>\n",
              "      <td>Cáceres</td>\n",
              "      <td>11.0</td>\n",
              "      <td>3.979055e+07</td>\n",
              "      <td>34532.621933</td>\n",
              "      <td>10.0</td>\n",
              "    </tr>\n",
              "  </tbody>\n",
              "</table>\n",
              "</div>\n",
              "      <button class=\"colab-df-convert\" onclick=\"convertToInteractive('df-7796abb4-db5d-4c75-ae03-61372d4f9e8b')\"\n",
              "              title=\"Convert this dataframe to an interactive table.\"\n",
              "              style=\"display:none;\">\n",
              "        \n",
              "  <svg xmlns=\"http://www.w3.org/2000/svg\" height=\"24px\"viewBox=\"0 0 24 24\"\n",
              "       width=\"24px\">\n",
              "    <path d=\"M0 0h24v24H0V0z\" fill=\"none\"/>\n",
              "    <path d=\"M18.56 5.44l.94 2.06.94-2.06 2.06-.94-2.06-.94-.94-2.06-.94 2.06-2.06.94zm-11 1L8.5 8.5l.94-2.06 2.06-.94-2.06-.94L8.5 2.5l-.94 2.06-2.06.94zm10 10l.94 2.06.94-2.06 2.06-.94-2.06-.94-.94-2.06-.94 2.06-2.06.94z\"/><path d=\"M17.41 7.96l-1.37-1.37c-.4-.4-.92-.59-1.43-.59-.52 0-1.04.2-1.43.59L10.3 9.45l-7.72 7.72c-.78.78-.78 2.05 0 2.83L4 21.41c.39.39.9.59 1.41.59.51 0 1.02-.2 1.41-.59l7.78-7.78 2.81-2.81c.8-.78.8-2.07 0-2.86zM5.41 20L4 18.59l7.72-7.72 1.47 1.35L5.41 20z\"/>\n",
              "  </svg>\n",
              "      </button>\n",
              "      \n",
              "  <style>\n",
              "    .colab-df-container {\n",
              "      display:flex;\n",
              "      flex-wrap:wrap;\n",
              "      gap: 12px;\n",
              "    }\n",
              "\n",
              "    .colab-df-convert {\n",
              "      background-color: #E8F0FE;\n",
              "      border: none;\n",
              "      border-radius: 50%;\n",
              "      cursor: pointer;\n",
              "      display: none;\n",
              "      fill: #1967D2;\n",
              "      height: 32px;\n",
              "      padding: 0 0 0 0;\n",
              "      width: 32px;\n",
              "    }\n",
              "\n",
              "    .colab-df-convert:hover {\n",
              "      background-color: #E2EBFA;\n",
              "      box-shadow: 0px 1px 2px rgba(60, 64, 67, 0.3), 0px 1px 3px 1px rgba(60, 64, 67, 0.15);\n",
              "      fill: #174EA6;\n",
              "    }\n",
              "\n",
              "    [theme=dark] .colab-df-convert {\n",
              "      background-color: #3B4455;\n",
              "      fill: #D2E3FC;\n",
              "    }\n",
              "\n",
              "    [theme=dark] .colab-df-convert:hover {\n",
              "      background-color: #434B5C;\n",
              "      box-shadow: 0px 1px 3px 1px rgba(0, 0, 0, 0.15);\n",
              "      filter: drop-shadow(0px 1px 2px rgba(0, 0, 0, 0.3));\n",
              "      fill: #FFFFFF;\n",
              "    }\n",
              "  </style>\n",
              "\n",
              "      <script>\n",
              "        const buttonEl =\n",
              "          document.querySelector('#df-7796abb4-db5d-4c75-ae03-61372d4f9e8b button.colab-df-convert');\n",
              "        buttonEl.style.display =\n",
              "          google.colab.kernel.accessAllowed ? 'block' : 'none';\n",
              "\n",
              "        async function convertToInteractive(key) {\n",
              "          const element = document.querySelector('#df-7796abb4-db5d-4c75-ae03-61372d4f9e8b');\n",
              "          const dataTable =\n",
              "            await google.colab.kernel.invokeFunction('convertToInteractive',\n",
              "                                                     [key], {});\n",
              "          if (!dataTable) return;\n",
              "\n",
              "          const docLinkHtml = 'Like what you see? Visit the ' +\n",
              "            '<a target=\"_blank\" href=https://colab.research.google.com/notebooks/data_table.ipynb>data table notebook</a>'\n",
              "            + ' to learn more about interactive tables.';\n",
              "          element.innerHTML = '';\n",
              "          dataTable['output_type'] = 'display_data';\n",
              "          await google.colab.output.renderOutput(dataTable, element);\n",
              "          const docLink = document.createElement('div');\n",
              "          docLink.innerHTML = docLinkHtml;\n",
              "          element.appendChild(docLink);\n",
              "        }\n",
              "      </script>\n",
              "    </div>\n",
              "  </div>\n",
              "  "
            ]
          },
          "metadata": {},
          "execution_count": 13
        }
      ],
      "source": [
        "#Aplico por filas, veo cuantas filas hay nulas para cada columna: \n",
        "df[df.isnull().any(axis=1)]\n"
      ]
    },
    {
      "cell_type": "markdown",
      "metadata": {
        "id": "dEYjh3D9LgGq"
      },
      "source": [
        "Otro posible método para reucir es all así que una forma equivalente de lograr lo mismo es:"
      ]
    },
    {
      "cell_type": "code",
      "execution_count": 14,
      "metadata": {
        "colab": {
          "base_uri": "https://localhost:8080/",
          "height": 179
        },
        "id": "tRFGm5DDLgGr",
        "outputId": "7777cf2a-063e-4bb5-9869-f6910de25b59"
      },
      "outputs": [
        {
          "output_type": "execute_result",
          "data": {
            "text/plain": [
              "      OBJECTID  Codigo                      Texto  Cod_Prov  Cod_CCAA  \\\n",
              "1766      1767   10905  Pueblonuevo de Miramontes        10        11   \n",
              "\n",
              "      TotalParoRegistrado  PAD_1C02 PAD_1_COD_PROV  PAD_1_COD_CCAA  \\\n",
              "1766                  NaN     830.0        Cáceres            11.0   \n",
              "\n",
              "       Shape__Area  Shape__Length  Codigop  \n",
              "1766  3.979055e+07   34532.621933     10.0  "
            ],
            "text/html": [
              "\n",
              "  <div id=\"df-d31c7dc3-62e9-477c-9cb8-418182edaf31\">\n",
              "    <div class=\"colab-df-container\">\n",
              "      <div>\n",
              "<style scoped>\n",
              "    .dataframe tbody tr th:only-of-type {\n",
              "        vertical-align: middle;\n",
              "    }\n",
              "\n",
              "    .dataframe tbody tr th {\n",
              "        vertical-align: top;\n",
              "    }\n",
              "\n",
              "    .dataframe thead th {\n",
              "        text-align: right;\n",
              "    }\n",
              "</style>\n",
              "<table border=\"1\" class=\"dataframe\">\n",
              "  <thead>\n",
              "    <tr style=\"text-align: right;\">\n",
              "      <th></th>\n",
              "      <th>OBJECTID</th>\n",
              "      <th>Codigo</th>\n",
              "      <th>Texto</th>\n",
              "      <th>Cod_Prov</th>\n",
              "      <th>Cod_CCAA</th>\n",
              "      <th>TotalParoRegistrado</th>\n",
              "      <th>PAD_1C02</th>\n",
              "      <th>PAD_1_COD_PROV</th>\n",
              "      <th>PAD_1_COD_CCAA</th>\n",
              "      <th>Shape__Area</th>\n",
              "      <th>Shape__Length</th>\n",
              "      <th>Codigop</th>\n",
              "    </tr>\n",
              "  </thead>\n",
              "  <tbody>\n",
              "    <tr>\n",
              "      <th>1766</th>\n",
              "      <td>1767</td>\n",
              "      <td>10905</td>\n",
              "      <td>Pueblonuevo de Miramontes</td>\n",
              "      <td>10</td>\n",
              "      <td>11</td>\n",
              "      <td>NaN</td>\n",
              "      <td>830.0</td>\n",
              "      <td>Cáceres</td>\n",
              "      <td>11.0</td>\n",
              "      <td>3.979055e+07</td>\n",
              "      <td>34532.621933</td>\n",
              "      <td>10.0</td>\n",
              "    </tr>\n",
              "  </tbody>\n",
              "</table>\n",
              "</div>\n",
              "      <button class=\"colab-df-convert\" onclick=\"convertToInteractive('df-d31c7dc3-62e9-477c-9cb8-418182edaf31')\"\n",
              "              title=\"Convert this dataframe to an interactive table.\"\n",
              "              style=\"display:none;\">\n",
              "        \n",
              "  <svg xmlns=\"http://www.w3.org/2000/svg\" height=\"24px\"viewBox=\"0 0 24 24\"\n",
              "       width=\"24px\">\n",
              "    <path d=\"M0 0h24v24H0V0z\" fill=\"none\"/>\n",
              "    <path d=\"M18.56 5.44l.94 2.06.94-2.06 2.06-.94-2.06-.94-.94-2.06-.94 2.06-2.06.94zm-11 1L8.5 8.5l.94-2.06 2.06-.94-2.06-.94L8.5 2.5l-.94 2.06-2.06.94zm10 10l.94 2.06.94-2.06 2.06-.94-2.06-.94-.94-2.06-.94 2.06-2.06.94z\"/><path d=\"M17.41 7.96l-1.37-1.37c-.4-.4-.92-.59-1.43-.59-.52 0-1.04.2-1.43.59L10.3 9.45l-7.72 7.72c-.78.78-.78 2.05 0 2.83L4 21.41c.39.39.9.59 1.41.59.51 0 1.02-.2 1.41-.59l7.78-7.78 2.81-2.81c.8-.78.8-2.07 0-2.86zM5.41 20L4 18.59l7.72-7.72 1.47 1.35L5.41 20z\"/>\n",
              "  </svg>\n",
              "      </button>\n",
              "      \n",
              "  <style>\n",
              "    .colab-df-container {\n",
              "      display:flex;\n",
              "      flex-wrap:wrap;\n",
              "      gap: 12px;\n",
              "    }\n",
              "\n",
              "    .colab-df-convert {\n",
              "      background-color: #E8F0FE;\n",
              "      border: none;\n",
              "      border-radius: 50%;\n",
              "      cursor: pointer;\n",
              "      display: none;\n",
              "      fill: #1967D2;\n",
              "      height: 32px;\n",
              "      padding: 0 0 0 0;\n",
              "      width: 32px;\n",
              "    }\n",
              "\n",
              "    .colab-df-convert:hover {\n",
              "      background-color: #E2EBFA;\n",
              "      box-shadow: 0px 1px 2px rgba(60, 64, 67, 0.3), 0px 1px 3px 1px rgba(60, 64, 67, 0.15);\n",
              "      fill: #174EA6;\n",
              "    }\n",
              "\n",
              "    [theme=dark] .colab-df-convert {\n",
              "      background-color: #3B4455;\n",
              "      fill: #D2E3FC;\n",
              "    }\n",
              "\n",
              "    [theme=dark] .colab-df-convert:hover {\n",
              "      background-color: #434B5C;\n",
              "      box-shadow: 0px 1px 3px 1px rgba(0, 0, 0, 0.15);\n",
              "      filter: drop-shadow(0px 1px 2px rgba(0, 0, 0, 0.3));\n",
              "      fill: #FFFFFF;\n",
              "    }\n",
              "  </style>\n",
              "\n",
              "      <script>\n",
              "        const buttonEl =\n",
              "          document.querySelector('#df-d31c7dc3-62e9-477c-9cb8-418182edaf31 button.colab-df-convert');\n",
              "        buttonEl.style.display =\n",
              "          google.colab.kernel.accessAllowed ? 'block' : 'none';\n",
              "\n",
              "        async function convertToInteractive(key) {\n",
              "          const element = document.querySelector('#df-d31c7dc3-62e9-477c-9cb8-418182edaf31');\n",
              "          const dataTable =\n",
              "            await google.colab.kernel.invokeFunction('convertToInteractive',\n",
              "                                                     [key], {});\n",
              "          if (!dataTable) return;\n",
              "\n",
              "          const docLinkHtml = 'Like what you see? Visit the ' +\n",
              "            '<a target=\"_blank\" href=https://colab.research.google.com/notebooks/data_table.ipynb>data table notebook</a>'\n",
              "            + ' to learn more about interactive tables.';\n",
              "          element.innerHTML = '';\n",
              "          dataTable['output_type'] = 'display_data';\n",
              "          await google.colab.output.renderOutput(dataTable, element);\n",
              "          const docLink = document.createElement('div');\n",
              "          docLink.innerHTML = docLinkHtml;\n",
              "          element.appendChild(docLink);\n",
              "        }\n",
              "      </script>\n",
              "    </div>\n",
              "  </div>\n",
              "  "
            ]
          },
          "metadata": {},
          "execution_count": 14
        }
      ],
      "source": [
        "#Nos devolvera las filas donde no sea cierto que ningun valor es nulo\n",
        "df[~(df.notnull().all(axis=1))]\n"
      ]
    },
    {
      "cell_type": "markdown",
      "metadata": {
        "id": "LtuzCoklLgGr"
      },
      "source": [
        "¿Qué significará un TotalParoRegistrado nulo? :thinking: ¿Será equivalente a un paro de 0, algo que es posible que se de?"
      ]
    },
    {
      "cell_type": "code",
      "execution_count": 15,
      "metadata": {
        "colab": {
          "base_uri": "https://localhost:8080/",
          "height": 225
        },
        "id": "BkJV712eLgGr",
        "outputId": "4110b0aa-433c-45dc-8af9-9536eacae2e3"
      },
      "outputs": [
        {
          "output_type": "execute_result",
          "data": {
            "text/plain": [
              "      OBJECTID  Codigo              Texto  Cod_Prov  Cod_CCAA  \\\n",
              "3000      3001   19186          Mirabueno        19         8   \n",
              "6397      6398   42217         Vozmediano        42         7   \n",
              "434        435    5063  Collado del Mirón         5         7   \n",
              "\n",
              "      TotalParoRegistrado  PAD_1C02 PAD_1_COD_PROV  PAD_1_COD_CCAA  \\\n",
              "3000                  0.0      85.0    Guadalajara             8.0   \n",
              "6397                  0.0      37.0          Soria             7.0   \n",
              "434                   0.0      33.0          Ávila             7.0   \n",
              "\n",
              "       Shape__Area  Shape__Length  Codigop  \n",
              "3000  3.413004e+07   29808.213497     19.0  \n",
              "6397  2.995937e+07   22127.387755     42.0  \n",
              "434   8.394215e+06   13876.874074      5.0  "
            ],
            "text/html": [
              "\n",
              "  <div id=\"df-57e8136a-a9b3-4f74-b2a1-0611e99ff648\">\n",
              "    <div class=\"colab-df-container\">\n",
              "      <div>\n",
              "<style scoped>\n",
              "    .dataframe tbody tr th:only-of-type {\n",
              "        vertical-align: middle;\n",
              "    }\n",
              "\n",
              "    .dataframe tbody tr th {\n",
              "        vertical-align: top;\n",
              "    }\n",
              "\n",
              "    .dataframe thead th {\n",
              "        text-align: right;\n",
              "    }\n",
              "</style>\n",
              "<table border=\"1\" class=\"dataframe\">\n",
              "  <thead>\n",
              "    <tr style=\"text-align: right;\">\n",
              "      <th></th>\n",
              "      <th>OBJECTID</th>\n",
              "      <th>Codigo</th>\n",
              "      <th>Texto</th>\n",
              "      <th>Cod_Prov</th>\n",
              "      <th>Cod_CCAA</th>\n",
              "      <th>TotalParoRegistrado</th>\n",
              "      <th>PAD_1C02</th>\n",
              "      <th>PAD_1_COD_PROV</th>\n",
              "      <th>PAD_1_COD_CCAA</th>\n",
              "      <th>Shape__Area</th>\n",
              "      <th>Shape__Length</th>\n",
              "      <th>Codigop</th>\n",
              "    </tr>\n",
              "  </thead>\n",
              "  <tbody>\n",
              "    <tr>\n",
              "      <th>3000</th>\n",
              "      <td>3001</td>\n",
              "      <td>19186</td>\n",
              "      <td>Mirabueno</td>\n",
              "      <td>19</td>\n",
              "      <td>8</td>\n",
              "      <td>0.0</td>\n",
              "      <td>85.0</td>\n",
              "      <td>Guadalajara</td>\n",
              "      <td>8.0</td>\n",
              "      <td>3.413004e+07</td>\n",
              "      <td>29808.213497</td>\n",
              "      <td>19.0</td>\n",
              "    </tr>\n",
              "    <tr>\n",
              "      <th>6397</th>\n",
              "      <td>6398</td>\n",
              "      <td>42217</td>\n",
              "      <td>Vozmediano</td>\n",
              "      <td>42</td>\n",
              "      <td>7</td>\n",
              "      <td>0.0</td>\n",
              "      <td>37.0</td>\n",
              "      <td>Soria</td>\n",
              "      <td>7.0</td>\n",
              "      <td>2.995937e+07</td>\n",
              "      <td>22127.387755</td>\n",
              "      <td>42.0</td>\n",
              "    </tr>\n",
              "    <tr>\n",
              "      <th>434</th>\n",
              "      <td>435</td>\n",
              "      <td>5063</td>\n",
              "      <td>Collado del Mirón</td>\n",
              "      <td>5</td>\n",
              "      <td>7</td>\n",
              "      <td>0.0</td>\n",
              "      <td>33.0</td>\n",
              "      <td>Ávila</td>\n",
              "      <td>7.0</td>\n",
              "      <td>8.394215e+06</td>\n",
              "      <td>13876.874074</td>\n",
              "      <td>5.0</td>\n",
              "    </tr>\n",
              "  </tbody>\n",
              "</table>\n",
              "</div>\n",
              "      <button class=\"colab-df-convert\" onclick=\"convertToInteractive('df-57e8136a-a9b3-4f74-b2a1-0611e99ff648')\"\n",
              "              title=\"Convert this dataframe to an interactive table.\"\n",
              "              style=\"display:none;\">\n",
              "        \n",
              "  <svg xmlns=\"http://www.w3.org/2000/svg\" height=\"24px\"viewBox=\"0 0 24 24\"\n",
              "       width=\"24px\">\n",
              "    <path d=\"M0 0h24v24H0V0z\" fill=\"none\"/>\n",
              "    <path d=\"M18.56 5.44l.94 2.06.94-2.06 2.06-.94-2.06-.94-.94-2.06-.94 2.06-2.06.94zm-11 1L8.5 8.5l.94-2.06 2.06-.94-2.06-.94L8.5 2.5l-.94 2.06-2.06.94zm10 10l.94 2.06.94-2.06 2.06-.94-2.06-.94-.94-2.06-.94 2.06-2.06.94z\"/><path d=\"M17.41 7.96l-1.37-1.37c-.4-.4-.92-.59-1.43-.59-.52 0-1.04.2-1.43.59L10.3 9.45l-7.72 7.72c-.78.78-.78 2.05 0 2.83L4 21.41c.39.39.9.59 1.41.59.51 0 1.02-.2 1.41-.59l7.78-7.78 2.81-2.81c.8-.78.8-2.07 0-2.86zM5.41 20L4 18.59l7.72-7.72 1.47 1.35L5.41 20z\"/>\n",
              "  </svg>\n",
              "      </button>\n",
              "      \n",
              "  <style>\n",
              "    .colab-df-container {\n",
              "      display:flex;\n",
              "      flex-wrap:wrap;\n",
              "      gap: 12px;\n",
              "    }\n",
              "\n",
              "    .colab-df-convert {\n",
              "      background-color: #E8F0FE;\n",
              "      border: none;\n",
              "      border-radius: 50%;\n",
              "      cursor: pointer;\n",
              "      display: none;\n",
              "      fill: #1967D2;\n",
              "      height: 32px;\n",
              "      padding: 0 0 0 0;\n",
              "      width: 32px;\n",
              "    }\n",
              "\n",
              "    .colab-df-convert:hover {\n",
              "      background-color: #E2EBFA;\n",
              "      box-shadow: 0px 1px 2px rgba(60, 64, 67, 0.3), 0px 1px 3px 1px rgba(60, 64, 67, 0.15);\n",
              "      fill: #174EA6;\n",
              "    }\n",
              "\n",
              "    [theme=dark] .colab-df-convert {\n",
              "      background-color: #3B4455;\n",
              "      fill: #D2E3FC;\n",
              "    }\n",
              "\n",
              "    [theme=dark] .colab-df-convert:hover {\n",
              "      background-color: #434B5C;\n",
              "      box-shadow: 0px 1px 3px 1px rgba(0, 0, 0, 0.15);\n",
              "      filter: drop-shadow(0px 1px 2px rgba(0, 0, 0, 0.3));\n",
              "      fill: #FFFFFF;\n",
              "    }\n",
              "  </style>\n",
              "\n",
              "      <script>\n",
              "        const buttonEl =\n",
              "          document.querySelector('#df-57e8136a-a9b3-4f74-b2a1-0611e99ff648 button.colab-df-convert');\n",
              "        buttonEl.style.display =\n",
              "          google.colab.kernel.accessAllowed ? 'block' : 'none';\n",
              "\n",
              "        async function convertToInteractive(key) {\n",
              "          const element = document.querySelector('#df-57e8136a-a9b3-4f74-b2a1-0611e99ff648');\n",
              "          const dataTable =\n",
              "            await google.colab.kernel.invokeFunction('convertToInteractive',\n",
              "                                                     [key], {});\n",
              "          if (!dataTable) return;\n",
              "\n",
              "          const docLinkHtml = 'Like what you see? Visit the ' +\n",
              "            '<a target=\"_blank\" href=https://colab.research.google.com/notebooks/data_table.ipynb>data table notebook</a>'\n",
              "            + ' to learn more about interactive tables.';\n",
              "          element.innerHTML = '';\n",
              "          dataTable['output_type'] = 'display_data';\n",
              "          await google.colab.output.renderOutput(dataTable, element);\n",
              "          const docLink = document.createElement('div');\n",
              "          docLink.innerHTML = docLinkHtml;\n",
              "          element.appendChild(docLink);\n",
              "        }\n",
              "      </script>\n",
              "    </div>\n",
              "  </div>\n",
              "  "
            ]
          },
          "metadata": {},
          "execution_count": 15
        }
      ],
      "source": [
        "df[df['TotalParoRegistrado'] == 0].sample(3)"
      ]
    },
    {
      "cell_type": "markdown",
      "metadata": {
        "id": "rOW20fLRLgGs"
      },
      "source": [
        "Podríamos concluir que no, porque los municipios con paro igual a 0, informan 0. Entonces deberíamos descartar el dato. \n",
        "\n",
        "#### Entendiendo el parámetro inplace\n",
        "\n",
        "Noten que la mayor parte de los métodos que trabajan sobre DataFrames devuelven objetos nuevos que si no los almacenamos en una variable se pierden. Cuando queremos que el DataFrame cambie a partir de una determinada acción usamos el parámetro inplace=True. "
      ]
    },
    {
      "cell_type": "code",
      "execution_count": 16,
      "metadata": {
        "id": "avk7YZDULgGs"
      },
      "outputs": [],
      "source": [
        "#Descarto las filas que tengan un valor nulo\n",
        "df.dropna(inplace=True)"
      ]
    },
    {
      "cell_type": "code",
      "execution_count": null,
      "metadata": {
        "id": "oMCcbLswLgGs"
      },
      "outputs": [],
      "source": [
        "df[~(df.notnull().all(axis=1))]"
      ]
    },
    {
      "cell_type": "markdown",
      "metadata": {
        "id": "SJj1YtEfLgGs"
      },
      "source": [
        "### Crear columnas\n",
        "\n",
        "Contamos con los cambios de población de cada municipio ('PAD_1C02') y también con el área ('Shape__Area'). Con estas columnas podemos formar la densidad."
      ]
    },
    {
      "cell_type": "code",
      "execution_count": 19,
      "metadata": {
        "id": "dnw_Ar2ZLgGs"
      },
      "outputs": [],
      "source": [
        "# ¡Operación vectorizada! \n",
        "df['Densidad'] = df['PAD_1C02'] / df['Shape__Area']"
      ]
    },
    {
      "cell_type": "markdown",
      "metadata": {
        "id": "toEmfLSvLgGt"
      },
      "source": [
        "También sabemos la cantidad de personas desempleadas y con eso podemos formar la proporción de paro."
      ]
    },
    {
      "cell_type": "code",
      "execution_count": 18,
      "metadata": {
        "id": "ITWWS1JxLgGt"
      },
      "outputs": [],
      "source": [
        "df['Proporcion_Paro'] =  df['TotalParoRegistrado'] / df['PAD_1C02'] "
      ]
    },
    {
      "cell_type": "markdown",
      "metadata": {
        "id": "oBRgDf3HLgGt"
      },
      "source": [
        "## Funciones de Agregación simple\n",
        "\n",
        "\n",
        "| Nombre             | Versión que descarta NaN | Descripción                            |\n",
        "|--------------------|--------------------------|----------------------------------------|\n",
        "| serie.sum()        | serie.sum(skipna=True)   | Suma todos los elementos               |\n",
        "| serie.prod()       | serie.prod(skipna=True)  | Multiplica                             |\n",
        "| serie.mean()       | serie.mean(skipna=True)  | Promedia                               |\n",
        "| serie.std()        | serie.std(skipna=True)   | Calcula el desvío estándar             |\n",
        "| serie.var()        | serie.var(skipna=True)   | Calcula la varianza                    |\n",
        "| serie.min()        | serie.min(skipna=True)   | Calcula el valor mínimo                |\n",
        "| serie.max()        | serie.max(skipna=True)   | Calcula el valor máximo                |\n",
        "| serie.argmin()     | serie.argmin(skipna=True)| Calcula el índice del valor mínimo     |\n",
        "| serie.argmax()     | serie.argmax(skipna=True)| Calcula el índice del valor máximo     |\n",
        "| serie.median()     | serie.median(skipna=True)| Calcula la mediana                     |\n",
        "| X                  | serie.quantile()         | Calcula los percentiles                |\n",
        "| serie.any()        | X                        | Evalúa si algún elemento es TRUE       |\n",
        "| serie.all()        | X                        | Evalúa si todos los elementos son TRUE |"
      ]
    },
    {
      "cell_type": "markdown",
      "metadata": {
        "id": "Nd81D2zLLgGt"
      },
      "source": [
        "Vamos a comprobar que la población total coincida (aproxiamadamente) con la <a href='https://www.google.com/search?client=firefox-b-e&q=poblacion+espana'>población de España.  <a/>"
      ]
    },
    {
      "cell_type": "code",
      "execution_count": 20,
      "metadata": {
        "colab": {
          "base_uri": "https://localhost:8080/"
        },
        "id": "Brh6J9SFLgGt",
        "outputId": "56c7df96-cb11-4187-a65c-78019ae953ca"
      },
      "outputs": [
        {
          "output_type": "execute_result",
          "data": {
            "text/plain": [
              "46556178.0"
            ]
          },
          "metadata": {},
          "execution_count": 20
        }
      ],
      "source": [
        "#Lo hacemos chequeando en internet su valor. \n",
        "df['PAD_1C02'].sum()"
      ]
    },
    {
      "cell_type": "markdown",
      "metadata": {
        "id": "ibukNdfZLgGu"
      },
      "source": [
        "¿Cuál es el promedio de proporción de paro en las autonomías de España?"
      ]
    },
    {
      "cell_type": "code",
      "execution_count": 21,
      "metadata": {
        "colab": {
          "base_uri": "https://localhost:8080/"
        },
        "id": "JgIzUkcZLgGu",
        "outputId": "d896df38-5a73-4338-8ebf-a1f112dd0163"
      },
      "outputs": [
        {
          "output_type": "execute_result",
          "data": {
            "text/plain": [
              "0.060175744753608394"
            ]
          },
          "metadata": {},
          "execution_count": 21
        }
      ],
      "source": [
        "df['Proporcion_Paro'].mean()"
      ]
    },
    {
      "cell_type": "markdown",
      "metadata": {
        "id": "DPdIact0LgGv"
      },
      "source": [
        "Ejercicio: ¿Cuántas autonomías están por encima de la media y cuántas están por debajo?"
      ]
    },
    {
      "cell_type": "code",
      "execution_count": 24,
      "metadata": {
        "id": "iJT5JeucLgGv"
      },
      "outputs": [],
      "source": [
        "proporcion_paro_media=df['Proporcion_Paro'].mean()\n"
      ]
    },
    {
      "cell_type": "code",
      "execution_count": 36,
      "metadata": {
        "colab": {
          "base_uri": "https://localhost:8080/"
        },
        "id": "toTg-NptLgGv",
        "outputId": "acef30c6-a0a4-405b-d1e0-7d1a5f01657b"
      },
      "outputs": [
        {
          "output_type": "execute_result",
          "data": {
            "text/plain": [
              "4436"
            ]
          },
          "metadata": {},
          "execution_count": 36
        }
      ],
      "source": [
        "#Menor a la media:\n",
        "len(df[df['Proporcion_Paro']<proporcion_paro_media])\n"
      ]
    },
    {
      "cell_type": "code",
      "source": [
        "#Mayor a la media:\n",
        "len(df[df['Proporcion_Paro']>proporcion_paro_media])"
      ],
      "metadata": {
        "colab": {
          "base_uri": "https://localhost:8080/"
        },
        "id": "YuNUH90RRTFa",
        "outputId": "0e24a33d-4f13-48f0-db3f-97445bf96b78"
      },
      "execution_count": 37,
      "outputs": [
        {
          "output_type": "execute_result",
          "data": {
            "text/plain": [
              "3688"
            ]
          },
          "metadata": {},
          "execution_count": 37
        }
      ]
    },
    {
      "cell_type": "markdown",
      "metadata": {
        "id": "3uKk6e5hLgGw"
      },
      "source": [
        "¿Cuál es la mediana?"
      ]
    },
    {
      "cell_type": "code",
      "execution_count": 40,
      "metadata": {
        "colab": {
          "base_uri": "https://localhost:8080/"
        },
        "id": "P1WeRmIdLgGw",
        "outputId": "9f8efdc5-b916-4818-ca19-5607ce41da40"
      },
      "outputs": [
        {
          "output_type": "execute_result",
          "data": {
            "text/plain": [
              "0.05660377358490566"
            ]
          },
          "metadata": {},
          "execution_count": 40
        }
      ],
      "source": [
        "#La mediana representa el valor de la variable de posición central en un conjunto de datos ordenados. Se le denota mediana.\n",
        "df['Proporcion_Paro'].median()"
      ]
    },
    {
      "cell_type": "markdown",
      "metadata": {
        "id": "NAv98O-MLgGw"
      },
      "source": [
        "Que la mediana sea menor a la media, significa que hay algunos valores llamativamente altos. Veamos un gráfico para ver la distribución de esta variable. "
      ]
    },
    {
      "cell_type": "code",
      "execution_count": 39,
      "metadata": {
        "colab": {
          "base_uri": "https://localhost:8080/",
          "height": 542
        },
        "id": "47eCQdBFLgGw",
        "outputId": "7e2c1137-4ed9-4822-aebb-77c1de4db80c"
      },
      "outputs": [
        {
          "output_type": "display_data",
          "data": {
            "text/html": [
              "<html>\n",
              "<head><meta charset=\"utf-8\" /></head>\n",
              "<body>\n",
              "    <div>            <script src=\"https://cdnjs.cloudflare.com/ajax/libs/mathjax/2.7.5/MathJax.js?config=TeX-AMS-MML_SVG\"></script><script type=\"text/javascript\">if (window.MathJax) {MathJax.Hub.Config({SVG: {font: \"STIX-Web\"}});}</script>                <script type=\"text/javascript\">window.PlotlyConfig = {MathJaxConfig: 'local'};</script>\n",
              "        <script src=\"https://cdn.plot.ly/plotly-2.8.3.min.js\"></script>                <div id=\"9b1425df-e2b8-4352-8003-88f24eae791a\" class=\"plotly-graph-div\" style=\"height:525px; width:100%;\"></div>            <script type=\"text/javascript\">                                    window.PLOTLYENV=window.PLOTLYENV || {};                                    if (document.getElementById(\"9b1425df-e2b8-4352-8003-88f24eae791a\")) {                    Plotly.newPlot(                        \"9b1425df-e2b8-4352-8003-88f24eae791a\",                        [{\"alignmentgroup\":\"True\",\"bingroup\":\"x\",\"hovertemplate\":\"Proporcion_Paro=%{x}<br>count=%{y}<extra></extra>\",\"legendgroup\":\"\",\"marker\":{\"color\":\"#636efa\",\"pattern\":{\"shape\":\"\"}},\"name\":\"\",\"offsetgroup\":\"\",\"orientation\":\"v\",\"showlegend\":false,\"x\":[0.06442577030812324,0.0746588693957115,0.011984021304926764,0.059782608695652176,0.05128205128205128,0.030643513789581207,0.05276073619631902,0.03767820773930754,0.01948051948051948,0.026578073089700997,0.0556792873051225,0.04008016032064128,0.05854579792256846,0.02721482339316734,0.010752688172043012,0.03804347826086957,0.032679738562091505,0.06368159203980099,0.03943661971830986,0.0311284046692607,0.08356164383561644,0.023809523809523808,0.04059539918809202,0.06167400881057269,0.06103286384976526,0.03773584905660377,0.075225126290358,0.036011080332409975,0.043668122270742356,0.02654867256637168,0.05465414175918019,0.11936259771497294,0.022304832713754646,0.0348993288590604,0.05321507760532151,0.025157232704402517,0.08505516549648946,0.013201320132013201,0.044630404463040445,0.04929051530993279,0.04334975369458128,0.03375527426160337,0.04794520547945205,0.05666857469948483,0.07257372237710212,0.02973977695167286,0.0425531914893617,0.07035175879396985,0.02894848871860366,0.05902140672782875,0.04391891891891892,0.07095926412614981,0.11683848797250859,0.09483488569009314,0.10364145658263306,0.13098591549295774,0.12936046511627908,0.08874281018898932,0.11893369788106631,0.10596774193548388,0.11795543905635648,0.08115942028985507,0.10869565217391304,0.06451612903225806,0.0702576112412178,0.14083026799789805,0.19242902208201892,0.14347826086956522,0.1006233303650935,0.12011076497057806,0.0888030888030888,0.1047040971168437,0.09473684210526316,0.08868501529051988,0.10098792535675083,0.10499258526940188,0.1004983388704319,0.05982905982905983,0.15827338129496402,0.09395973154362416,0.1471301535974131,0.16091954022988506,0.10967741935483871,0.1250971250971251,0.09168443496801706,0.0940613790354723,0.12612612612612611,0.1270916203688484,0.12941176470588237,0.06382978723404255,0.07507507507507508,0.11671087533156499,0.1551901336073998,0.10973936899862825,0.1860828772478499,0.09805180903446799,0.1018450184501845,0.03305785123966942,0.09073233959818536,0.13213885778275475,0.037037037037037035,0.07934990439770555,0.11272727272727273,0.09925558312655088,0.09904761904761905,0.12662090007627766,0.09521553765987684,0.12881915772089184,0.11733333333333333,0.1021021021021021,0.10504201680672269,0.07012622720897616,0.11879049676025918,0.11189634864546526,0.1100244498777506,0.1167608286252354,0.11469534050179211,0.11560283687943262,0.08461538461538462,0.09626619253238507,0.06883365200764818,0.13068181818181818,0.16602528862012095,0.12260061919504645,0.09741754027103043,0.0860323886639676,0.12771739130434784,0.12698412698412698,0.0549645390070922,0.08843704066634003,0.10191082802547771,0.0933213490171558,0.09090909090909091,0.07692307692307693,0.15041782729805014,0.08902077151335312,0.13094393186657205,0.10714285714285714,0.027576197387518143,0.09854091774159442,0.07079646017699115,0.06406080347448426,0.09229329703980946,0.037180480247869865,0.06334841628959276,0.09278350515463918,0.09892226088719214,0.040100250626566414,0.051363171117521166,0.057107386716325266,0.08626887131560029,0.09454050374404356,0.10944483066838812,0.01680672268907563,0.08317214700193423,0.08013248079488478,0.11278195488721804,0.10852713178294573,0.057962858750703436,0.0759493670886076,0.054906542056074766,0.09395973154362416,0.08385416666666666,0.07303077725612937,0.04950495049504951,0.07388316151202749,0.04295942720763723,0.05371530886302596,0.09645568860478378,0.07017543859649122,0.0759493670886076,0.06006955422067657,0.11703511053315994,0.1,0.05465587044534413,0.06791569086651054,0.12121212121212122,0.057291666666666664,0.06909090909090909,0.039230019493177386,0.07951741157115437,0.09592504461629982,0.019417475728155338,0.05915966386554622,0.08325251390944821,0.07052896725440806,0.09201492133859544,0.07478819748758399,0.06363636363636363,0.05220883534136546,0.08073841160361091,0.05790645879732739,0.09004794760846685,0.09972008397480756,0.0966183574879227,0.06895592937578202,0.13119096580809314,0.061946902654867256,0.09942857142857142,0.052083333333333336,0.09892680573978054,0.0966409691629956,0.11466711177682411,0.11910133661958479,0.09345794392523364,0.034482758620689655,0.06732348111658457,0.07934918648310388,0.07313304721030042,0.084070796460177,0.10112359550561797,0.07232832182039821,0.03636363636363636,0.07149356557909788,0.06738868832731648,0.0463519313304721,0.09501390969398674,0.07168643630737494,0.06306646525679759,0.06626262626262626,0.0734022955930282,0.0861244019138756,0.02072072072072072,0.049773755656108594,0.0808,0.12548891786179922,0.07612202393106546,0.04938271604938271,0.08069195229397227,0.10178859292239195,0.05684379225722442,0.10726643598615918,0.08326661329063251,0.0460431654676259,0.08740359897172237,0.06785798728207171,0.04467005076142132,0.08504911855739469,0.06329986217759402,0.06707317073170732,0.12463440766802768,0.0791923429920021,0.0910344827586207,0.07408221587162013,0.09103840682788052,0.0380952380952381,0.11513200257566002,0.05405405405405406,0.03870162297128589,0.07258399004562423,0.043478260869565216,0.12173358827278521,0.05546995377503852,0.054983748645720476,0.07555574966152771,0.06329727111254642,0.09157111373726405,0.0904346292867848,0.10144329896907217,0.053082191780821915,0.07279029462738301,0.050314465408805034,0.05819410550028158,0.05324357405140759,0.03773584905660377,0.043343653250773995,0.06327372764786796,0.10359445691282819,0.04678362573099415,0.0411522633744856,0.048109965635738834,0.05867665418227216,0.09258028792912514,0.10762358546754021,0.10432339080291543,0.03542821934688848,0.06197301854974705,0.07166123778501629,0.11174934725848563,0.06027820710973725,0.06788079470198675,0.08796989438756929,0.02763819095477387,0.0636215334420881,0.07537688442211055,0.10061349693251534,0.045454545454545456,0.0379746835443038,0.1344165435745938,0.10740439381611067,0.11059907834101383,0.10700460118756908,0.06976744186046512,0.07462686567164178,0.04020259575815131,0.03305420890260027,0.06134969325153374,0.029411764705882353,0.03715170278637771,0.05909090909090909,0.04293785310734463,0.043859649122807015,0.09438470728793309,0.014492753623188406,0.05714285714285714,0.07142857142857142,0.11534733441033926,0.07818608287724785,0.08128151883714031,0.08314146840624201,0.050359712230215826,0.0650887573964497,0.08067654542733124,0.08239700374531835,0.04122423485321674,0.06184012066365008,0.04387990762124711,0.0668693009118541,0.12313612313612314,0.09565217391304348,0.07669616519174041,0.12607260726072608,0.053714684339030344,0.11577123050259966,0.07521697203471553,0.042884990253411304,0.10358565737051793,0.07063317015439238,0.06735751295336788,0.0945945945945946,0.11363636363636363,0.08704061895551257,0.072992700729927,0.05323450134770889,0.05975395430579965,0.08222811671087533,0.1062544420753376,0.04791344667697063,0.07272727272727272,0.06418219461697723,0.07246579656391057,0.09216589861751152,0.020618556701030927,0.11985199485199485,0.03648068669527897,0.053452115812917596,0.017486338797814208,0.06989247311827956,0.1282051282051282,0.038612638904478615,0.0989010989010989,0.028481012658227847,0.1430678466076696,0.09740662208448866,0.06639004149377593,0.09048723897911833,0.049689440993788817,0.06088992974238876,0.09476309226932668,0.05660377358490566,0.08461235733963007,0.08085106382978724,0.11658456486042693,0.04526748971193416,0.06906077348066299,0.06582278481012659,0.07889009793253536,0.10086541330945986,0.025210084033613446,0.07462686567164178,0.06116207951070336,0.046875,0.046875,0.0657501494321578,0.09078322784810126,0.09685909808738376,0.0858276235124414,0.057162300102075535,0.0624,0.06789706147467099,0.07025171624713959,0.0619865571321882,0.06818181818181818,0.12523864070255822,0.06796116504854369,0.05042016806722689,0.09923664122137404,0.03592814371257485,0.05555555555555555,0.0781563126252505,0.10793650793650794,0.03488372093023256,0.09208420534285362,0.05952380952380952,0.0,0.08334624588950296,0.054567502021018593,0.057722308892355696,0.08695652173913043,0.06956521739130435,0.030303030303030304,0.04739336492890995,0.04573170731707317,0.07692307692307693,0.0625,0.01990049751243781,0.07142857142857142,0.05504587155963303,0.015384615384615385,0.0706713780918728,0.008130081300813009,0.0,0.028985507246376812,0.09850993377483444,0.06666666666666667,0.023809523809523808,0.028268551236749116,0.03125,0.07692307692307693,0.09733810091378625,0.06666666666666667,0.04,0.041666666666666664,0.01020408163265306,0.013513513513513514,0.11832319134550372,0.11458333333333333,0.05154639175257732,0.10696361355081556,0.04878048780487805,0.026785714285714284,0.06956521739130435,0.059190031152647975,0.03278688524590164,0.0,0.07142857142857142,0.07766990291262135,0.1222879684418146,0.045454545454545456,0.0,0.05555555555555555,0.07216494845360824,0.06369426751592357,0.044854881266490766,0.08196721311475409,0.06700167504187604,0.08092485549132948,0.07692307692307693,0.057971014492753624,0.01818181818181818,0.024390243902439025,0.0959349593495935,0.08695652173913043,0.04054054054054054,0.0,0.012195121951219513,0.04938271604938271,0.0,0.08239700374531835,0.024096385542168676,0.04678362573099415,0.12213740458015267,0.02962962962962963,0.11447811447811448,0.08641975308641975,0.09393346379647749,0.053604436229205174,0.0707395498392283,0.03870967741935484,0.13674459638288486,0.08,0.0,0.056265984654731455,0.029411764705882353,0.034482758620689655,0.02040816326530612,0.07128712871287128,0.13785310734463277,0.05504587155963303,0.05555555555555555,0.11976047904191617,0.07017543859649122,0.035398230088495575,0.09302325581395349,0.08045977011494253,0.0,0.05128205128205128,0.0457516339869281,0.030303030303030304,0.03773584905660377,0.009433962264150943,0.031746031746031744,0.0,0.09006622516556291,0.1,0.0078125,0.09278350515463918,0.03,0.10891089108910891,0.0273972602739726,0.057692307692307696,0.0892018779342723,0.07142857142857142,0.037940379403794036,0.057971014492753624,0.046875,0.01818181818181818,0.11650485436893204,0.06451612903225806,0.012048192771084338,0.019230769230769232,0.05847953216374269,0.0,0.019230769230769232,0.038461538461538464,0.05806451612903226,0.047619047619047616,0.024390243902439025,0.07017543859649122,0.10493827160493827,0.0199203187250996,0.061971830985915494,0.04296875,0.04819277108433735,0.13080684596577016,0.08602150537634409,0.08032536858159633,0.041666666666666664,0.0611353711790393,0.010256410256410256,0.03424657534246575,0.11077389984825493,0.06751054852320675,0.03508771929824561,0.0,0.07865168539325842,0.08955223880597014,0.0,0.023121387283236993,0.037800687285223365,0.06989247311827956,0.0425531914893617,0.047619047619047616,0.04054054054054054,0.04,0.08071748878923767,0.052980132450331126,0.05844155844155844,0.05555555555555555,0.0698051948051948,0.12769953051643193,0.02127659574468085,0.14028776978417265,0.04,0.06060606060606061,0.05172413793103448,0.06965174129353234,0.05333333333333334,0.044642857142857144,0.08620689655172414,0.056074766355140186,0.05194805194805195,0.04878048780487805,0.020833333333333332,0.06884681583476764,0.07219251336898395,0.0,0.1111111111111111,0.09481668773704172,0.025,0.011764705882352941,0.033707865168539325,0.072265625,0.06018518518518518,0.057692307692307696,0.17073170731707318,0.03954802259887006,0.03389830508474576,0.05263157894736842,0.06060606060606061,0.046511627906976744,0.06349206349206349,0.11081794195250659,0.047619047619047616,0.036036036036036036,0.10471204188481675,0.012658227848101266,0.10144927536231885,0.01675977653631285,0.03409090909090909,0.014492753623188406,0.043243243243243246,0.03418803418803419,0.04,0.08695652173913043,0.03225806451612903,0.1111111111111111,0.034482758620689655,0.0519774011299435,0.05172413793103448,0.12811079852845705,0.13914081145584725,0.07904642409033877,0.06976744186046512,0.04,0.08735632183908046,0.031746031746031744,0.06130268199233716,0.12389380530973451,0.0,0.013888888888888888,0.0449438202247191,0.08928571428571429,0.07377049180327869,0.0625,0.06428571428571428,0.057971014492753624,0.04,0.025,0.07161125319693094,0.049723756906077346,0.10416666666666667,0.09523809523809523,0.04081632653061224,0.07017543859649122,0.06691449814126393,0.05750798722044728,0.09090909090909091,0.04411764705882353,0.017699115044247787,0.10449574726609964,0.07693710118505014,0.055674518201284794,0.1608355091383812,0.09551944854751354,0.12527593818984548,0.14285714285714285,0.18253968253968253,0.10441767068273092,0.13182527301092042,0.13279101409837016,0.12503005530175523,0.14429530201342283,0.0984015984015984,0.11420778146799515,0.12068489367578017,0.0967741935483871,0.130635838150289,0.10281923714759536,0.08955223880597014,0.10747663551401869,0.15996168582375478,0.13228035538005922,0.1259150805270864,0.10455635491606714,0.0897308075772682,0.0911300121506683,0.12453275624631123,0.09246088193456614,0.1595744680851064,0.12099644128113879,0.08108108108108109,0.12240932642487047,0.09278350515463918,0.1076923076923077,0.13475061324611612,0.11161939615736505,0.09523809523809523,0.15045454545454545,0.08268330733229329,0.14107142857142857,0.10676446617766912,0.13910761154855644,0.10520622041920216,0.0686106346483705,0.15658602150537634,0.09491850431447747,0.12473794549266247,0.11779448621553884,0.11396011396011396,0.07953950811093669,0.14440138690597593,0.08262108262108261,0.09203436726372506,0.1440536013400335,0.1,0.0919175911251981,0.12074688796680498,0.1112158341187559,0.09116528110469212,0.1207843137254902,0.0847953216374269,0.12064194798007748,0.2014846235418876,0.0893854748603352,0.10542018896071606,0.10528577567683713,0.11530815109343936,0.11000269614451334,0.1069142797188123,0.09722222222222222,0.11433628318584071,0.12413793103448276,0.1182576144291305,0.0675422138836773,0.07407407407407407,0.04221635883905013,0.09443507588532883,0.0987012987012987,0.08217391304347826,0.12579617834394904,0.10191082802547771,0.12948254300875384,0.1056547619047619,0.11276794035414725,0.1470795214637579,0.10194174757281553,0.1530560163327804,0.07702888583218707,0.09929789368104312,0.10729800173761946,0.10872675250357654,0.11835205992509364,0.0683090705487122,0.12749335106382978,0.13168724279835392,0.1123032904148784,0.11142857142857143,0.12096774193548387,0.09375,0.07927927927927927,0.09846650524616626,0.12584005376344087,0.1203585147247119,0.12859097127222982,0.12701612903225806,0.11217948717948718,0.12907904278462654,0.1749265014699706,0.07228915662650602,0.05092592592592592,0.14537444933920704,0.09857929834734706,0.15789473684210525,0.1164021164021164,0.10831099195710456,0.12463256907701352,0.07476635514018691,0.10348837209302325,0.07862706913339824,0.1232238527836012,0.13068873205159406,0.11886120996441281,0.131592164741336,0.08379606259464917,0.07962962962962963,0.10541229810144517,0.08564093159728589,0.15112994350282485,0.06086956521739131,0.07942811755361398,0.11154985192497532,0.11808934099955772,0.08231707317073171,0.14386459802538787,0.12294182217343579,0.14874551971326164,0.11138411138411139,0.08346709470304976,0.07407407407407407,0.10953545232273838,0.11643835616438356,0.09257496430271299,0.07165109034267912,0.14842300556586271,0.14703557312252966,0.10026385224274406,0.08598452278589853,0.12159709618874773,0.11677282377919321,0.12291831879460745,0.07898089171974522,0.11626654355186211,0.12471131639722864,0.15885765283355643,0.073706591070163,0.1312127236580517,0.12328685849896173,0.07920085622547271,0.147960543854972,0.10086455331412104,0.11405985319028797,0.08986340762041696,0.08055009823182711,0.10573899371069183,0.046762589928057555,0.05156825538564572,0.07338308457711443,0.04449388209121246,0.04819277108433735,0.04564983888292159,0.038314176245210725,0.05109214160180768,0.05142857142857143,0.03748687959214275,0.053126260588947156,0.0430793777423215,0.046536796536796536,0.058647411060232475,0.05111553367550016,0.04445593176531403,0.04654895666131621,0.021806853582554516,0.013043478260869565,0.03549102641661625,0.018575851393188854,0.05785553438420232,0.03725362789690275,0.028538436159683274,0.026200873362445413,0.06950695271347555,0.07536194415718718,0.060461416070007955,0.06987740805604203,0.0593416782568382,0.05801979633168839,0.06825865689170434,0.06251396509347303,0.0368763557483731,0.04052098408104197,0.04555429015860671,0.04080031384856807,0.040915395284327326,0.049635904294843214,0.06576514645774031,0.033886085075702954,0.04678831216865984,0.0346353665576294,0.05025955639452572,0.033151904997525974,0.0684696462129259,0.046188630490956076,0.05222639173662424,0.029382957884427033,0.03986820428336079,0.04141066601130499,0.04266374948721455,0.035452322738386305,0.05025056064675102,0.05656808803301238,0.04552107728337237,0.06381461675579322,0.04710144927536232,0.051889683350357506,0.04987599889776798,0.03357261982452324,0.0728482777228168,0.0309535696455317,0.07002012072434607,0.0537232233934036,0.01979045401629802,0.035236081747709654,0.05419122462344466,0.04743083003952569,0.030627076411960132,0.03741496598639456,0.0388629003238575,0.055595620533665506,0.05927297985644825,0.02643171806167401,0.05526512322628827,0.04789135096497498,0.04031900753212229,0.03616636528028933,0.05225225225225225,0.04620997162545602,0.07215930697385385,0.0425531914893617,0.06531713900134953,0.04809741248097413,0.0492296484342463,0.0344418052256532,0.0,0.0642967542503864,0.05709478407178912,0.044444444444444446,0.047666335650446874,0.022813688212927757,0.033934252386002124,0.09918578830495929,0.034263123215462335,0.03787566899958831,0.06658878504672897,0.05350686912509038,0.0538017155861586,0.046169989506820566,0.07255554948954523,0.015706806282722512,0.045492142266335814,0.05055906660184735,0.0425531914893617,0.06230747689722767,0.08715567547217168,0.05255830142707971,0.062173814386203764,0.0627511000573943,0.010752688172043012,0.0520982487058046,0.046910994764397904,0.0632111251580278,0.05366492146596859,0.005681818181818182,0.05280751491558414,0.03821656050955414,0.06640625,0.05343324916510548,0.05234159779614325,0.05002157430808112,0.014492753623188406,0.06201550387596899,0.03125,0.06060606060606061,0.061152882205513785,0.03885003885003885,0.02443280977312391,0.03955763504891536,0.038834951456310676,0.039291643608190374,0.05600539811066127,0.04909152465861641,0.04049135577797998,0.03151862464183381,0.06,0.04524280067758329,0.06249419090993587,0.06667579408543264,0.06053550640279395,0.0674905816410916,0.05446832702862266,0.04048582995951417,0.03712871287128713,0.025,0.03463203463203463,0.08195592286501377,0.0278503046127067,0.049964311206281226,0.03815113719735877,0.06478858732038935,0.0427807486631016,0.04556309703368527,0.05874724419660226,0.05,0.06217187068250898,0.05425553944916132,0.13793103448275862,0.04782400765184122,0.0,0.0696812576860438,0.043478260869565216,0.049665711556829036,0.0802675585284281,0.023446658851113716,0.06572110327938337,0.07015158899120219,0.0457280385078219,0.0481651376146789,0.07397901411640372,0.06380570134815272,0.05704993563249543,0.0576138147566719,0.02857142857142857,0.07291609729434272,0.0149812734082397,0.08058097890966971,0.06873394691780822,0.07205642973412914,0.07343915343915344,0.036414565826330535,0.04290220820189274,0.04706085903369523,0.06975912234676843,0.022484416740872662,0.08323175346765777,0.06310254163014899,0.0458219961354943,0.07737274475150997,0.06904775587609907,0.04922123741502452,0.060690617370073245,0.06294706723891273,0.046357615894039736,0.01680672268907563,0.05477980665950591,0.03397027600849257,0.013245033112582781,0.06227106227106227,0.058970856102003644,0.07941793069429029,0.034375,0.041128084606345476,0.0502283105022831,0.053607214428857713,0.05955334987593052,0.052980132450331126,0.06709176601053507,0.0608187134502924,0.05383961462170587,0.04875217643644805,0.06699090716853458,0.0644438217988232,0.04725738396624472,0.025806451612903226,0.025594149908592323,0.05755395683453238,0.03418803418803419,0.049217002237136466,0.0688711266834556,0.053677383744997934,0.048907296439901306,0.05349693251533742,0.05659075224292615,0.038929440389294405,0.08212785814279049,0.06641300588031823,0.0930640243902439,0.052673583399840386,0.06577119036591014,0.04864864864864865,0.054578313253012045,0.0772626931567329,0.06527254676395039,0.041121495327102804,0.044444444444444446,0.07317160697624345,0.05859375,0.04923599320882852,0.010101010101010102,0.1111111111111111,0.0225140712945591,0.06085753803596127,0.07479813004674883,0.05236343051231248,0.06605800214822771,0.05689993459777633,0.07210611039418893,0.030303030303030304,0.06786204777042536,0.013157894736842105,0.006329113924050633,0.050724637681159424,0.0491504854368932,0.04228723404255319,0.07275541795665634,0.08335160017536168,0.0,0.05959757964569512,0.04042014442464597,0.05271238485158649,0.058823529411764705,0.06791097303463509,0.030360531309297913,0.06277080957810718,0.06608591168519075,0.04622266401590457,0.03214088910381125,0.047276464542651594,0.04078491727587533,0.042647828362114074,0.0515606936416185,0.05730563002680965,0.05255636710066688,0.029411764705882353,0.04912364373435078,0.046018094493465875,0.04303870595031774,0.037037037037037035,0.04931048892603427,0.05009759271307743,0.043234355353515816,0.03180212014134275,0.032019849943876647,0.047619047619047616,0.055578947368421054,0.06951871657754011,0.046296296296296294,0.03529411764705882,0.05292029686995805,0.03234501347708895,0.02750809061488673,0.04939689833429064,0.07419073788620066,0.04854368932038835,0.048619695096827356,0.06201550387596899,0.04524338517471218,0.06789250353606789,0.038588235294117645,0.03824247355573637,0.03139717425431711,0.043938675517622885,0.0125,0.07220216606498195,0.0273224043715847,0.04038151864238821,0.07807738598243323,0.041852181656277826,0.04660347551342812,0.05163853028798411,0.0374331550802139,0.09988554780980127,0.06494565217391304,0.062439083820662766,0.02702702702702703,0.03966789667896679,0.033707865168539325,0.05574912891986063,0.05303030303030303,0.026565464895635674,0.05949532303676311,0.0640162779777743,0.06078844417694854,0.07265836491608013,0.07524766639247524,0.03299902944031058,0.03907815631262525,0.05284743583059625,0.05333333333333334,0.055790363482671176,0.04410911201392919,0.04262939813189128,0.0963855421686747,0.047619047619047616,0.04070737404070737,0.05550825813042738,0.018867924528301886,0.0759493670886076,0.04838709677419355,0.041132732162632496,0.07585498393927138,0.05357142857142857,0.03613687240166293,0.03332164152928797,0.0552131807319834,0.07858749164286148,0.05541543561288463,0.0800644814615798,0.03113941967445152,0.09268514311676511,0.04449688184729479,0.042177538008827856,0.05975452196382429,0.07507082152974505,0.03937007874015748,0.05194805194805195,0.0583265194875988,0.03287128712871287,0.011560693641618497,0.06567791715757618,0.06511627906976744,0.055751971716072886,0.06213229146080056,0.09460875171246676,0.045307443365695796,0.029918404351767906,0.06879207417756891,0.043859649122807015,0.0708482386466986,0.037037037037037035,0.021660649819494584,0.04523672608778992,0.02390438247011952,0.09523809523809523,0.049,0.034482758620689655,0.09009009009009009,0.06896551724137931,0.125,0.06572769953051644,0.10344827586206896,0.027777777777777776,0.010309278350515464,0.058823529411764705,0.019801980198019802,0.0380952380952381,0.051094890510948905,0.07844639955856657,0.03592814371257485,0.04804804804804805,0.03278688524590164,0.02631578947368421,0.04642409033877039,0.08695652173913043,0.028985507246376812,0.061465721040189124,0.09302325581395349,0.053475935828877004,0.024,0.017391304347826087,0.023809523809523808,0.032467532467532464,0.07479224376731301,0.07894736842105263,0.05357142857142857,0.06153846153846154,0.08695652173913043,0.0,0.028985507246376812,0.04,0.02702702702702703,0.03333333333333333,0.014705882352941176,0.0575614861329147,0.06060606060606061,0.041666666666666664,0.03333333333333333,0.05714285714285714,0.030303030303030304,0.09752232785940651,0.0446927374301676,0.04693140794223827,0.06752808479797065,0.03821656050955414,0.0,0.0,0.04291845493562232,0.05052631578947368,0.04046242774566474,0.014285714285714285,0.05725971370143149,0.03225806451612903,0.02857142857142857,0.044444444444444446,0.05025125628140704,0.04361132364192808,0.05014464802314368,0.0234375,0.04,0.029411764705882353,0.05263157894736842,0.0,0.025,0.0,0.054455445544554455,0.058084772370486655,0.034482758620689655,0.03278688524590164,0.017857142857142856,0.03663003663003663,0.04597701149425287,0.041666666666666664,0.021052631578947368,0.04081632653061224,0.03773584905660377,0.05194805194805195,0.14285714285714285,0.03404255319148936,0.018867924528301886,0.0,0.065439672801636,0.029895366218236172,0.04878048780487805,0.0,0.04152249134948097,0.019230769230769232,0.0392156862745098,0.17777777777777778,0.0425531914893617,0.022727272727272728,0.01,0.046511627906976744,0.0707070707070707,0.027993779160186624,0.0967741935483871,0.010869565217391304,0.036036036036036036,0.0,0.03767660910518053,0.06349206349206349,0.020833333333333332,0.06976744186046512,0.0,0.03389830508474576,0.05405405405405406,0.022222222222222223,0.05714285714285714,0.06015037593984962,0.05398457583547558,0.03225806451612903,0.05660377358490566,0.018867924528301886,0.025,0.05026929982046679,0.0670391061452514,0.030864197530864196,0.037037037037037035,0.015151515151515152,0.019801980198019802,0.0189873417721519,0.040123456790123455,0.02564102564102564,0.009708737864077669,0.017857142857142856,0.03361344537815126,0.039603960396039604,0.05982905982905983,0.014814814814814815,0.078125,0.039790575916230364,0.0234375,0.0945945945945946,0.04664723032069971,0.0,0.023809523809523808,0.006993006993006993,0.03459119496855346,0.0,0.0,0.4,0.03759398496240601,0.05747126436781609,0.0,0.038461538461538464,0.05731523378582202,0.01639344262295082,0.0375,0.05813953488372093,0.008620689655172414,0.0594059405940594,0.06,0.034482758620689655,0.0,0.0,0.05555555555555555,0.08184143222506395,0.0471976401179941,0.05113636363636364,0.04871794871794872,0.06682577565632458,0.06407322654462243,0.03307888040712468,0.05150214592274678,0.07441122431935861,0.025,0.06763285024154589,0.0,0.06779661016949153,0.03488372093023256,0.015625,0.01282051282051282,0.026595744680851064,0.05045871559633028,0.0,0.014705882352941176,0.04093567251461988,0.06217616580310881,0.0,0.044651162790697675,0.03389830508474576,0.06896551724137931,0.023255813953488372,0.01282051282051282,0.09615384615384616,0.03814713896457766,0.2692307692307692,0.012345679012345678,0.0,0.04487179487179487,0.057649667405764965,0.06299212598425197,0.03333333333333333,0.05855855855855856,0.01904761904761905,0.01764705882352941,0.0163265306122449,0.07407407407407407,0.024096385542168676,0.05,0.00980392156862745,0.0,0.07476635514018691,0.0,0.023391812865497075,0.025236593059936908,0.08620689655172414,0.058394160583941604,0.033707865168539325,0.049079754601226995,0.015384615384615385,0.07659574468085106,0.03333333333333333,0.025477707006369428,0.020833333333333332,0.04659498207885305,0.0380952380952381,0.07916437603078615,0.06976744186046512,0.047619047619047616,0.0,0.04603580562659847,0.022222222222222223,0.05102040816326531,0.017391304347826087,0.0,0.04484304932735426,0.017241379310344827,0.10743801652892562,0.05555555555555555,0.07799442896935933,0.0,0.03225806451612903,0.07142857142857142,0.043478260869565216,0.06679764243614932,0.05454545454545454,0.0,0.0,0.09590849098108227,0.04285714285714286,0.014634146341463415,0.08536585365853659,0.0,0.0136986301369863,0.036231884057971016,0.06693108577094695,0.031914893617021274,0.06,0.044444444444444446,0.07352941176470588,0.04878048780487805,0.043478260869565216,0.0,0.06862745098039216,0.02158273381294964,0.05102040816326531,0.04,0.06493506493506493,0.02910958904109589,0.0,0.01834862385321101,0.06451612903225806,0.05555555555555555,0.021505376344086023,0.0425531914893617,0.037037037037037035,0.06896551724137931,0.00847457627118644,0.05555555555555555,0.032288698955365625,0.0,0.045454545454545456,0.0,0.06042884990253411,0.0944055944055944,0.021739130434782608,0.0,0.1951219512195122,0.04030226700251889,0.0,0.04878048780487805,0.0,0.037037037037037035,0.05730659025787966,0.046875,0.043795620437956206,0.0,0.0273972602739726,0.04129793510324484,0.059322033898305086,0.017857142857142856,0.06496519721577726,0.013422818791946308,0.03184713375796178,0.025974025974025976,0.0431266846361186,0.020833333333333332,0.02112676056338028,0.05504587155963303,0.06896551724137931,0.023809523809523808,0.08064516129032258,0.0630583289542827,0.05128205128205128,0.07221664994984955,0.06653620352250489,0.010050251256281407,0.05228758169934641,0.16666666666666666,0.04878048780487805,0.034482758620689655,0.02531645569620253,0.056,0.0,0.07407407407407407,0.02702702702702703,0.06375838926174497,0.03677869372225745,0.02727272727272727,0.027777777777777776,0.07692307692307693,0.016,0.01015228426395939,0.06153846153846154,0.047619047619047616,0.039473684210526314,0.03560830860534125,0.05855855855855856,0.022727272727272728,0.0273972602739726,0.058823529411764705,0.04081632653061224,0.013888888888888888,0.045454545454545456,0.0,0.043478260869565216,0.01702127659574468,0.019230769230769232,0.0,0.0627177700348432,0.10416666666666667,0.038461538461538464,0.06944444444444445,0.04862236628849271,0.037037037037037035,0.052083333333333336,0.05,0.0,0.025,0.055,0.05084745762711865,0.022222222222222223,0.0,0.022727272727272728,0.0,0.03333333333333333,0.05555555555555555,0.0,0.043795620437956206,0.02631578947368421,0.07899041832203786,0.036328871892925434,0.05739514348785872,0.038329911019849415,0.0728744939271255,0.0674373795761079,0.1377245508982036,0.10638297872340426,0.1,0.07560975609756097,0.0861244019138756,0.07097232079488999,0.08707865168539326,0.08432147562582346,0.14457831325301204,0.11514484781811514,0.0914826498422713,0.130568356374808,0.09061488673139159,0.08465116279069768,0.11125158027812895,0.12032085561497326,0.10101010101010101,0.09715762273901808,0.10563798219584569,0.08530805687203792,0.14046262152195776,0.07327586206896551,0.10148514851485149,0.07060333761232349,0.06074766355140187,0.12461059190031153,0.10126582278481013,0.07079646017699115,0.08185840707964602,0.08704453441295547,0.07027027027027027,0.101712506486767,0.07488986784140969,0.06593406593406594,0.058244111349036405,0.07799442896935933,0.10583004571357005,0.044444444444444446,0.09606986899563319,0.0872210953346856,0.08631921824104234,0.11764705882352941,0.08830022075055188,0.10680190930787589,0.11313518696069032,0.10138248847926268,0.1460373998219056,0.03937007874015748,0.10947002606429192,0.053691275167785234,0.04600484261501211,0.10101010101010101,0.17006802721088435,0.07142857142857142,0.1293833131801693,0.13564668769716087,0.1111111111111111,0.11889596602972399,0.1,0.113345521023766,0.10068529256721138,0.047311827956989246,0.11864406779661017,0.08508158508158509,0.135,0.13368983957219252,0.13301257178333076,0.10482921083627797,0.082039911308204,0.06561679790026247,0.10869565217391304,0.08297872340425531,0.14634146341463414,0.1267605633802817,0.10901883052527254,0.12289780077619664,0.09345794392523364,0.0891089108910891,0.08933002481389578,0.08823529411764706,0.151981351981352,0.17582417582417584,0.09640102827763496,0.1211340206185567,0.08522727272727272,0.10505252626313157,0.10747663551401869,0.10647851186658114,0.10053859964093358,0.09615384615384616,0.11180124223602485,0.07889125799573561,0.04395604395604396,0.08672086720867209,0.12233009708737864,0.10377358490566038,0.09313725490196079,0.08023774145616643,0.1495124593716143,0.15246636771300448,0.0976027397260274,0.09163346613545817,0.09919901417128774,0.09035326086956522,0.11510791366906475,0.09062253743104808,0.055299539170506916,0.10660146699266504,0.0782083185211518,0.1090458488228005,0.11563517915309446,0.15746268656716417,0.1029082774049217,0.10824742268041238,0.12326128825165847,0.1596244131455399,0.03184713375796178,0.07374631268436578,0.06451612903225806,0.11580119445287984,0.12184873949579832,0.12922173274596183,0.1066350710900474,0.08964143426294821,0.09839690436705362,0.12171222279525529,0.1316550925925926,0.14742014742014742,0.08087868197703445,0.12419551226300227,0.11286681715575621,0.16581071166544387,0.05961251862891207,0.10866372980910426,0.0949367088607595,0.058355437665782495,0.1126331811263318,0.12871287128712872,0.09006433166547534,0.07560137457044673,0.1078838174273859,0.025,0.08483754512635379,0.11180124223602485,0.08052230685527748,0.05106658047834518,0.12416693308413054,0.1288981288981289,0.08808290155440414,0.16379310344827586,0.0975609756097561,0.09248554913294797,0.09345794392523364,0.09607993850883935,0.08421052631578947,0.06597222222222222,0.08378378378378379,0.07407407407407407,0.08560311284046693,0.14285714285714285,0.08267090620031796,0.09745762711864407,0.07255139056831923,0.10566037735849057,0.1411042944785276,0.05454545454545454,0.08666666666666667,0.046181172291296625,0.10714285714285714,0.07624633431085044,0.11734028683181226,0.19101123595505617,0.18324607329842932,0.12729498164014688,0.13023255813953488,0.13524185587364265,0.08083140877598152,0.10778443113772455,0.11074962721973702,0.06513872135102533,0.1301775147928994,0.06354810238305383,0.05506607929515418,0.090625,0.1051693404634581,0.07269155206286837,0.10954063604240283,0.13125802310654686,0.127831715210356,0.11217948717948718,0.10057142857142858,0.12216924910607867,0.08485856905158069,0.1095803306485799,0.07384615384615385,0.09022556390977443,0.08927173061863743,0.12087912087912088,0.07371007371007371,0.1218274111675127,0.11764705882352941,0.09936238044633369,0.08349900596421471,0.0945211208699289,0.036585365853658534,0.11005692599620494,0.07692307692307693,0.14736842105263157,0.10297029702970296,0.0801781737193764,0.10086042065009561,0.0880503144654088,0.13793103448275862,0.12432432432432433,0.11330049261083744,0.05172413793103448,0.06738131699846861,0.09820193637621023,0.10501355013550136,0.13053613053613053,0.10957446808510639,0.07089151450053706,0.17325056433408578,0.06667955160417471,0.13435969209237228,0.1251482160181093,0.10619469026548672,0.17702641897538085,0.19674295774647887,0.11974609710070339,0.13112391930835735,0.1146998982706002,0.13339640491958374,0.125446732649955,0.12622950819672132,0.12270709063999641,0.1461189424647589,0.17062058130400629,0.12014314928425358,0.09927089175546831,0.12919776119402984,0.14743222290090682,0.11285362853628536,0.1406491987736654,0.17021095610751957,0.08077250091096806,0.1763016157989228,0.1612623547771805,0.12713190601469654,0.1342754479465599,0.07818872169877654,0.12352738546331381,0.12819310258574868,0.15598935226264418,0.12733727810650888,0.08650765396938412,0.13137557959814528,0.06540880503144654,0.12896825396825398,0.16020517714422045,0.17461682827650923,0.087527352297593,0.1603489035624032,0.11002102312543798,0.15336284449521634,0.13732552904097253,0.061430793157076204,0.040983606557377046,0.039907904834996163,0.07572900043522414,0.07327954437588989,0.04975124378109453,0.053691275167785234,0.07547169811320754,0.08497191011235955,0.05338078291814947,0.039334341906202726,0.07787903893951947,0.0625,0.019801980198019802,0.08247422680412371,0.03335017685699848,0.046511627906976744,0.06832298136645963,0.03910614525139665,0.04775086505190312,0.04455445544554455,0.10365853658536585,0.0375,0.04601769911504425,0.07807898512421657,0.0568023611961909,0.07123287671232877,0.06978985926354347,0.07816874981958838,0.07282535401213756,0.060396039603960394,0.058011049723756904,0.058823529411764705,0.02926829268292683,0.07339449541284404,0.09140300602374409,0.05825242718446602,0.012836970474967908,0.06835066864784546,0.04672897196261682,0.028708133971291867,0.07272727272727272,0.056666666666666664,0.06629834254143646,0.045989304812834225,0.01717557251908397,0.04509283819628647,0.0500560328726186,0.017094017094017096,0.05198776758409786,0.0422360248447205,0.04819277108433735,0.06405693950177936,0.09040590405904059,0.03036876355748373,0.021739130434782608,0.017543859649122806,0.05853658536585366,0.09597523219814241,0.04081632653061224,0.039473684210526314,0.03857142857142857,0.062261753494282084,0.052478134110787174,0.047058823529411764,0.04540763673890609,0.03468208092485549,0.16091954022988506,0.052418702475327615,0.057441253263707574,0.05009276437847866,0.02915335463258786,0.08053691275167785,0.05291243893273206,0.01694915254237288,0.08754425490827164,0.09540292049756625,0.05714285714285714,0.028985507246376812,0.06818488074383507,0.015748031496062992,0.035,0.03496503496503497,0.04784688995215311,0.07166666666666667,0.07195421095666395,0.09181636726546906,0.014925373134328358,0.0492676431424767,0.05463917525773196,0.06265790803436079,0.062111801242236024,0.07711757269279393,0.050505050505050504,0.07373681288173237,0.033366045142296366,0.0683526999316473,0.04784688995215311,0.06533575317604355,0.07389162561576355,0.05263157894736842,0.03870967741935484,0.027210884353741496,0.04081632653061224,0.05701754385964912,0.05952380952380952,0.030303030303030304,0.08336420896628381,0.13333333333333333,0.012048192771084338,0.03773584905660377,0.05659121171770972,0.07042253521126761,0.037037037037037035,0.07547169811320754,0.07662835249042145,0.08303215060184167,0.024691358024691357,0.05672609400324149,0.03582350371341197,0.03285420944558522,0.029411764705882353,0.05714285714285714,0.016666666666666666,0.0111731843575419,0.0806734060335907,0.02127659574468085,0.02631578947368421,0.08444680098974902,0.06043956043956044,0.068359375,0.08064516129032258,0.042105263157894736,0.037985865724381625,0.08971409792967466,0.14520547945205478,0.09943181818181818,0.10984848484848485,0.14736842105263157,0.09894403720089127,0.10912052117263844,0.13167013167013167,0.08627450980392157,0.09645554909936084,0.15166340508806261,0.13876613045783984,0.12173913043478261,0.10639009702241552,0.11171171171171171,0.0889937106918239,0.1,0.054380664652567974,0.16650717703349283,0.1285140562248996,0.10606313679639218,0.13276231263383298,0.13953488372093023,0.10021677505419377,0.1181026137463698,0.16,0.05742574257425743,0.13570194917345177,0.09133271202236719,0.0707070707070707,0.0875,0.12385919165580182,0.12471131639722864,0.08773678963110668,0.09603802630512868,0.13051146384479717,0.09635974304068523,0.0856873822975518,0.10468174644923724,0.12856055664274843,0.11825922421948912,0.1444866920152091,0.15355450236966825,0.039525691699604744,0.1261207411835027,0.12594458438287154,0.1397984886649874,0.11445221445221446,0.144,0.12108559498956159,0.1468189233278956,0.14720812182741116,0.11284189868759965,0.09331529093369419,0.06129768503423541,0.12191780821917808,0.11379105266635829,0.12785714285714286,0.10553990610328638,0.12446351931330472,0.11023622047244094,0.12143611404435058,0.10072992700729927,0.12681638044914134,0.10270498732037193,0.13275061458617865,0.12373587150505651,0.15,0.12866449511400652,0.09840425531914894,0.0908130939809926,0.129723792864988,0.09940357852882704,0.1515650741350906,0.07863247863247863,0.045662100456621,0.15636363636363637,0.10002359046945034,0.09059233449477352,0.11347517730496454,0.13157894736842105,0.16310160427807488,0.12284330267239972,0.09553719008264462,0.08233117483811286,0.10070921985815603,0.0663265306122449,0.10304851867754401,0.12994350282485875,0.0764915859255482,0.11138014527845036,0.0875,0.14027348919276578,0.08048827007438489,0.058823529411764705,0.06451612903225806,0.13076014178810555,0.10491916064671483,0.09235798937474458,0.12784588441331,0.14482758620689656,0.09273570324574962,0.09903713892709766,0.06135831381733021,0.07031307823255126,0.11237458193979934,0.05265322912381736,0.1338701560140916,0.10783055198973042,0.06237994136083308,0.12562665880271306,0.15839320705421292,0.05263157894736842,0.14964028776978416,0.06886619533909401,0.07998454404945904,0.047459893048128345,0.048240411229735075,0.08762886597938144,0.08912169919632607,0.11755555555555555,0.04698749526335733,0.05581395348837209,0.11894344613896127,0.04510336187095427,0.10150835711373828,0.08046471600688468,0.03812316715542522,0.11942098914354644,0.09287479406919275,0.17183098591549295,0.15867389491242703,0.06426145230882217,0.06188466947960619,0.17078189300411523,0.0917661847894406,0.08767123287671233,0.14107883817427386,0.07090039147455415,0.03048643801838153,0.10799014431538191,0.05828720286551612,0.03264028616141292,0.06702344546381243,0.09561309651187674,0.08988064348728593,0.05401312468450278,0.05917779523435454,0.029622815087396503,0.10652065704330513,0.05909694555112882,0.07476107527894167,0.12125387530141234,0.10854647535870243,0.1596774193548387,0.08784145688269952,0.09854267869535045,0.07236928462043317,0.11252992817238627,0.07365364308342133,0.04939255128460466,0.06288532675709001,0.05296923836157263,0.11678832116788321,0.08695652173913043,0.023178807947019868,0.10991957104557641,0.08244793880152997,0.09122038076975757,0.10492069947132981,0.10463378176382661,0.07784564131038312,0.09342105263157895,0.12683823529411764,0.051839464882943144,0.1114404267931239,0.0834597875569044,0.0471841704718417,0.054220133742996564,0.07222367731796753,0.03733602421796166,0.08638928067700988,0.08300521783667851,0.05763967155047496,0.06803840877914952,0.06520432692307693,0.07280579978405059,0.03837044054950261,0.07556568279370462,0.05360055931018411,0.06271409749670619,0.07827260458839407,0.06873274010432648,0.08512577469923442,0.06954972867735387,0.05918057663125948,0.09636549782441771,0.06618705035971223,0.05508749189889825,0.059454051736458485,0.08662036430349888,0.05366726296958855,0.04869857262804366,0.048071548351034096,0.07409713574097136,0.09243697478991597,0.07798244103976588,0.07422903029894055,0.04824120603015075,0.08061689449702068,0.09141004862236629,0.08452830188679246,0.09296129296714879,0.0933080008444163,0.05683690280065898,0.045288531775018265,0.09529860228716645,0.07065073041168658,0.058326042578011085,0.06766381766381767,0.04507042253521127,0.0550526058233423,0.06837606837606838,0.05148148148148148,0.07013031550068587,0.04918032786885246,0.04606240713224369,0.088659793814433,0.0702286986439992,0.05886348200135839,0.08403084259118349,0.07966134308254762,0.07799160758211547,0.06193764385854782,0.05743580955645046,0.07766990291262135,0.06576819407008086,0.06269489578204497,0.05843172873145625,0.06216768916155419,0.07528260109544342,0.06834300451321727,0.06467191601049868,0.058565667192705596,0.07470331043098064,0.06096740071160688,0.05817174515235457,0.08092076139884904,0.06620426437667437,0.06506334550139575,0.06594059405940594,0.06555706521739131,0.06802009208874006,0.07027488902319572,0.056220095693779906,0.03825717321997875,0.06465517241379311,0.06645056726094004,0.061036789297658864,0.04258943781942078,0.062381852551984876,0.04827586206896552,0.07639097744360902,0.05636638147961751,0.05446927374301676,0.034509803921568626,0.050793650793650794,0.0653293575494714,0.060765349032800675,0.061640471512770134,0.0,0.03896103896103896,0.0635593220338983,0.12162162162162163,0.03260869565217391,0.09057971014492754,0.04477611940298507,0.058146577831617204,0.020618556701030927,0.09230769230769231,0.03773584905660377,0.0,0.02830188679245283,0.034482758620689655,0.0476878612716763,0.09923664122137404,0.05343511450381679,0.07441860465116279,0.057649667405764965,0.008849557522123894,0.0,0.07317073170731707,0.07899461400359066,0.1347517730496454,0.03571428571428571,0.05825242718446602,0.07127429805615551,0.09302325581395349,0.0,0.0,0.06528189910979229,0.0856147336983574,0.031914893617021274,0.06761565836298933,0.10810810810810811,0.14583333333333334,0.09775967413441955,0.04081632653061224,0.081145584725537,0.08398576512455516,0.07627118644067797,0.030303030303030304,0.10727969348659004,0.04477611940298507,0.015151515151515152,0.09690721649484536,0.025806451612903226,0.0802675585284281,0.04195804195804196,0.0922266139657444,0.06967213114754098,0.06166868198307134,0.09671179883945841,0.0125,0.05128205128205128,0.056625141562853906,0.06518282988871224,0.1,0.017857142857142856,0.061714285714285715,0.045351473922902494,0.06296177320912304,0.1,0.06857142857142857,0.03225806451612903,0.0,0.06578947368421052,0.07079646017699115,0.07692307692307693,0.07974302203186817,0.0,0.08620689655172414,0.11275964391691394,0.0,0.05660377358490566,0.05063291139240506,0.06041335453100159,0.023255813953488372,0.05084745762711865,0.04415011037527594,0.05405405405405406,0.08994708994708994,0.08333333333333333,0.05649717514124294,0.053763440860215055,0.0881542699724518,0.03773584905660377,0.062146892655367235,0.04739336492890995,0.09813084112149532,0.049079754601226995,0.04929143561306223,0.06060606060606061,0.019230769230769232,0.10341951626355296,0.0380952380952381,0.10526315789473684,0.10714285714285714,0.015625,0.08056872037914692,0.10842047330764998,0.06374133949191686,0.06976744186046512,0.025,0.08497246262785209,0.11298076923076923,0.0967741935483871,0.07220216606498195,0.059027777777777776,0.02564102564102564,0.088134135855546,0.10517012814847547,0.11522633744855967,0.057971014492753624,0.05504587155963303,0.07451564828614009,0.03007518796992481,0.05714285714285714,0.08469809760132341,0.08319213825821756,0.04294478527607362,0.13793103448275862,0.02865329512893983,0.029411764705882353,0.036231884057971016,0.09146341463414634,0.0,0.09195402298850575,0.047619047619047616,0.08108108108108109,0.07033639143730887,0.04790419161676647,0.1,0.1076923076923077,0.06666666666666667,0.08078231292517007,0.06402620607504467,0.07570977917981073,0.07692307692307693,0.08898305084745763,0.07703488372093023,0.046218487394957986,0.06557377049180328,0.04918032786885246,0.07142857142857142,0.02702702702702703,0.031746031746031744,0.04430379746835443,0.07038123167155426,0.0,0.0842754367934224,0.05029940119760479,0.03753351206434316,0.05172413793103448,0.06372549019607843,0.10259164764334631,0.1276595744680851,0.06315789473684211,0.0,0.022222222222222223,0.09323583180987204,0.07777777777777778,0.05128205128205128,0.04472843450479233,0.06620498614958449,0.06515837104072399,0.0784313725490196,0.03076923076923077,0.11290322580645161,0.0352,0.09040333796940195,0.04918032786885246,0.07832744405182568,0.0,0.07692307692307693,0.09694915254237288,0.0915032679738562,0.06870229007633588,0.07246376811594203,0.11570247933884298,0.043689320388349516,0.05818181818181818,0.0,0.0599250936329588,0.04819277108433735,0.02197802197802198,0.035555555555555556,0.030927835051546393,0.04395604395604396,0.0,0.09166666666666666,0.07537688442211055,0.12244897959183673,0.0,0.0733162830349531,0.10309278350515463,0.08992805755395683,0.07947019867549669,0.018518518518518517,0.04918032786885246,0.05511811023622047,0.10852713178294573,0.06732673267326733,0.06964285714285715,0.022988505747126436,0.08641975308641975,0.09208523592085235,0.05333333333333334,0.07051564565888056,0.056338028169014086,0.08695652173913043,0.04878048780487805,0.06422018348623854,0.0,0.05186385737439222,0.05154639175257732,0.0,0.04864864864864865,0.041749502982107355,0.09900990099009901,0.07459207459207459,0.0321285140562249,0.05698005698005698,0.07246376811594203,0.0,0.09090909090909091,0.015037593984962405,0.0,0.08812260536398467,0.05392156862745098,0.07063197026022305,0.028169014084507043,0.09874213836477988,0.05169340463458111,0.0772976262933658,0.024390243902439025,0.12745098039215685,0.05562579013906448,0.03260869565217391,0.0356718192627824,0.01834862385321101,0.05442176870748299,0.04183006535947712,0.039783001808318265,0.021484375,0.03893805309734513,0.05335282294902247,0.056896551724137934,0.07228915662650602,0.0374331550802139,0.039067422810333964,0.04498357341420268,0.08433734939759036,0.047923488746816366,0.05102040816326531,0.061823802163833076,0.03281378178835111,0.039761021837659664,0.05025125628140704,0.07875628374604357,0.08315412186379928,0.037333333333333336,0.041666666666666664,0.03375527426160337,0.06394411606663085,0.032,0.05639097744360902,0.05683060109289618,0.08560311284046693,0.03560098695805428,0.05457063711911357,0.0603230927257447,0.029282576866764276,0.03862401931200966,0.029197080291970802,0.027131782945736434,0.03782080144079244,0.03418803418803419,0.04100946372239748,0.03523489932885906,0.04597701149425287,0.0486783042394015,0.031958762886597936,0.07251483679525222,0.0538468818018359,0.03960022628700736,0.034934497816593885,0.027303754266211604,0.0064516129032258064,0.04597701149425287,0.0425531914893617,0.02413339183852567,0.04083266613290633,0.0299625468164794,0.05090909090909091,0.018604651162790697,0.06096153846153846,0.024875621890547265,0.026128266033254157,0.03508771929824561,0.08323492105148056,0.047151277013752456,0.025889967637540454,0.013452914798206279,0.05714285714285714,0.021753908905506457,0.028268551236749116,0.049930651872399444,0.041379310344827586,0.03680981595092025,0.03278688524590164,0.009174311926605505,0.05702508778179227,0.05434782608695652,0.0425531914893617,0.01694915254237288,0.0665352390340069,0.014492753623188406,0.025906735751295335,0.07923243577839678,0.024464831804281346,0.030585106382978722,0.06073070408903944,0.02074688796680498,0.027237354085603113,0.05755978921767329,0.04628099173553719,0.02794819359236537,0.07267426164893905,0.03755868544600939,0.02857142857142857,0.05542725173210162,0.030303030303030304,0.031141868512110725,0.08355795148247978,0.03918918918918919,0.08358996920369556,0.04416403785488959,0.05555555555555555,0.026865671641791045,0.03552206673842842,0.05325443786982249,0.03837471783295711,0.035555555555555556,0.04776470588235294,0.026525198938992044,0.07373271889400922,0.07259051950323596,0.06352887933472874,0.03333333333333333,0.028552005438477225,0.016835016835016835,0.02553191489361702,0.035905901774659514,0.0,0.030612244897959183,0.029038112522686024,0.044444444444444446,0.031746031746031744,0.03160762942779292,0.04271961492178099,0.04013377926421405,0.04448742746615087,0.04700854700854701,0.029580573951434878,0.039316239316239315,0.03256597417181359,0.03822937625754527,0.0376844494892168,0.037090281771132834,0.031914893617021274,0.014336917562724014,0.040336134453781515,0.07944996180290298,0.052915052442596616,0.05566037735849057,0.030042918454935622,0.039525691699604744,0.03137254901960784,0.07212676201255273,0.023715415019762844,0.072992700729927,0.09270847503740988,0.0064516129032258064,0.031201248049921998,0.06758448060075094,0.07164522058823529,0.033409263477600606,0.04329004329004329,0.027582324795947088,0.04578096947935368,0.03665521191294387,0.045714285714285714,0.04248952722920407,0.04040404040404041,0.039652677279305354,0.045,0.03643724696356275,0.03559870550161812,0.048,0.03982300884955752,0.11320754716981132,0.03409090909090909,0.04328358208955224,0.06747891283973759,0.055153778908050545,0.04875195007800312,0.052478134110787174,0.03773584905660377,0.03346456692913386,0.04129387474191328,0.0381330685203575,0.03681710213776722,0.0425531914893617,0.03894839337877313,0.03180212014134275,0.028708133971291867,0.011049723756906077,0.0583756345177665,0.021052631578947368,0.026607538802660754,0.0456140350877193,0.018404907975460124,0.035161744022503515,0.05475404136972015,0.034571062740076826,0.006024096385542169,0.058930520189159695,0.009523809523809525,0.08542246982358404,0.024305555555555556,0.0055248618784530384,0.02950050284948039,0.026066350710900472,0.052060737527114966,0.03615960099750624,0.0408695652173913,0.045454545454545456,0.059355345911949686,0.03482045701849837,0.028831562974203338,0.03571428571428571,0.030042918454935622,0.028465346534653466,0.015533980582524271,0.048115623856567875,0.02564102564102564,0.05800865800865801,0.0275,0.05625,0.045495093666369314,0.019801980198019802,0.027160493827160494,0.04207573632538569,0.03980099502487562,0.028453999367688904,0.06437768240343347,0.04256965944272446,0.03366221706326175,0.0530421216848674,0.1111111111111111,0.06873977086743044,0.10407093042114937,0.06824146981627296,0.0688836104513064,0.08922679672930713,0.06506849315068493,0.09076682316118936,0.10499171118069626,0.024140453547915143,0.06485771012574454,0.10755148741418764,0.05283757338551859,0.05305039787798409,0.110559550315728,0.10526315789473684,0.06498781478472786,0.11388644826576294,0.11546539907141277,0.08820681642137877,0.0796812749003984,0.0903954802259887,0.14250839182178823,0.04065040650406504,0.0635862653666808,0.07152682255845942,0.1564625850340136,0.13405797101449277,0.05387205387205387,0.08638743455497382,0.07880597014925374,0.08077544426494346,0.0552099533437014,0.07735452208459921,0.10026385224274406,0.11538461538461539,0.12359550561797752,0.040983606557377046,0.0734341252699784,0.061717352415026835,0.10704296974319857,0.11683848797250859,0.10385756676557864,0.0916030534351145,0.06594982078853047,0.05117912694430507,0.09411764705882353,0.061452513966480445,0.10947485412614615,0.09795240730492528,0.06642066420664207,0.12085824832922969,0.09890815671162492,0.018779342723004695,0.07015130674002751,0.07780320366132723,0.08662420382165605,0.07539267015706806,0.060221870047543584,0.05763688760806916,0.12312056737588653,0.10419313850063533,0.0627062706270627,0.06299212598425197,0.07606263982102908,0.12195676905574517,0.07766990291262135,0.05343511450381679,0.0927965336703376,0.07561929595827901,0.11851851851851852,0.10321267006875165,0.07358201328564129,0.10358586933390083,0.06453570706048958,0.08834651082846338,0.1078740157480315,0.08866995073891626,0.07612456747404844,0.08489946116441056,0.11993687532877433,0.0667191497736666,0.09068523393054258,0.05842893252965196,0.06930693069306931,0.09157581764122893,0.043343653250773995,0.07149240393208221,0.10604558969276512,0.05530973451327434,0.09859154929577464,0.0945945945945946,0.09142857142857143,0.09809264305177112,0.12545302481182047,0.08333333333333333,0.08007626310772165,0.05917159763313609,0.06289308176100629,0.07703115159149267,0.0672782874617737,0.039014373716632446,0.11971444261394838,0.11442041796998957,0.1320754716981132,0.04866117404737384,0.08191600138840681,0.10389272230178362,0.046420282092483486,0.03357531760435572,0.03537735849056604,0.06495136491998744,0.1034157169361251,0.07272727272727272,0.10344827586206896,0.1010752688172043,0.09148563930602129,0.05983606557377049,0.12051235792891936,0.07578558225508318,0.09012435991221653,0.11040037905709547,0.10062893081761007,0.07739130434782608,0.10460772104607721,0.08299758259468171,0.08251748251748252,0.11693126723072536,0.0511265164644714,0.09401709401709402,0.06547619047619048,0.10723192019950124,0.06678230702515178,0.12099644128113879,0.1035653650254669,0.1111111111111111,0.08488063660477453,0.05782060785767235,0.11041213001048472,0.0625,0.12069765899595464,0.10108303249097472,0.07567567567567568,0.05166051660516605,0.07917888563049853,0.08762886597938144,0.047244094488188976,0.11027070063694268,0.09239940387481371,0.10330434782608695,0.06875,0.09846153846153846,0.052216748768472904,0.07939698492462312,0.057682985942801746,0.10055423594615993,0.06796116504854369,0.09770992366412214,0.04253112033195021,0.07414104882459313,0.06165703275529865,0.12012792324605237,0.06844106463878327,0.053166897827092004,0.09201213346814964,0.07272727272727272,0.09355509355509356,0.10610382201939532,0.06940736785904965,0.031746031746031744,0.07449856733524356,0.04961411245865491,0.0,0.0273972602739726,0.047619047619047616,0.029850746268656716,0.10434782608695652,0.08150470219435736,0.06440071556350627,0.022727272727272728,0.02967359050445104,0.0,0.050595238095238096,0.021739130434782608,0.0,0.03225806451612903,0.07692307692307693,0.08139534883720931,0.0,0.031746031746031744,0.09460458240946046,0.06391478029294274,0.022727272727272728,0.06883211090513419,0.07006369426751592,0.0,0.053763440860215055,0.046875,0.09090909090909091,0.0819277108433735,0.05,0.0,0.030303030303030304,0.0196078431372549,0.06374501992031872,0.038461538461538464,0.0,0.04954954954954955,0.01910828025477707,0.07912860559605797,0.06349206349206349,0.0,0.125,0.05555555555555555,0.0,0.0,0.06865912762520193,0.02242152466367713,0.03125,0.03529411764705882,0.06595875025525832,0.075,0.06748466257668712,0.014705882352941176,0.039473684210526314,0.03592814371257485,0.0,0.0,0.03125,0.06740798207051116,0.043478260869565216,0.09375,0.07462686567164178,0.05405405405405406,0.03389830508474576,0.125,0.0,0.07407407407407407,0.0594059405940594,0.0633879781420765,0.045454545454545456,0.020618556701030927,0.06451612903225806,0.01694915254237288,0.0,0.07058823529411765,0.0625,0.031746031746031744,0.10526315789473684,0.16666666666666666,0.04945054945054945,0.07407407407407407,0.05574912891986063,0.0625,0.0659606656580938,0.05454545454545454,0.05113636363636364,0.06666666666666667,0.05,0.0,0.14204545454545456,0.057971014492753624,0.06861313868613139,0.023255813953488372,0.0,0.0,0.08161512027491409,0.1,0.12,0.06504065040650407,0.0429042904290429,0.057692307692307696,0.03508771929824561,0.1050656660412758,0.0,0.08183716075156576,0.019417475728155338,0.02857142857142857,0.07480300838185884,0.010309278350515464,0.07792207792207792,0.0,0.01652892561983471,0.09090909090909091,0.08259587020648967,0.08333333333333333,0.1059190031152648,0.08503937007874016,0.0,0.023255813953488372,0.05128205128205128,0.05,0.08053691275167785,0.07366984993178717,0.06552706552706553,0.041666666666666664,0.014705882352941176,0.041666666666666664,0.06078824315297261,0.03225806451612903,0.01818181818181818,0.08931419457735247,0.058365758754863814,0.08695652173913043,0.07575757575757576,0.016666666666666666,0.06179775280898876,0.0945945945945946,0.05828220858895705,0.023809523809523808,0.06097560975609756,0.07188979767541971,0.016666666666666666,0.04081632653061224,0.1044776119402985,0.13157894736842105,0.031141868512110725,0.0,0.05128205128205128,0.021739130434782608,0.0625,0.05128205128205128,0.023529411764705882,0.041666666666666664,0.09090909090909091,0.0,0.0,0.06,0.05142857142857143,0.07904789891272407,0.07692307692307693,0.06887264332435553,0.23076923076923078,0.05405405405405406,0.045454545454545456,0.03571428571428571,0.0,0.06666666666666667,0.10526315789473684,0.025974025974025976,0.0,0.0,0.06896551724137931,0.06349206349206349,0.044444444444444446,0.0,0.0,0.061611374407582936,0.08743169398907104,0.05128205128205128,0.04,0.02247191011235955,0.1032258064516129,0.0,0.1509433962264151,0.0625,0.0881590319792567,0.015384615384615385,0.03968253968253968,0.09230769230769231,0.020618556701030927,0.08246597277822258,0.0784313725490196,0.04285714285714286,0.06382978723404255,0.0,0.0748663101604278,0.0,0.0,0.18556701030927836,0.0,0.019417475728155338,0.057692307692307696,0.0,0.034782608695652174,0.0392156862745098,0.061224489795918366,0.041666666666666664,0.0,0.04,0.08651399491094147,0.03636363636363636,0.07017543859649122,0.0975609756097561,0.0,0.0,0.06779661016949153,0.05813953488372093,0.01639344262295082,0.060240963855421686,0.037037037037037035,0.06240386728191606,0.0625,0.0,0.0425531914893617,0.02631578947368421,0.007633587786259542,0.058823529411764705,0.11764705882352941,0.0,0.08157099697885196,0.0,0.05263157894736842,0.018518518518518517,0.0,0.037037037037037035,0.0392156862745098,0.09176984705025491,0.0,0.0,0.0498220640569395,0.07868217054263565,0.0,0.035,0.0,0.0,0.0,0.057809330628803245,0.03755868544600939,0.0,0.0,0.0990916597853014,0.04597701149425287,0.07393145937620331,0.06060606060606061,0.029411764705882353,0.058823529411764705,0.08045977011494253,0.05660377358490566,0.07317073170731707,0.025,0.03076923076923077,0.05454545454545454,0.08088235294117647,0.04395604395604396,0.0,0.07692307692307693,0.0,0.0,0.1111111111111111,0.023809523809523808,0.0,0.02197802197802198,0.034482758620689655,0.0703387244430882,0.05660377358490566,0.058823529411764705,0.0,0.020202020202020204,0.027972027972027972,0.06594932315168345,0.044715447154471545,0.03125,0.021505376344086023,0.08135593220338982,0.019801980198019802,0.030534351145038167,0.0,0.058823529411764705,0.05,0.018518518518518517,0.019148936170212766,0.06709677419354838,0.01818181818181818,0.06358381502890173,0.027932960893854747,0.031476997578692496,0.035181236673773986,0.05570382536097995,0.05958938407611417,0.029411764705882353,0.014563106796116505,0.04147004147004147,0.036544850498338874,0.031746031746031744,0.039100684261974585,0.05540692155001294,0.049911359607254874,0.044304251200802926,0.04216867469879518,0.03734439834024896,0.03432282003710575,0.06086956521739131,0.03495145631067961,0.03302509907529723,0.01568627450980392,0.0549009105516872,0.04938271604938271,0.04288321167883212,0.06953981008035062,0.01652892561983471,0.049422114887010524,0.044923629829290206,0.04436274509803922,0.03915171288743882,0.0440117994100295,0.03305785123966942,0.02053388090349076,0.034066713981547196,0.05509334415584415,0.04361370716510903,0.056171819683738494,0.03342013888888889,0.061601642710472276,0.06719906505648617,0.05546218487394958,0.030395136778115502,0.053061224489795916,0.03664921465968586,0.06318681318681318,0.04266352386564526,0.04158004158004158,0.05402684563758389,0.04817275747508306,0.059580661299859006,0.04503659223118784,0.0234375,0.04569606801275239,0.03419104688050758,0.008,0.04682960177747394,0.04635258358662614,0.041965601965601965,0.06663787252421793,0.07707910750507099,0.038397328881469114,0.06358396180899419,0.03404255319148936,0.049321738756556883,0.036005434782608696,0.05507170795306388,0.0445013606531135,0.04324673228981765,0.045580953672929525,0.06314717365472755,0.05448101265822785,0.0470242468772961,0.04317460317460318,0.04589695894796038,0.06331921758419036,0.05223577235772358,0.04529788281634663,0.056302335830762454,0.04591836734693878,0.027586206896551724,0.005,0.04678362573099415,0.01875,0.14987714987714987,0.08932272836828152,0.10859188544152745,0.088841882601798,0.0848296946992206,0.12165206508135169,0.11224618489090679,0.06715235983528667,0.1607324516785351,0.11391730088710068,0.08029026217228465,0.12084592145015106,0.06856175495520914,0.050988207938880585,0.1012311901504788,0.1796116504854369,0.11976331360946746,0.138996138996139,0.14124293785310735,0.1073170731707317,0.07578296847177124,0.1941747572815534,0.09331703341483293,0.12797074954296161,0.10550175149392128,0.10596026490066225,0.16,0.08415841584158416,0.10618500273672687,0.06909430438842204,0.0967032967032967,0.06157965194109773,0.12654320987654322,0.10621942697414395,0.09726103968697597,0.21465968586387435,0.10666666666666667,0.14123006833712984,0.10725552050473186,0.06678653994348831,0.11716666208375726,0.1254429482636428,0.1084070796460177,0.09303513444489037,0.14285714285714285,0.04863318499682136,0.08166189111747851,0.109375,0.12481127327629592,0.05410962104574553,0.14383561643835616,0.13737668980635734,0.11176183504148365,0.08970256024096386,0.0756606397774687,0.060240963855421686,0.09336609336609336,0.12045889101338432,0.11888111888111888,0.1306716269182223,0.07110536522301228,0.09722222222222222,0.07296849087893864,0.09878198681416918,0.07192575406032482,0.04966887417218543,0.12449799196787148,0.06991720331186753,0.10969637610186092,0.10435238594651285,0.060085836909871244,0.11153457260636229,0.07104605498036416,0.10852478839177751,0.14545454545454545,0.08011653313911143,0.07660359944623904,0.12838263058527374,0.12325581395348838,0.024291497975708502,0.035211267605633804,0.07228915662650602,0.014184397163120567,0.017391304347826087,0.04969485614646905,0.030612244897959183,0.027210884353741496,0.017543859649122806,0.029197080291970802,0.012698412698412698,0.015037593984962405,0.03823529411764706,0.035398230088495575,0.025906735751295335,0.01818181818181818,0.03902439024390244,0.015267175572519083,0.04085760517799353,0.03869047619047619,0.033932135728542916,0.056856187290969896,0.034106412005457026,0.05641025641025641,0.014563106796116505,0.012903225806451613,0.017391304347826087,0.024922118380062305,0.019801980198019802,0.01639344262295082,0.045454545454545456,0.017857142857142856,0.0106951871657754,0.029197080291970802,0.0380952380952381,0.020905923344947737,0.0,0.030303030303030304,0.020202020202020204,0.05836919992924945,0.0,0.031578947368421054,0.008849557522123894,0.02936630602782071,0.045004500450045004,0.013678553981436248,0.03305785123966942,0.049689440993788817,0.03187250996015936,0.03741496598639456,0.03337696335078534,0.043538428784330424,0.010810810810810811,0.03076923076923077,0.009900990099009901,0.07716371220020855,0.025,0.04395604395604396,0.06390977443609022,0.05092592592592592,0.03287671232876712,0.057971014492753624,0.008310249307479225,0.040880503144654086,0.01289134438305709,0.03571428571428571,0.03296703296703297,0.013651877133105802,0.06153846153846154,0.014732965009208104,0.02702702702702703,0.017543859649122806,0.03137254901960784,0.0,0.05113636363636364,0.03293413173652695,0.03125,0.046296296296296294,0.023529411764705882,0.04851752021563342,0.03104575163398693,0.05853658536585366,0.034653465346534656,0.028169014084507043,0.0,0.056074766355140186,0.05325443786982249,0.02832244008714597,0.01639344262295082,0.060770519262981576,0.03273322422258593,0.029197080291970802,0.028368794326241134,0.04212860310421286,0.0414538900570742,0.041639127561136816,0.013888888888888888,0.0391304347826087,0.0583757316093493,0.02,0.035161744022503515,0.02843601895734597,0.041353383458646614,0.04687137442957692,0.02040816326530612,0.05063291139240506,0.009478672985781991,0.02053388090349076,0.02843216896831844,0.0,0.007518796992481203,0.04411764705882353,0.02631578947368421,0.04744525547445255,0.03560830860534125,0.020522388059701493,0.049019607843137254,0.047619047619047616,0.05555555555555555,0.017937219730941704,0.06335209143122353,0.041666666666666664,0.02824858757062147,0.018083182640144666,0.06666666666666667,0.03214285714285714,0.024691358024691357,0.041666666666666664,0.011627906976744186,0.02180232558139535,0.04263565891472868,0.030664395229982964,0.021929824561403508,0.030456852791878174,0.035398230088495575,0.02608695652173913,0.019417475728155338,0.033444816053511704,0.028708133971291867,0.0392156862745098,0.0395778364116095,0.04854368932038835,0.028169014084507043,0.02564102564102564,0.056782334384858045,0.038461538461538464,0.02460456942003515,0.048561343459193496,0.013201320132013201,0.03225806451612903,0.029585798816568046,0.0,0.01163586584531143,0.030120481927710843,0.02252252252252252,0.013888888888888888,0.0502283105022831,0.043010752688172046,0.042105263157894736,0.05157593123209169,0.03424657534246575,0.013793103448275862,0.03155818540433925,0.044444444444444446,0.011111111111111112,0.038834951456310676,0.041176470588235294,0.021052631578947368,0.038209295694325636,0.043523316062176166,0.02880658436213992,0.034993270524899055,0.022388059701492536,0.02622950819672131,0.018691588785046728,0.04854368932038835,0.029386343993085567,0.0,0.03914590747330961,0.0,0.0,0.058823529411764705,0.038461538461538464,0.058823529411764705,0.045454545454545456,0.0,0.01652892561983471,0.037037037037037035,0.045351473922902494,0.023696682464454975,0.014285714285714285,0.0,0.0443073471676949,0.01820250284414107,0.029411764705882353,0.031476997578692496,0.030366492146596858,0.029411764705882353,0.035398230088495575,0.035895075931891396,0.027649769585253458,0.04106280193236715,0.051305970149253734,0.04876367313172167,0.047859412974387734,0.06201550387596899,0.10807109940750494,0.03619750483219118,0.0422192151556157,0.05065359477124183,0.07720496894409938,0.12806192977605751,0.08997722095671981,0.05427509293680297,0.06963249516441006,0.07290400972053462,0.047516198704103674,0.06289308176100629,0.05281941470378301,0.04111755403268318,0.06278950077200206,0.06349206349206349,0.1495603055395083,0.02755790090882439,0.027065527065527065,0.054373522458628844,0.07754463703896781,0.029940119760479042,0.02935290193462308,0.048574445617740235,0.07278020378457059,0.029321930360415395,0.04686998394863563,0.059328091493924234,0.05592105263157895,0.06639427987742594,0.10905277874868927,0.028232636928289104,0.03322784810126582,0.05917159763313609,0.03543913713405239,0.07257930576316227,0.03172737955346651,0.07307171853856563,0.059326294620412265,0.02133850630455868,0.040892193308550186,0.08850668945908702,0.04561611374407583,0.045351473922902494,0.04719026179756545,0.020703933747412008,0.12080776487786636,0.04274646005877638,0.04303510758776897,0.06396283723423263,0.06408620445200623,0.05532178217821782,0.1064408829755065,0.01414027149321267,0.02914944529040679,0.021244309559939303,0.06388595564941922,0.05333333333333334,0.06035064059339177,0.03505817513778322,0.09882643607164916,0.043772563176895304,0.05010266940451746,0.05398504468356739,0.08042529989094875,0.06036615536862939,0.13871635610766045,0.02200825309491059,0.031594892880328934,0.040017785682525564,0.04065040650406504,0.05821917808219178,0.04013377926421405,0.049456725365305355,0.07676434172513413,0.07640190283984431,0.08824317086234601,0.040978189028420355,0.07441860465116279,0.09766039902397014,0.028132992327365727,0.06392595781317262,0.04063636363636364,0.06630710659898477,0.037764886942109624,0.032448377581120944,0.03788004651935537,0.05442176870748299,0.047584715212689255,0.05348919589089621,0.045236463331048665,0.03468566119541654,0.03313508920985556,0.027906976744186046,0.02867383512544803,0.06609195402298851,0.06039076376554174,0.06451612903225806,0.056838365896980464,0.11421911421911422,0.08149857954545454,0.055900621118012424,0.09320574162679426,0.10101010101010101,0.04126984126984127,0.09448482257374946,0.06416698879010437,0.04771371769383698,0.049586776859504134,0.01020408163265306,0.07936507936507936,0.04536082474226804,0.08185610010427528,0.0782608695652174,0.07333333333333333,0.05759162303664921,0.05625,0.03610675039246468,0.08333333333333333,0.037296037296037296,0.03731343283582089,0.11398176291793313,0.04918032786885246,0.01639344262295082,0.028846153846153848,0.097412109375,0.08620689655172414,0.037037037037037035,0.08629009367016748,0.0569593147751606,0.043912175648702596,0.07317073170731707,0.0,0.07462686567164178,0.03888888888888889,0.06464250734573947,0.07290400972053462,0.07701283547257877,0.036036036036036036,0.022271714922048998,0.04678362573099415,0.044897959183673466,0.03319502074688797,0.06622516556291391,0.08480243161094225,0.07568954457985888,0.03255813953488372,0.0832443970117396,0.04794520547945205,0.073,0.039473684210526314,0.05517241379310345,0.08494208494208494,0.07832278481012658,0.040152963671128104,0.0425531914893617,0.06276150627615062,0.023809523809523808,0.10071639275179098,0.07880910683012259,0.027422303473491772,0.03260869565217391,0.06891891891891892,0.05970149253731343,0.053452115812917596,0.0486322188449848,0.025974025974025976,0.027210884353741496,0.06847935548841894,0.06760098928276999,0.05747126436781609,0.033003300330033,0.04591104734576758,0.05785123966942149,0.08257258780271333,0.05012531328320802,0.04046242774566474,0.04372842347525892,0.04864864864864865,0.09454949944382647,0.05278592375366569,0.0078125,0.024896265560165973,0.08941877794336811,0.043243243243243246,0.07432432432432433,0.04854368932038835,0.06500691562932227,0.07457627118644068,0.04861111111111111,0.08100558659217877,0.038910505836575876,0.04946996466431095,0.06388206388206388,0.08097928436911488,0.0941346850108617,0.03125,0.03116883116883117,0.0676605504587156,0.09643776242719762,0.030634573304157548,0.060215053763440864,0.06666666666666667,0.0535031847133758,0.06775067750677506,0.032904148783977114,0.05966277561608301,0.07633587786259542,0.05128205128205128,0.0893854748603352,0.02903225806451613,0.03125,0.05785123966942149,0.061274509803921566,0.06172839506172839,0.03968253968253968,0.08908739739256398,0.041237113402061855,0.08663366336633663,0.05746691871455577,0.11009174311926606,0.08605020654591675,0.08376963350785341,0.05736636245110821,0.0611353711790393,0.058823529411764705,0.046645702306079666,0.04838709677419355,0.02766798418972332,0.04158790170132325,0.06513409961685823,0.04119850187265917,0.09532215357458076,0.03515625,0.0321285140562249,0.06622094874243871,0.047337278106508875,0.0391566265060241,0.06883116883116883,0.04892966360856269,0.09235352532274081,0.06035889070146819,0.035443037974683546,0.0226628895184136,0.0625,0.07228915662650602,0.028901734104046242,0.09564164648910412,0.074288256227758,0.060109289617486336,0.05405405405405406,0.06641000962463908,0.03543307086614173,0.06533827618164968,0.04610951008645533,0.04230769230769231,0.025974025974025976,0.06626506024096386,0.058493589743589744,0.06527855936972425,0.07488986784140969,0.047304730473047306,0.08450704225352113,0.062381852551984876,0.06594488188976377,0.06878612716763005,0.0784180483827127,0.028735632183908046,0.06557377049180328,0.06356968215158924,0.038461538461538464,0.07885304659498207,0.10079275198187995,0.08128834355828221,0.04157549234135667,0.04317789291882556,0.07407407407407407,0.037383177570093455,0.05656934306569343,0.09325090159711488,0.06534090909090909,0.08404693942277196,0.03770491803278689,0.04220779220779221,0.05602716468590832,0.025806451612903226,0.07334273624823695,0.01775147928994083,0.06306306306306306,0.03870967741935484,0.0594059405940594,0.04576271186440678,0.05689277899343545,0.07770542969380617,0.05782424044429925,0.03273809523809524,0.056228373702422146,0.028708133971291867,0.08187435633367662,0.046831955922865015,0.039045553145336226,0.03508771929824561,0.06493506493506493,0.037940379403794036,0.055248618784530384,0.029900332225913623,0.04897959183673469,0.03254067584480601,0.02857142857142857,0.02977667493796526,0.04539502400698385,0.043233082706766915,0.0460772104607721,0.01606425702811245,0.08217704635904055,0.059555555555555556,0.07868628121792678,0.03067484662576687,0.03309692671394799,0.05588822355289421,0.013937282229965157,0.03764705882352941,0.024464831804281346,0.047972587093089665,0.032,0.02984116797689716,0.01990049751243781,0.01020408163265306,0.041947565543071164,0.044642857142857144,0.05454545454545454,0.0,0.0,0.05026455026455026,0.03965129358830146,0.05194805194805195,0.027649769585253458,0.017204301075268817,0.07055093143083631,0.06432748538011696,0.07882637628554144,0.024390243902439025,0.0125,0.0136986301369863,0.03404255319148936,0.015625,0.025974025974025976,0.028503562945368172,0.04086845466155811,0.02127659574468085,0.054945054945054944,0.028070175438596492,0.04240282685512368,0.02834008097165992,0.03208556149732621,0.018726591760299626,0.024,0.059666666666666666,0.026714158504007122,0.05194805194805195,0.043478260869565216,0.02957906712172924,0.020618556701030927,0.014084507042253521,0.05636743215031315,0.042119565217391304,0.02877697841726619,0.036893203883495145,0.03508771929824561,0.05636303117718851,0.061224489795918366,0.0196078431372549,0.028368794326241134,0.04597701149425287,0.04878048780487805,0.02926481084939329,0.02680965147453083,0.021333333333333333,0.01662049861495845,0.012269938650306749,0.032953105196451206,0.028985507246376812,0.01680672268907563,0.03968253968253968,0.025806451612903226,0.030226700251889168,0.01744186046511628,0.05317460317460317,0.034482758620689655,0.020202020202020204,0.05068119891008174,0.017543859649122806,0.030428769017980636,0.03480040941658137,0.06535947712418301,0.04081632653061224,0.02531645569620253,0.05090909090909091,0.03250145095763204,0.0410958904109589,0.045584045584045586,0.025348542458808618,0.02631578947368421,0.03154875717017208,0.01674641148325359,0.03619503440023931,0.06695911512624508,0.03549060542797495,0.03547169811320755,0.017699115044247787,0.0053475935828877,0.02100840336134454,0.03380281690140845,0.032388663967611336,0.04,0.029556650246305417,0.043478260869565216,0.040280210157618214,0.03940886699507389,0.03368421052631579,0.0448642266824085,0.042366691015339665,0.018018018018018018,0.06211861501542681,0.027649769585253458,0.04570383912248629,0.025714285714285714,0.02127659574468085,0.026262626262626262,0.04,0.02,0.03180212014134275,0.007722007722007722,0.04013015184381779,0.01818181818181818,0.015069967707212056,0.019736842105263157,0.03686635944700461,0.0072992700729927005,0.03233830845771144,0.03131115459882583,0.04672897196261682,0.03529958197863446,0.03416856492027335,0.022988505747126436,0.029535864978902954,0.023255813953488372,0.014084507042253521,0.006734006734006734,0.02748091603053435,0.02912621359223301,0.003257328990228013,0.05785401950891356,0.04700530705079606,0.03663323157435674,0.0553306342780027,0.01680672268907563,0.02617801047120419,0.06696428571428571,0.028846153846153848,0.059233449477351915,0.029535864978902954,0.04806991988346686,0.04484304932735426,0.032224532224532226,0.01532567049808429,0.04621987454605481,0.047058823529411764,0.023529411764705882,0.03588290840415486,0.020703933747412008,0.03536345776031434,0.014388489208633094,0.0058823529411764705,0.02406417112299465,0.03418803418803419,0.10526315789473684,0.05547804677882642,0.047594142259414225,0.04632152588555858,0.022857142857142857,0.051604218083912946,0.0392156862745098,0.04895104895104895,0.06595995288574794,0.029988465974625143,0.022857142857142857,0.03483309143686502,0.01556420233463035,0.06698622656392209,0.02,0.02197802197802198,0.047182175622542594,0.055944055944055944,0.0,0.0345679012345679,0.026845637583892617,0.032879818594104306,0.020477815699658702,0.029411764705882353,0.03779697624190065,0.050323176361957524,0.03982930298719772,0.085219707057257,0.0316622691292876,0.05492864254895453,0.02074688796680498,0.03427172582619339,0.03586723768736617,0.030010718113612004,0.03810221652317274,0.050980392156862744,0.04710144927536232,0.06622516556291391,0.03424657534246575,0.009389671361502348,0.024154589371980676,0.04569606801275239,0.030054644808743168,0.043243243243243246,0.05502846299810247,0.056112224448897796,0.033707865168539325,0.03412462908011869,0.01948051948051948,0.05714285714285714,0.03139013452914798,0.01718213058419244,0.03559322033898305,0.011811023622047244,0.04,0.01639344262295082,0.02676864244741874,0.027002700270027002,0.0,0.01606425702811245,0.05802357207615594,0.040160642570281124,0.0,0.05845134076529075,0.06183017312448475,0.031654676258992806,0.029154518950437316,0.047337278106508875,0.043478260869565216,0.056317387208206844,0.0,0.05263157894736842,0.0148975791433892,0.04918032786885246,0.0,0.06209850107066381,0.05133821616811555,0.0640495867768595,0.014723926380368098,0.042924211938296444,0.035,0.02631578947368421,0.03731343283582089,0.054945054945054944,0.043209876543209874,0.01764705882352941,0.053691275167785234,0.0,0.0,0.06896551724137931,0.0,0.03940886699507389,0.03469640644361834,0.0625,0.061358962521509214,0.07096774193548387,0.04395604395604396,0.0,0.029411764705882353,0.031055900621118012,0.06370494551550712,0.06696428571428571,0.0,0.0,0.05663189269746647,0.03283458021612635,0.0,0.05314009661835749,0.030534351145038167,0.04081632653061224,0.024691358024691357,0.04819277108433735,0.011461318051575931,0.09302325581395349,0.039525691699604744,0.0,0.0449438202247191,0.05862758161225849,0.03333333333333333,0.035766070565490575,0.010416666666666666,0.0273972602739726,0.055341055341055344,0.0,0.047058823529411764,0.041666666666666664,0.043859649122807015,0.007272727272727273,0.01990049751243781,0.07099964676792653,0.03115264797507788,0.07272727272727272,0.03361344537815126,0.040632054176072234,0.05442176870748299,0.0,0.02197802197802198,0.054437869822485205,0.04477611940298507,0.0,0.024,0.038834951456310676,0.0604989604989605,0.0625,0.01556420233463035,0.05128205128205128,0.06973938863702643,0.011834319526627219,0.034782608695652174,0.0,0.024096385542168676,0.009900990099009901,0.032362459546925564,0.11428571428571428,0.056446821152703504,0.0,0.0,0.068762278978389,0.075,0.0,0.05207262761219596,0.020833333333333332,0.03260869565217391,0.03214285714285714,0.021739130434782608,0.05952380952380952,0.06093189964157706,0.04897959183673469,0.05714285714285714,0.07407407407407407,0.05263157894736842,0.026027047716254147,0.05,0.03418803418803419,0.05572289156626506,0.07142857142857142,0.03496503496503497,0.0,0.06580259222333001,0.050491629019399416,0.03225806451612903,0.008,0.031746031746031744,0.044596912521440824,0.0125,0.0,0.09352517985611511,0.04950495049504951,0.023668639053254437,0.034782608695652174,0.05950698696812686,0.0,0.04482758620689655,0.03389830508474576,0.02976190476190476,0.05755395683453238,0.04424778761061947,0.04040404040404041,0.019801980198019802,0.0,0.03980099502487562,0.017543859649122806,0.027586206896551724,0.02697495183044316,0.0,0.0,0.08333333333333333,0.011363636363636364,0.0427807486631016,0.050595238095238096,0.04365904365904366,0.0,0.0364963503649635,0.0625,0.01694915254237288,0.03953488372093023,0.01680672268907563,0.031746031746031744,0.06873700623700624,0.028985507246376812,0.028892455858747994,0.021739130434782608,0.03225806451612903,0.0,0.033112582781456956,0.0,0.03508771929824561,0.042042042042042045,0.036585365853658534,0.047619047619047616,0.04597701149425287,0.0,0.0,0.039077764751856196,0.0407040704070407,0.04230769230769231,0.04051012753188297,0.05117845117845118,0.060253337897980146,0.048796147672552165,0.0494469746258946,0.037719298245614034,0.04192208819458177,0.0359501100513573,0.04801097393689986,0.05587892898719441,0.041608489248813184,0.04312158182583088,0.06286324279444906,0.045283018867924525,0.03901273885350318,0.061566410981025436,0.044170518746789934,0.06073082861554297,0.05732484076433121,0.040240028238616304,0.04942528735632184,0.045023696682464455,0.055144337527757215,0.041168658698539175,0.07804168193104571,0.048082427017744706,0.04764397905759162,0.08323644435049149,0.056134723336006415,0.038922155688622756,0.02866779089376054,0.12093023255813953,0.05426356589147287,0.061895551257253385,0.052349791790600834,0.04614518851997749,0.05419847328244275,0.036036036036036036,0.03983516483516483,0.028642590286425903,0.05698529411764706,0.03596698113207547,0.04908675799086758,0.03164029975020816,0.04450261780104712,0.07692307692307693,0.06578419574809466,0.06149193548387097,0.03508771929824561,0.030257186081694403,0.041666666666666664,0.06969099276791585,0.08142760740796282,0.05043301069791136,0.05136842105263158,0.049863387978142076,0.02912621359223301,0.061764705882352944,0.044642857142857144,0.051054384017758046,0.0745495961896873,0.07249439641370477,0.0443609022556391,0.06658291457286432,0.10606060606060606,0.0481981981981982,0.04326923076923077,0.09204835311079072,0.0767609120654188,0.04996470795835539,0.06738410793886014,0.10061919504643962,0.05533947122249028,0.050634667406533954,0.13109243697478992,0.07407407407407407,0.07959331630187116,0.08662636390445297,0.05777762004471732,0.06315789473684211,0.06510745891276865,0.07280750137892995,0.07165109034267912,0.09090909090909091,0.061170212765957445,0.03327840520879386,0.0671280276816609,0.06467661691542288,0.09464285714285714,0.054945054945054944,0.05749596990865126,0.07257383966244725,0.04450625869262865,0.0703125,0.1406025824964132,0.07801418439716312,0.08695652173913043,0.07538802660753881,0.09496919917864477,0.07132906101978267,0.12084592145015106,0.0610279958524663,0.07006369426751592,0.07550582593698733,0.04408617491796262,0.06985294117647059,0.08733954190787818,0.06048071548351034,0.06391087047063723,0.06607929515418502,0.0748413072065198,0.0818452380952381,0.06494505104515397,0.05543460056941886,0.07859078590785908,0.07971288250850019,0.054804127842901514,0.05460817495443895,0.06974981046247157,0.09114414996767937,0.07338551859099804,0.08488394250428746,0.06481336873340622,0.11725206611570248,0.061720775212936674,0.07407407407407407,0.055384615384615386,0.07017543859649122,0.06987473041282924,0.05121754880257597,0.07890337679705783,0.05475206611570248,0.018518518518518517,0.055944055944055944,0.023255813953488372,0.04419334588826114,0.08096917650667075,0.07474368632227939,0.07021936099189319,0.052083333333333336,0.02127659574468085,0.061148473515269586,0.03695851883259134,0.0682007869321569,0.07075823029941904,0.07755458515283843,0.08585331942996177,0.07333898099963694,0.06265721472673222,0.04456824512534819,0.06540930979133226,0.0533462657613967,0.08664546899841018,0.07735368214226658,0.04852686308492201,0.09794628751974724,0.08336772595955427,0.07969132596275136,0.06060606060606061,0.10643098909364422,0.07211698238617481,0.046012269938650305,0.07918367346938776,0.04120498614958449,0.0929962057098852,0.040968342644320296,0.06983137829912023,0.11898016997167139,0.09503394069310468,0.05926860025220681,0.036458333333333336,0.07301805258269052,0.05405405405405406,0.031192271941074726,0.06150978564771668,0.03731343283582089,0.030303030303030304,0.06514356282803334,0.04846335697399527,0.038314176245210725,0.08272859216255443,0.05626548993532007,0.04040404040404041,0.06798300424893776,0.0,0.03763059563252215,0.07129455909943715,0.05139169647022236,0.0687866317495947,0.056214657944339726,0.09181167929966905,0.09587727708533078,0.05607498317982507,0.09345794392523364,0.07520564042303172,0.06652977412731007,0.12987012987012986,0.07268170426065163,0.06333520494104436,0.012987012987012988,0.05163267711894377,0.06201101130107215,0.0916030534351145,0.0890302066772655,0.08041360518502769,0.06718883857544976,0.07211878387933066,0.07196082605918672,0.03360290619729274,0.05077262693156733,0.08624018535204016,0.09516380655226209,0.07249466950959488,0.07609988109393578,0.059275521405049394,0.10012836970474968,0.05670611439842209,0.07357373814873677,0.045618556701030925,0.0627177700348432,0.07863849765258216,0.09239723535831211,0.06744186046511629,0.06684666993945344,0.08234019501625135,0.0451837140019861,0.09611940298507463,0.08339952343129468,0.05275571978929161,0.07375886524822695,0.08129755706848218,0.08470764617691154,0.040079547192901945,0.04743362831858407,0.06998654104979811,0.06259464916708733,0.08024776324845148,0.040108520310896026,0.05185185185185185,0.09073482428115016,0.06776859504132231,0.0685805422647528,0.040702350102761145,0.06493506493506493,0.08142605633802817,0.04933920704845815,0.06419753086419754,0.09499358151476252,0.11320754716981132,0.09537557354230036,0.10845157310302282,0.0784741144414169,0.08504398826979472,0.11727416798732171,0.12626535816397497,0.11527093596059114,0.10569105691056911,0.09842931937172775,0.10514018691588785,0.07953876926697258,0.08735540486637415,0.06639004149377593,0.11424404472532815,0.10526315789473684,0.07327586206896551,0.028057749931898666,0.10526315789473684,0.09529333035913451,0.050706033376123234,0.06568856285428476,0.1488933601609658,0.08519269776876268,0.075,0.09994655264564405,0.10880037598402068,0.07251461988304093,0.08538163001293661,0.10292397660818714,0.11866666666666667,0.07468879668049792,0.10860457621656462,0.08480975893116469,0.09094442285270113,0.07040552200172563,0.11647091722595078,0.09748892171344166,0.05637982195845697,0.0815114709851552,0.1592920353982301,0.05804195804195804,0.10012360939431397,0.0479343220338983,0.06020066889632107,0.086213877599988,0.07924528301886792,0.08950312602829878,0.08544769377694035,0.07524752475247524,0.10308641975308643,0.10377358490566038,0.0986809965803615,0.09362730292962851,0.0605296343001261,0.08363116511794139,0.07551487414187644,0.10757946210268948,0.07097791798107256,0.06140350877192982,0.09978308026030369,0.11716510635156913,0.08372881355932203,0.0947535951799011,0.09506358574753436,0.10928512736236648,0.07205373498880521,0.12166666666666667,0.11078140454995054,0.11724202980569703,0.09453471196454949,0.08260869565217391,0.08478882184820578,0.12277619152207336,0.05245901639344262,0.09476626593641342,0.07432432432432433,0.11483086588522731,0.06629834254143646,0.08169533169533169,0.0784,0.08130563798219585,0.08742331288343558,0.09937888198757763,0.10610676910849119,0.13295615275813297,0.09527468305800998,0.10954493598681708,0.04161849710982659,0.06695526695526696,0.06117071334462639,0.04441541476159373,0.08163265306122448,0.15366350067842605,0.09822087156640014,0.07142857142857142,0.096875,0.0874751491053678,0.07923673997412678,0.05507092467571873,0.07059298104074223,0.1204644412191582,0.10637832584133156,0.07120085015940489,0.08904608342869032,0.08250422376572179,0.07408989003950037,0.05641533201367645,0.07146143229566017,0.10141710773433499,0.0898909232567199,0.11283075386919621,0.08284162400844047,0.08882514818936575,0.10795639971281248,0.07985160321526368,0.07986565719815564,0.10020080321285141,0.05597037951249614,0.09415661225455406,0.08733111415703936,0.06027471928485773,0.08753049217965275,0.07129364252214695,0.08107564570345045,0.11540822590546347,0.07789561986937504,0.07805389078985857,0.11670020120724346,0.06814136791253496,0.04975124378109453,0.08408408408408409,0.07667862312000503,0.09209245742092458,0.06578111464048512,0.09090483107633195,0.05519511958942578,0.09200438116100766,0.12047885888945492,0.091015625,0.09048976114228634,0.06851805416248746,0.0780953626790503,0.1111111111111111,0.02443609022556391,0.015748031496062992,0.05714285714285714,0.047872340425531915,0.07578187650360867,0.05161290322580645,0.02564102564102564,0.05236907730673317,0.07361798955963057,0.05737704918032787,0.06979062811565304,0.0549738219895288,0.06353591160220995,0.06854256854256854,0.06970509383378017,0.05496828752642706,0.0521415270018622,0.08190327613104524,0.013232514177693762,0.014084507042253521,0.025356576862123614,0.04336292215080094,0.009174311926605505,0.05042016806722689,0.017857142857142856,0.03760071620411817,0.046153846153846156,0.0679177837354781,0.03067484662576687,0.03802281368821293,0.060166886253842776,0.038461538461538464,0.07142857142857142,0.0625,0.05167464114832536,0.02830188679245283,0.05149700598802395,0.0761904761904762,0.0425531914893617,0.062025881302989735,0.04871660555264536,0.0,0.04297994269340974,0.05606060606060606,0.0967741935483871,0.02112676056338028,0.05429864253393665,0.03294117647058824,0.0313512112968001,0.03322259136212625,0.016129032258064516,0.05246422893481717,0.05333333333333334,0.02318840579710145,0.05555555555555555,0.06997342781222321,0.04938271604938271,0.018518518518518517,0.07579888755589487,0.031746031746031744,0.04235463029432879,0.037383177570093455,0.05808325266214908,0.06275681733283527,0.0667302192564347,0.07431340872374798,0.08244962884411453,0.05056759545923633,0.10017102369899829,0.0,0.08870034708831469,0.022598870056497175,0.05042016806722689,0.15328467153284672,0.030311087476734912,0.0861031143679665,0.061966487511855836,0.05,0.05608974358974359,0.039735099337748346,0.028606965174129355,0.025974025974025976,0.04804560260586319,0.05638474295190713,0.04918687019854335,0.03773584905660377,0.06602596105841238,0.02830188679245283,0.06622516556291391,0.02506265664160401,0.022813688212927757,0.01567398119122257,0.016666666666666666,0.012195121951219513,0.017094017094017096,0.0757243195785777,0.039382239382239385,0.05263157894736842,0.04713804713804714,0.05730027548209366,0.053691275167785234,0.041666666666666664,0.0569593147751606,0.09318637274549098,0.051387461459403906,0.053636733035351485,0.05797680927628948,0.036346691519105315,0.057692307692307696,0.037383177570093455,0.05319148936170213,0.013333333333333334,0.037578288100208766,0.03314917127071823,0.0,0.044444444444444446,0.036585365853658534,0.0,0.038288288288288286,0.02666666666666667,0.053081943437273384,0.0407673860911271,0.024193548387096774,0.042042042042042045,0.03002309468822171,0.03409090909090909,0.01366742596810934,0.045714285714285714,0.04020100502512563,0.030502885408079144,0.05113636363636364,0.02,0.01020408163265306,0.018691588785046728,0.049910873440285206,0.02553191489361702,0.0395882818685669,0.04597701149425287,0.0196078431372549,0.064,0.04932301740812379,0.02727272727272727,0.026395939086294416,0.0196078431372549,0.0,0.03636363636363636,0.04854368932038835,0.03535176758837942,0.037037037037037035,0.0136986301369863,0.0502092050209205,0.031467252103915114,0.03816793893129771,0.07920792079207921,0.05245901639344262,0.08273533136344449,0.045307443365695796,0.04324734446130501,0.03076923076923077,0.059665871121718374,0.11320754716981132,0.06806097128677774,0.054945054945054944,0.05813953488372093,0.045454545454545456,0.039886039886039885,0.05,0.06293706293706294,0.05357142857142857,0.05680473372781065,0.058333333333333334,0.04473438956197577,0.045112781954887216,0.047619047619047616,0.07936507936507936,0.07761194029850746,0.07164179104477612,0.0749185667752443,0.038910505836575876,0.04081632653061224,0.06976744186046512,0.04550379198266522,0.02631578947368421,0.022099447513812154,0.035326086956521736,0.0410958904109589,0.041916167664670656,0.05519053876478318,0.057692307692307696,0.05363984674329502,0.03,0.049099836333878884,0.04433497536945813,0.01951219512195122,0.0,0.022222222222222223,0.0,0.0392156862745098,0.07028753993610223,0.07060567339637107,0.060133630289532294,0.0,0.0,0.08097165991902834,0.06768792304951905,0.035398230088495575,0.06506479481641468,0.043478260869565216,0.01904761904761905,0.0,0.025806451612903226,0.06956521739130435,0.03418803418803419,0.06136546184738956,0.05437824870051979,0.07837837837837838,0.07766990291262135,0.04692737430167598,0.061764705882352944,0.031746031746031744,0.05873715124816446,0.06529209621993128,0.07407407407407407,0.041791044776119404,0.057410881801125704,0.047619047619047616,0.0392156862745098,0.034782608695652174,0.03816793893129771,0.07728177423940859,0.06349206349206349,0.04,0.011235955056179775,0.029994001199760048,0.03636363636363636,0.015503875968992248,0.02506265664160401,0.029806259314456036,0.01282051282051282,0.0594059405940594,0.061696658097686374,0.0425531914893617,0.021739130434782608,0.04294478527607362,0.006756756756756757,0.023076923076923078,0.06420878210439106,0.036122177954847276,0.05888198757763975,0.010752688172043012,0.024096385542168676,0.06458406458406458,0.01652892561983471,0.043478260869565216,0.047660311958405546,0.06358437530289814,0.036303630363036306,0.046357615894039736,0.0738255033557047,0.03460207612456748,0.04501607717041801,0.02109704641350211,0.08181818181818182,0.06730627306273063,0.0521467835388501,0.09676096760967609,0.06675811614083219,0.07043701799485862,0.057864281956864806,0.05242266630166986,0.0440771349862259,0.06084921430959545,0.04328621908127209,0.05389221556886228,0.027225130890052355,0.07505070993914807,0.07014388489208633,0.04975728155339806,0.04812934762173341,0.07179710776833079,0.0468384074941452,0.02991026919242273,0.08470588235294117,0.06876790830945559,0.05905511811023622,0.059190031152647975,0.035046728971962614,0.04447115384615385,0.09341057204923968,0.0793502479695249,0.049328980776206025,0.07685098406747891,0.06442953020134229,0.044173648134044174,0.0813362381989833,0.05434782608695652,0.06781829814459372,0.08166811468288444,0.09709821428571429,0.043478260869565216,0.06120760959470637,0.06532663316582915,0.09476209516193522,0.06140350877192982,0.07434944237918216,0.04915912031047866,0.057494866529774126,0.0725,0.06776180698151951,0.05737109658678286,0.08038976857490865,0.04449938195302843,0.057815845824411134,0.07283866575901975,0.044350580781414996,0.0880056777856636,0.078125,0.05566801619433198,0.06448598130841121,0.04424778761061947,0.10689273866568375,0.05534351145038168,0.08289156626506024,0.0897571277719113,0.08455705287412765,0.06393328700486449,0.08135235076597992,0.0472972972972973,0.05515587529976019,0.053388090349075976,0.09926854754440961,0.0594059405940594,0.046565774155995346,0.06481058877225011,0.05272108843537415,0.08367626886145405,0.07467532467532467,0.058823529411764705,0.056015276893698285,0.08681925808997633,0.030874785591766724,0.07715674362089915,0.06578366445916115,0.05593922651933702,0.0736196319018405,0.06238998630940739,0.04732957012592271,0.05054432348367029,0.05480540111199365,0.062372881355932205,0.043478260869565216,0.056784968684759914,0.09230769230769231,0.0628385698808234,0.0508646998982706,0.10191718337965933,0.059691482226693494,0.04308617234468938,0.059510567296996664,0.05164992826398852,0.05827505827505827,0.08644400785854617,0.05460750853242321,0.05096262740656852,0.07673223462697147,0.06741573033707865,0.08878597997853059,0.039448966812773954,0.067621776504298,0.05514705882352941,0.08460403344810624,0.09885931558935361,0.0634455832113226,0.06009233330810566,0.10489949748743718,0.05725971370143149,0.07474614516735614,0.03201970443349754,0.07018474321576947,0.055384615384615386,0.04822111143781241,0.06022368798394035,0.09230961923847696,0.07488567073170732,0.08084696823869104,0.052672750977835726,0.09085223573816299,0.06284412378963357,0.07583687172904117,0.04449388209121246,0.04886685552407932,0.043010752688172046,0.06042884990253411,0.10529381781111193,0.08133114460528279,0.0804899387576553,0.05913583272073838,0.07330637007077856,0.08467596271945668,0.10140488545753702,0.06353897303287773,0.08886509635974305,0.07313879536101758,0.056175813844165,0.06901140684410646,0.07712765957446809,0.08010264454791514,0.08322686621646286,0.07879924953095685,0.10215482841181166,0.09411764705882353,0.07946929284639584,0.06842923794712286,0.08068689720065866,0.05167958656330749,0.05506072874493927,0.03457307490832897,0.07258514796203239,0.07900136798905609,0.11332633788037776,0.06666666666666667,0.042395437262357415,0.10231454005934718,0.04390243902439024,0.03837953091684435,0.0507399577167019,0.07037037037037037,0.050793650793650794,0.07746926052069503,0.05238649592549476,0.03865546218487395,0.08096446700507615,0.06216146505029662,0.03134328358208955,0.04764671702498547,0.05230210016155089,0.07082587573510611,0.05211726384364821,0.0661794836770933,0.050190114068441066,0.05161290322580645,0.05555555555555555,0.03314917127071823,0.0735062329846683,0.062118126272912425,0.024096385542168676,0.0,0.03840245775729647,0.03644646924829157,0.015625,0.0,0.0398406374501992,0.03463203463203463,0.0136986301369863,0.05555555555555555,0.04487179487179487,0.08182240818224082,0.0,0.04838709677419355,0.07449392712550608,0.027210884353741496,0.045454545454545456,0.0,0.06976744186046512,0.05555555555555555,0.0975609756097561,0.05737704918032787,0.0653061224489796,0.033783783783783786,0.038338658146964855,0.015873015873015872,0.09574468085106383,0.047058823529411764,0.05128205128205128,0.045454545454545456,0.07023255813953488,0.028985507246376812,0.03617571059431524,0.01702127659574468,0.01834862385321101,0.03125,0.04424778761061947,0.041811846689895474,0.05168820341809087,0.019880715705765408,0.019801980198019802,0.04357298474945534,0.06338028169014084,0.03571428571428571,0.05555555555555555,0.030303030303030304,0.04838709677419355,0.058823529411764705,0.0,0.07044864664441973,0.0,0.03076923076923077,0.04938271604938271,0.05154639175257732,0.041044776119402986,0.03254437869822485,0.08983451536643026,0.060174552135966924,0.09979728676126617,0.06557377049180328,0.023809523809523808,0.06657223796033994,0.06896551724137931,0.04672897196261682,0.021897810218978103,0.04195804195804196,0.05847953216374269,0.058394160583941604,0.047021943573667714,0.0380952380952381,0.015151515151515152,0.0,0.07453416149068323,0.0,0.031446540880503145,0.1,0.028037383177570093,0.019801980198019802,0.08679245283018867,0.008620689655172414,0.011904761904761904,0.08571428571428572,0.01639344262295082,0.04040404040404041,0.0,0.02631578947368421,0.04433497536945813,0.03333333333333333,0.07809242200235035,0.043478260869565216,0.050505050505050504,0.07142857142857142,0.016129032258064516,0.043478260869565216,0.05555555555555555,0.020618556701030927,0.05291005291005291,0.06140350877192982,0.01639344262295082,0.072992700729927,0.05,0.037037037037037035,0.04319654427645788,0.08372093023255814,0.0,0.05235602094240838,0.018518518518518517,0.05185185185185185,0.043243243243243246,0.0196078431372549,0.05970149253731343,0.047619047619047616,0.03508771929824561,0.062111801242236024,0.02631578947368421,0.012987012987012988,0.0,0.08118556701030928,0.06865671641791045,0.04899777282850779,0.07692307692307693,0.0,0.04,0.029411764705882353,0.008130081300813009,0.03571428571428571,0.06041666666666667,0.0,0.06469500924214418,0.01834862385321101,0.04040404040404041,0.08024691358024691,0.05699481865284974,0.015625,0.0,0.027777777777777776,0.08932038834951456,0.0775347912524851,0.017543859649122806,0.06557377049180328,0.02,0.0,0.03636363636363636,0.019417475728155338,0.04395604395604396,0.08765522279035792,0.029556650246305417,0.0,0.041666666666666664,0.01639344262295082,0.05654761904761905,0.037037037037037035,0.037037037037037035,0.020100502512562814,0.03278688524590164,0.08080808080808081,0.046511627906976744,0.028985507246376812,0.05827650340979541,0.03558718861209965,0.03409090909090909,0.03278688524590164,0.031746031746031744,0.03968253968253968,0.02127659574468085,0.06814999222032052,0.0,0.02127659574468085,0.043478260869565216,0.05,0.02843601895734597,0.08095238095238096,0.037037037037037035,0.013333333333333334,0.08536585365853659,0.06754772393538913,0.031007751937984496,0.06451612903225806,0.05555555555555555,0.03389830508474576,0.049315068493150684,0.05970149253731343,0.04054054054054054,0.05055292259083728,0.02127659574468085,0.035398230088495575,0.058823529411764705,0.12990284274919037,0.11944570945286578,0.06821118700387668,0.10943505816833797,0.1073943661971831,0.11935976835840104,0.07282913165266107,0.11975887474882786,0.12891010865986172,0.08474931822949444,0.12913645352669742,0.06997957147607962,0.11814345991561181,0.07262934551983026,0.0765185108796535,0.11964970791402593,0.10601689136022661,0.07591868216627183,0.09203217596462873,0.11846014726779486,0.07978521451429191,0.12891381653126716,0.12712956335003578,0.05726385564352789,0.08540925266903915,0.1323949727888493,0.10184962767235167,0.05844188251734292,0.08170155300472653,0.08734313373969164,0.10555977023951447,0.10385910385910387,0.10317252228631359,0.05820371299548419,0.09494584837545127,0.09663641217298452,0.08622823665318921,0.07744687833292313,0.09501525940996948,0.09386849824712026,0.09503695881731784,0.09088173337345772,0.09266335498662591,0.10071090047393365,0.052779337450870295,0.08578088578088579,0.0882120253164557,0.09197559831065227,0.08594075928243639,0.05058717253839205,0.07668373940931501,0.04335818834576084,0.11441647597254005,0.0430793777423215,0.09808342728297632,0.10708310094813163,0.08250271390506267,0.0725404110955897,0.08272129880170082,0.08103545301069218,0.09024527242089496,0.09083402146985962,0.0938945420906568,0.10974822466107166,0.07654723127035831,0.10224901460700209,0.08412073490813649,0.12431896978702328,0.08372648212357188,0.09327115256495669,0.12516644474034622,0.08256914075276503,0.09372923800275974,0.08573298429319372,0.07964025797290102,0.10948046857988938,0.10945630719540643,0.09539473684210527,0.07502621520143422,0.07659157688540646,0.04236006051437216,0.0974956686092298,0.09849674669059906,0.10432782772318629,0.08149474413769205,0.057133043279139,0.10095159288374017,0.0987599645704163,0.10031828362607569,0.08797750950884736,0.09199602482096327,0.08638093662088367,0.06034958601655934,0.10857495373226403,0.08975591005189314,0.07516805866775311,0.07920792079207921,0.06578947368421052,0.047619047619047616,0.075,0.024096385542168676,0.03496503496503497,0.020202020202020204,0.07898259705488621,0.10300429184549356,0.03911111111111111,0.05970149253731343,0.024539877300613498,0.10743801652892562,0.05732484076433121,0.0664451827242525,0.08045977011494253,0.035211267605633804,0.07272727272727272,0.046052631578947366,0.08624229979466119,0.07317073170731707,0.10273972602739725,0.06564551422319474,0.057692307692307696,0.04929577464788732,0.08653846153846154,0.08835341365461848,0.060240963855421686,0.11261261261261261,0.043010752688172046,0.025510204081632654,0.10542635658914729,0.07079646017699115,0.053763440860215055,0.058823529411764705,0.06451612903225806,0.05,0.08515535097813579,0.06645569620253164,0.14250614250614252,0.02564102564102564,0.020833333333333332,0.053830227743271224,0.08333333333333333,0.10758785346564202,0.026905829596412557,0.055944055944055944,0.0,0.06593406593406594,0.06397306397306397,0.05802047781569966,0.028368794326241134,0.03636363636363636,0.08163265306122448,0.10344827586206896,0.09022556390977443,0.10740740740740741,0.05241935483870968,0.04597701149425287,0.02857142857142857,0.05917159763313609,0.04851367419738407,0.05527638190954774,0.10323709536307961,0.10927152317880795,0.09302325581395349,0.034482758620689655,0.06818181818181818,0.08284023668639054,0.072992700729927,0.05353319057815846,0.05194805194805195,0.08745247148288973,0.07654563297350343,0.07874865156418555,0.06862745098039216,0.07658321060382917,0.019801980198019802,0.06266786034019696,0.04504504504504504,0.07246376811594203,0.03636363636363636,0.060109289617486336,0.069450186027284,0.09251101321585903,0.10256410256410256,0.10315186246418338,0.10666666666666667,0.0125,0.047058823529411764,0.09276018099547512,0.04633204633204633,0.0,0.025179856115107913,0.0972394540942928,0.08080808080808081,0.08290155440414508,0.06201550387596899,0.07058823529411765,0.05183585313174946,0.047619047619047616,0.050359712230215826,0.08823529411764706,0.08366733466933868,0.09701492537313433,0.125,0.09009009009009009,0.09009009009009009,0.06611570247933884,0.021739130434782608,0.034334763948497854,0.056910569105691054,0.03125,0.07346938775510205,0.07042253521126761,0.06028368794326241,0.042328042328042326,0.028846153846153848,0.09283819628647215,0.06542056074766354,0.0653061224489796,0.05522827687776141,0.08151382823871907,0.0,0.0823045267489712,0.048,0.0661625708884688,0.04216867469879518,0.06926406926406926,0.08577878103837472,0.08395061728395062,0.06825938566552901,0.04580152671755725,0.07653061224489796,0.06666666666666667,0.028985507246376812,0.024390243902439025,0.06451612903225806,0.07423580786026202,0.05333333333333334,0.1038961038961039,0.06021314387211368,0.08536585365853659,0.051470588235294115,0.02197802197802198,0.05436337625178827,0.05194805194805195,0.0966183574879227,0.09523809523809523,0.06557377049180328,0.08333333333333333,0.029787234042553193,0.05172413793103448,0.11290322580645161,0.06842105263157895,0.08149405772495756,0.043137254901960784,0.04242424242424243,0.0695344725987036,0.05918189730200174,0.0772626931567329,0.1111111111111111,0.06968641114982578,0.08080808080808081,0.044444444444444446,0.06756756756756757,0.06291390728476821,0.0975609756097561,0.0963302752293578,0.055384615384615386,0.06962962962962962,0.02727272727272727,0.11314984709480122,0.05263157894736842,0.024193548387096774,0.035398230088495575,0.04878048780487805,0.06205250596658711,0.056338028169014086,0.05177993527508091,0.019230769230769232,0.0,0.022222222222222223,0.059322033898305086,0.12162162162162163,0.05314009661835749,0.0472972972972973,0.06134515890613452,0.03550295857988166,0.09124087591240876,0.047244094488188976,0.049019607843137254,0.0670391061452514,0.025,0.07171314741035857,0.01680672268907563,0.05660377358490566,0.04040404040404041,0.035211267605633804,0.0736196319018405,0.05654761904761905,0.09090909090909091,0.0,0.08648648648648649,0.10212765957446808,0.041237113402061855,0.04504504504504504,0.0625,0.034482758620689655,0.03067484662576687,0.10471204188481675,0.038461538461538464,0.1044776119402985,0.037037037037037035,0.08780487804878048,0.125,0.096,0.11290322580645161,0.035211267605633804,0.0625,0.04411764705882353,0.05042016806722689,0.10338835794960903,0.07878787878787878,0.02040816326530612,0.038834951456310676,0.10738255033557047,0.0918918918918919,0.10199350950394066,0.05714285714285714,0.048484848484848485,0.0,0.0636604774535809,0.030534351145038167,0.018691588785046728,0.08280254777070063,0.0663265306122449,0.02,0.09090909090909091,0.0196078431372549,0.06467661691542288,0.022727272727272728,0.0728476821192053,0.03389830508474576,0.0,0.06315789473684211,0.09375,0.08403361344537816,0.031914893617021274,0.05555555555555555,0.058333333333333334,0.050682261208576995,0.05741626794258373,0.07216494845360824,0.06578947368421052,0.03571428571428571,0.09116309874507586,0.058823529411764705,0.047619047619047616,0.0,0.0918580375782881,0.08430913348946135,0.02564102564102564,0.025,0.05286343612334802,0.12121212121212122,0.058823529411764705,0.06334841628959276,0.07017543859649122,0.0650887573964497,0.06535947712418301,0.03162055335968379,0.034013605442176874,0.07166123778501629,0.04040404040404041,0.06722689075630252,0.09090300555592744,0.0453257790368272,0.056795131845841784,0.03260869565217391,0.048,0.048513302034428794,0.04878048780487805,0.08441558441558442,0.0663265306122449,0.03867403314917127,0.05907172995780591,0.02181818181818182,0.046511627906976744,0.020833333333333332,0.049019607843137254,0.04132231404958678,0.06844106463878327,0.08892617449664429,0.036036036036036036,0.0625,0.03389830508474576,0.07272727272727272,0.02262443438914027,0.041666666666666664,0.030303030303030304,0.0125,0.11654257041113629,0.052346570397111915,0.03183023872679045,0.06818181818181818,0.05102040816326531,0.05454545454545454,0.045454545454545456,0.02203856749311295,0.034934497816593885,0.0963855421686747,0.04132231404958678,0.14814814814814814,0.07674943566591422,0.06557377049180328,0.006622516556291391,0.06315789473684211,0.025236593059936908,0.0410958904109589,0.07894736842105263,0.05517241379310345,0.05970149253731343,0.06060606060606061,0.016666666666666666,0.06734006734006734,0.05745062836624776,0.03305785123966942,0.02564102564102564,0.06756756756756757,0.08191126279863481,0.07657657657657657,0.06521739130434782,0.07733787427274018,0.07909604519774012,0.0898876404494382,0.05536332179930796,0.0594059405940594,0.06060606060606061,0.0642570281124498,0.022727272727272728,0.07867858282796042,0.0390625,0.04027617951668585,0.07179487179487179,0.0,0.04807692307692308,0.0,0.1258741258741259,0.04,0.0657439446366782,0.026845637583892617,0.057279236276849645,0.1079913606911447,0.10500610500610501,0.07706909643128322,0.05363984674329502,0.0380952380952381,0.07960199004975124,0.05454545454545454,0.019230769230769232,0.06557377049180328,0.06391072787217854,0.12476722532588454,0.08929477422628107,0.10956394283620374,0.08352418159773677,0.0964482392765119,0.09703075291622482,0.10838272650296359,0.10005579319323042,0.11527317880794702,0.09238764675091603,0.10240747394897592,0.10356150543066431,0.09032258064516129,0.11310008136696502,0.11574362165525824,0.10522368304950146,0.11912225705329153,0.09081133919843597,0.12957894736842104,0.14345114345114346,0.12810758205786074,0.11501459725297333,0.11515242229207205,0.13315093479252166,0.11972683682859496,0.11103660989674131,0.11869003627487541,0.08592592592592592,0.08755760368663594,0.1267254972475034,0.09347914606480134,0.08343322944138096,0.12545824847250509,0.07442641298265248,0.11553922131618238,0.11800649226656483,0.11715990863766977,0.12686725663716814,0.06068089610160522,0.11563169164882227,0.10969494358545759,0.1307841157664479,0.1109857035364936,0.12367796244334124,0.10302321396436927,0.09740007760962359,0.09621289662231321,0.08214702450408401,0.10943269553541457,0.13290221875348424,0.07668711656441718,0.10537232939224227,0.09753298909925416,0.09326845093268452,0.07773259985649367,0.07961783439490445,0.08065458796025717,0.08023255813953488,0.09086561453849833,0.06458333333333334,0.07709275394286974,0.09287099903006789,0.10140845070422536,0.0830415207603802,0.07789095266626722,0.04159733777038269,0.07905138339920949,0.06141248720573183,0.07657378066708045,0.05747126436781609,0.0919239490668062,0.07740975065128396,0.0767687533306166,0.06474820143884892,0.08625954198473282,0.08438362741567638,0.08707360861759425,0.07688812142143052,0.07232401157184185,0.05505558496559026,0.06028727493425046,0.06961178045515395,0.06697753285290377,0.0735873850197109,0.04017041996348144,0.09828393135725429,0.053691275167785234,0.08282369386685305,0.06764466177669112,0.06703204047217538,0.09376723662437948,0.05365853658536585,0.06706609972941631,0.07739499764039641,0.06963378775728415,0.09363867684478372,0.07825353300991351,0.060759493670886074,0.0868470736312146,0.10031225604996097,0.05728155339805825,0.09169054441260745,0.05787781350482315,0.028169014084507043,0.05867990559127533,0.0759493670886076,0.08318950638591646,0.07205882352941176,0.06082725060827251,0.09692253272019809,0.07924921793534932,0.06255265374894692,0.08138975715316182,0.061284486657620985,0.06723442402510085,0.0831758034026465,0.08695652173913043,0.06181818181818182,0.07183908045977011,0.08045977011494253,0.07581699346405228,0.09071818563628728,0.0625,0.0706401766004415,0.10880829015544041,0.05931067118857954,0.07424542850848205,0.08042002594754888,0.06238049713193117,0.06037735849056604,0.06991260923845194,0.0934596301308074,0.08817921830314586,0.078125,0.06421543241843604,0.0656525220176141,0.08300395256916997,0.07599953374519175,0.06766917293233082,0.09598818606940684,0.056338028169014086,0.16326530612244897,0.06866002214839424,0.06954225352112677,0.08308004052684904,0.06646525679758308,0.07992007992007992,0.09410061527325371,0.05456852791878172,0.0779874213836478,0.04584352078239609,0.07133659541591553,0.06981317600786627,0.06116207951070336,0.0726605504587156,0.05104408352668213,0.0,0.026845637583892617,0.044905008635578586,0.0,0.0,0.04878048780487805,0.016129032258064516,0.01818181818181818,0.029411764705882353,0.037267080745341616,0.031746031746031744,0.0,0.0,0.0,0.031746031746031744,0.01020408163265306,0.0,0.03278688524590164,0.06896551724137931,0.024291497975708502,0.034317637669592976,0.03763440860215054,0.06993006993006994,0.03418803418803419,0.0,0.04681647940074907,0.08100558659217877,0.07559681697612732,0.08235294117647059,0.054945054945054944,0.0449438202247191,0.03941605839416058,0.05263157894736842,0.028169014084507043,0.047960308710033074,0.043154761904761904,0.04033214709371293,0.025974025974025976,0.12162162162162163,0.1076923076923077,0.0,0.0,0.0196078431372549,0.038461538461538464,0.02912621359223301,0.07633587786259542,0.06993006993006994,0.05128205128205128,0.0625,0.055823939881910895,0.017241379310344827,0.03676470588235294,0.009345794392523364,0.07142857142857142,0.0,0.06167771813493317,0.021176470588235293,0.03333333333333333,0.0,0.03529411764705882,0.044444444444444446,0.05058365758754864,0.04127579737335835,0.04472843450479233,0.04419889502762431,0.07012592270950933,0.06896551724137931,0.045454545454545456,0.04411764705882353,0.0,0.008403361344537815,0.016666666666666666,0.02247191011235955,0.0,0.03135498320268757,0.020618556701030927,0.0335195530726257,0.03305785123966942,0.017391304347826087,0.02702702702702703,0.05319148936170213,0.07606263982102908,0.037142857142857144,0.034334763948497854,0.0,0.02631578947368421,0.07413010590015129,0.0546448087431694,0.06983240223463687,0.10714285714285714,0.03404255319148936,0.10294117647058823,0.01652892561983471,0.012195121951219513,0.04466501240694789,0.05128205128205128,0.06087194954757335,0.0525328330206379,0.02727272727272727,0.037037037037037035,0.027522935779816515,0.022026431718061675,0.02857142857142857,0.0673076923076923,0.053763440860215055,0.041353383458646614,0.03773584905660377,0.011904761904761904,0.0,0.02666666666666667,0.021052631578947368,0.0,0.07936507936507936,0.0,0.030501089324618737,0.04923076923076923,0.043478260869565216,0.057564057564057566,0.037383177570093455,0.01680672268907563,0.034830430797433545,0.03636363636363636,0.03125,0.14814814814814814,0.052941176470588235,0.04748603351955307,0.05351170568561873,0.02337228714524207,0.0,0.14925373134328357,0.07003089598352215,0.0,0.05423594615993666,0.036231884057971016,0.0196078431372549,0.058823529411764705,0.043478260869565216,0.0761904761904762,0.0,0.05555555555555555,0.03278688524590164,0.0,0.05952380952380952,0.036101083032490974,0.0,0.06767261088248742,0.07317073170731707,0.02631578947368421,0.07526881720430108,0.037914691943127965,0.0423728813559322,0.025,0.02654867256637168,0.0507399577167019,0.024390243902439025,0.054745889387144996,0.04918032786885246,0.02702702702702703,0.032467532467532464,0.03356367226061204,0.046511627906976744,0.028846153846153848,0.044905008635578586,0.03225806451612903,0.04861111111111111,0.04371584699453552,0.05,0.06776125686510898,0.03208556149732621,0.025,0.08,0.02608695652173913,0.11764705882352941,0.017857142857142856,0.046153846153846156,0.061585835257890686,0.018518518518518517,0.04778156996587031,0.042105263157894736,0.043601895734597156,0.041707080504364696,0.009259259259259259,0.025,0.06666666666666667,0.010638297872340425,0.047058823529411764,0.04395604395604396,0.04672897196261682,0.020202020202020204,0.033946251768033946,0.0273972602739726,0.05660377358490566,0.036585365853658534,0.0625,0.09090909090909091,0.07495069033530571,0.061788617886178863,0.0,0.03636363636363636,0.08695652173913043,0.07372400756143667,0.03455723542116631,0.05434782608695652,0.022727272727272728,0.07339449541284404,0.0425531914893617,0.014084507042253521,0.06151788699431628,0.07766521948866377,0.0811706239646604,0.11578947368421053,0.1340170484816196,0.1019216117836282,0.0588754783632617,0.13824600382645189,0.07638347622759158,0.10882956878850103,0.1096468998141578,0.090384811677044,0.0953020134228188,0.14671437865972675,0.044169049888782966,0.10050462573591253,0.10880929332042594,0.0993667349599553,0.08326105810928014,0.11273065591564584,0.13732138532332283,0.1529459241323648,0.052602333765512134,0.09290746829497416,0.11669872355306872,0.08869701726844584,0.0649025567673878,0.12941659819227608,0.0896044802240112,0.1216062057951175,0.08188976377952756,0.13986486486486485,0.10095276707885668,0.09119137113907501,0.126964297455454,0.059087509349289455,0.08074150360453142,0.062452972159518436,0.12470516855636873,0.11869878321331016,0.07369390709303855,0.10210067380103052,0.07116941110801005,0.12727272727272726,0.09908551904331223,0.12842557764642665,0.04496732026143791,0.09395973154362416,0.07908351810790835,0.13253778838504376,0.06350914962325081,0.09732016925246827,0.09901503369621566,0.12022775385064603,0.06839622641509434,0.07843547375026146,0.08905299739357081,0.04391891891891892,0.12010239944461318,0.09658081705150977,0.10944216861376625,0.036517890077462194,0.07025246981339188,0.12276657060518732,0.09191489361702128,0.11790688561963453,0.06445672191528545,0.12575677110993097,0.09967301837862216,0.11861787127026956,0.0841852074564041,0.06823058217708482,0.07875354107648726,0.13404050144648022,0.05031106302407357,0.08529180655761126,0.06681681681681682,0.09830205540661305,0.052100293064148484,0.13922467694872864,0.1295238095238095,0.1303654936384774,0.08274894810659186,0.11309949892627058,0.07377752359164999,0.11458712259003274,0.14376507700872146,0.12172243149420194,0.1271186440677966,0.14096185737976782,0.07333333333333333,0.1138790499387459,0.0672928062751574,0.07919198422598688,0.10412097425834006,0.14379010517522878,0.11271858095357906,0.06768265351860152,0.1283513097072419,0.10578883000407664,0.08153078202995008,0.08201530612244898,0.1282345575959933,0.06904906117504543,0.10150566739976315,0.1382329224743693,0.06116207951070336,0.020833333333333332,0.03856382978723404,0.031413612565445025,0.031496062992125984,0.03333333333333333,0.0,0.0,0.0,0.02631578947368421,0.0,0.0,0.0,0.0,0.06629834254143646,0.006369426751592357,0.03898305084745763,0.059490084985835696,0.0,0.02553191489361702,0.030303030303030304,0.0,0.036872218690400506,0.07407407407407407,0.025974025974025976,0.0449438202247191,0.01948051948051948,0.0,0.0,0.02631578947368421,0.0,0.030303030303030304,0.0390032502708559,0.04,0.0,0.0,0.031746031746031744,0.0,0.017241379310344827,0.06033966033966034,0.03508771929824561,0.052486187845303865,0.03571428571428571,0.047619047619047616,0.01639344262295082,0.058823529411764705,0.0,0.0625,0.0,0.0,0.05649717514124294,0.0,0.022222222222222223,0.034482758620689655,0.0,0.07894736842105263,0.03592814371257485,0.0,0.019230769230769232,0.022222222222222223,0.0,0.022988505747126436,0.064314171883893,0.05714285714285714,0.021739130434782608,0.013157894736842105,0.022222222222222223,0.02510460251046025,0.041884816753926704,0.0,0.022988505747126436,0.04891304347826087,0.0,0.0,0.0,0.042328042328042326,0.0,0.03508771929824561,0.0,0.01694915254237288,0.02127659574468085,0.07692307692307693,0.024390243902439025,0.026954177897574125,0.04208019055180627,0.024844720496894408,0.038461538461538464,0.0,0.0,0.03547066848567531,0.037037037037037035,0.07142857142857142,0.10126582278481013,0.0,0.045454545454545456,0.03067484662576687,0.04048582995951417,0.028169014084507043,0.0,0.04678362573099415,0.0,0.02830188679245283,0.023255813953488372,0.0,0.03755868544600939,0.045454545454545456,0.023255813953488372,0.02857142857142857,0.045454545454545456,0.055693069306930694,0.0,0.0,0.012903225806451613,0.045889101338432124,0.02666666666666667,0.0,0.0,0.05263157894736842,0.06060606060606061,0.038834951456310676,0.05263157894736842,0.0,0.04878048780487805,0.02564102564102564,0.022222222222222223,0.0,0.046296296296296294,0.021505376344086023,0.03225806451612903,0.0,0.031007751937984496,0.02564102564102564,0.03558718861209965,0.05555555555555555,0.038777522182057184,0.06896551724137931,0.05587121212121212,0.0775716694772344,0.0,0.04666666666666667,0.061946902654867256,0.007751937984496124,0.0,0.059738071532511296,0.0425531914893617,0.0,0.0,0.0,0.047244094488188976,0.04100227790432802,0.0,0.0,0.0,0.0,0.02702702702702703,0.04,0.10909090909090909,0.08,0.029411764705882353,0.046511627906976744,0.05,0.02824858757062147,0.11206896551724138,0.0,0.0,0.0,0.036585365853658534,0.0,0.0,0.0,0.010869565217391304,0.0,0.02040816326530612,0.045454545454545456,0.028368794326241134,0.02197802197802198,0.0,0.0,0.0570801317233809,0.0,0.0,0.038461538461538464,0.022727272727272728,0.07973421926910298,0.08727746417716023,0.05664488017429194,0.05329681904360649,0.060255152109911676,0.047508690614136734,0.02593010146561443,0.0646900269541779,0.0770065075921909,0.05925925925925926,0.037116345467523196,0.055224473579658324,0.06195437904815545,0.07611116490752397,0.032,0.07789855072463768,0.007352941176470588,0.029661016949152543,0.06312684365781711,0.06923325784535748,0.04602510460251046,0.02541942043721403,0.08108108108108109,0.08264840182648402,0.05649717514124294,0.041050903119868636,0.04807692307692308,0.09290248124639354,0.04071246819338423,0.09076682316118936,0.06135265700483092,0.032520325203252036,0.05892857142857143,0.05089820359281437,0.03680981595092025,0.07367475292003593,0.08769401786817077,0.07429447299612298,0.026785714285714284,0.03571428571428571,0.039525691699604744,0.03472465801473167,0.04535739729280456,0.08595684471170853,0.07602339181286549,0.017241379310344827,0.09007609877310141,0.03611111111111111,0.033126293995859216,0.08364580328814537,0.07520325203252033,0.06218487394957983,0.045454545454545456,0.04642574518596676,0.06351446718419196,0.037848605577689244,0.05,0.0380952380952381,0.0469208211143695,0.03970628229534947,0.0425531914893617,0.03535353535353535,0.040106951871657755,0.042347449149716575,0.04326123128119801,0.05181347150259067,0.04627249357326478,0.05388272583201268,0.0379746835443038,0.029304029304029304,0.03280067283431455,0.08130081300813008,0.03125,0.057684029272492464,0.061855670103092786,0.051194539249146756,0.03305785123966942,0.07077205882352941,0.06772908366533864,0.02413793103448276,0.050387596899224806,0.032388663967611336,0.0449438202247191,0.06241519674355495,0.01773049645390071,0.04471879286694101,0.06693055055775458,0.09,0.10307802433786686,0.04819277108433735,0.08020137140873188,0.07283817725152494,0.08279639175257732,0.05464788732394366,0.026143790849673203,0.05128205128205128,0.04194260485651214,0.03856749311294766,0.04676963236893626,0.024844720496894408,0.04827586206896552,0.0499219968798752,0.03995866345160179,0.03864734299516908,0.047337278106508875,0.038,0.06843940714908457,0.06337841421373641,0.04504504504504504,0.07840342124019957,0.053475935828877004,0.038834951456310676,0.033707865168539325,0.022988505747126436,0.04258943781942078,0.03389830508474576,0.06367583212735166,0.06601248884924175,0.07366482504604052,0.04151404151404151,0.033783783783783786,0.07981469864401872,0.05387205387205387,0.061418685121107264,0.05076741440377804,0.05555555555555555,0.04020530367835757,0.0576543771810044,0.0398406374501992,0.07401032702237521,0.044715447154471545,0.06319657072872015,0.06532663316582915,0.025925925925925925,0.06189699687457535,0.0849390483680692,0.06942236354001059,0.05429200293470286,0.10306748466257669,0.03333333333333333,0.04158790170132325,0.01694915254237288,0.04728132387706856,0.046145591128599533,0.0784313725490196,0.029079159935379646,0.06917173936259478,0.05411499436302142,0.0498812351543943,0.05970149253731343,0.050393700787401574,0.08111254851228979,0.06535947712418301,0.07483033518063005,0.059045226130653265,0.04239401496259352,0.03636363636363636,0.010638297872340425,0.05835866261398176,0.06769610870907967,0.06755656845189646,0.09840469272517954,0.08076009501187649,0.042105263157894736,0.05720620842572062,0.055350553505535055,0.01694915254237288,0.023728813559322035,0.05896414342629482,0.0718942329610212,0.03761061946902655,0.014814814814814815,0.05699481865284974,0.03343465045592705,0.03773584905660377,0.07674418604651163,0.04171011470281543,0.07683645183645184,0.059726962457337884,0.05464317706778143,0.050823529411764705,0.07242477071174107,0.05448524984948826,0.06277796784125898,0.02631578947368421,0.05357142857142857,0.0,0.045454545454545456,0.03125,0.03942652329749104,0.030612244897959183,0.05391912131802296,0.03320683111954459,0.0449438202247191,0.014285714285714285,0.04522613065326633,0.06856572960169545,0.05983162958508719,0.02464788732394366,0.022988505747126436,0.0,0.031746031746031744,0.08695652173913043,0.015625,0.059800664451827246,0.10344827586206896,0.0,0.06133333333333333,0.09433962264150944,0.02358490566037736,0.028985507246376812,0.07317073170731707,0.05660377358490566,0.0,0.04113924050632911,0.012658227848101266,0.015503875968992248,0.02857142857142857,0.035650623885918005,0.03361344537815126,0.0163265306122449,0.04838709677419355,0.03076923076923077,0.04081632653061224,0.009900990099009901,0.07017543859649122,0.03597122302158273,0.03773584905660377,0.023622047244094488,0.058823529411764705,0.02791145332050048,0.04945054945054945,0.0686427457098284,0.0,0.015384615384615385,0.031496062992125984,0.07446808510638298,0.03610675039246468,0.023876404494382022,0.0,0.010638297872340425,0.0,0.0851063829787234,0.05405405405405406,0.0,0.0,0.08029197080291971,0.04353083434099154,0.0,0.05807365439093484,0.01938610662358643,0.034739454094292806,0.04489337822671156,0.020833333333333332,0.035326086956521736,0.045871559633027525,0.031746031746031744,0.0,0.048736462093862815,0.07042253521126761,0.02631578947368421,0.057692307692307696,0.0,0.0898876404494382,0.07092198581560284,0.015748031496062992,0.06349206349206349,0.013157894736842105,0.0859538784067086,0.05063291139240506,0.029850746268656716,0.0,0.012195121951219513,0.06976744186046512,0.0392156862745098,0.06439393939393939,0.05531914893617021,0.05384615384615385,0.0,0.0,0.012145748987854251,0.15789473684210525,0.01718213058419244,0.025157232704402517,0.029411764705882353,0.03208556149732621,0.02512562814070352,0.05,0.0653061224489796,0.0273972602739726,0.04756380510440835,0.015267175572519083,0.0379746835443038,0.0,0.05188679245283019,0.012987012987012988,0.013513513513513514,0.047619047619047616,0.0,0.058823529411764705,0.0379746835443038,0.037037037037037035,0.07079646017699115,0.03636363636363636,0.02247191011235955,0.014492753623188406,0.03680981595092025,0.02857142857142857,0.045816733067729085,0.037296037296037296,0.04531490015360983,0.045627376425855515,0.03333333333333333,0.03669724770642202,0.04918032786885246,0.0,0.05976095617529881,0.015151515151515152,0.05304829770387965,0.03550295857988166,0.0468384074941452,0.038461538461538464,0.09090909090909091,0.06035578144853875,0.05357142857142857,0.03442340791738382,0.033386327503974564,0.06164383561643835,0.0,0.02336448598130841,0.09090909090909091,0.008888888888888889,0.0345679012345679,0.13043478260869565,0.06575342465753424,0.015748031496062992,0.08134920634920635,0.022556390977443608,0.034482758620689655,0.017241379310344827,0.07017543859649122,0.03655913978494624,0.04,0.05813953488372093,0.022026431718061675,0.02197802197802198,0.02040816326530612,0.030303030303030304,0.03333333333333333,0.03333333333333333,0.027777777777777776,0.06344086021505377,0.034782608695652174,0.07142857142857142,0.057971014492753624,0.0,0.026490066225165563,0.03125,0.027906976744186046,0.0,0.05128205128205128,0.060790273556231005,0.0,0.11538461538461539,0.040236686390532544,0.10606060606060606,0.03680981595092025,0.05,0.036827195467422094,0.049777777777777775,0.022727272727272728,0.07317073170731707,0.0,0.03468208092485549,0.05871105612417051,0.03333333333333333,0.0,0.02631578947368421,0.03680981595092025,0.049528301886792456,0.014598540145985401,0.024691358024691357,0.034482758620689655,0.03875968992248062,0.011363636363636364,0.022988505747126436,0.07272727272727272,0.055865921787709494,0.07881773399014778,0.022222222222222223,0.03896103896103896,0.030303030303030304,0.046296296296296294,0.05970149253731343,0.042105263157894736,0.07853403141361257,0.043478260869565216,0.021505376344086023,0.043410852713178294,0.058823529411764705,0.03333333333333333,0.07432432432432433,0.047165729121592385,0.030303030303030304,0.03389830508474576,0.05263157894736842,0.03,0.020202020202020204,0.02040816326530612,0.02127659574468085,0.0,0.03409090909090909,0.06257242178447277,0.04375,0.04771371769383698,0.0621301775147929,0.04580152671755725,0.021739130434782608,0.01282051282051282,0.0,0.10763123070136744,0.12412243751755125,0.11412268188302425,0.13900709219858157,0.09252669039145907,0.1648471615720524,0.15568862275449102,0.06976744186046512,0.10101010101010101,0.06904231625835189,0.0875,0.0799059929494712,0.11428571428571428,0.12151162790697674,0.09438775510204081,0.08764155588380108,0.15916955017301038,0.13793103448275862,0.09829358347470313,0.0856610800744879,0.09850581073602656,0.15348837209302327,0.08861578266494179,0.10079767947788253,0.12128017967434025,0.06772908366533864,0.046753246753246755,0.14331966328512843,0.06222222222222222,0.1256931608133087,0.09669621273166801,0.11858407079646018,0.10256410256410256,0.10596026490066225,0.13031161473087818,0.10116731517509728,0.11105450840550178,0.09410234171725933,0.06382978723404255,0.13450594930160373,0.08796383499717461,0.047619047619047616,0.0824524312896406,0.1536281179138322,0.19506531204644412,0.12065217391304348,0.08674698795180723,0.13358070500927643,0.13129496402877697,0.10540663334847797,0.061872909698996656,0.09546862896979086,0.08273121387283237,0.09097472924187726,0.13908355795148247,0.12686567164179105,0.0871559633027523,0.08656849620705043,0.09009009009009009,0.1404932875429285,0.10875512995896033,0.08450704225352113,0.10248793167471222,0.064,0.10253613307881101,0.08769132653061225,0.11602209944751381,0.12751677852348994,0.06764866339334424,0.14391951006124235,0.14969325153374233,0.049315068493150684,0.13801452784503632,0.08860759493670886,0.14958448753462603,0.0943683409436834,0.12598870056497175,0.12009237875288684,0.0,0.09061937612477504,0.08310626702997276,0.0592,0.12127814088598403,0.10486257928118393,0.1744186046511628,0.09302325581395349,0.12527131782945736,0.14332247557003258,0.11822660098522167,0.125,0.041666666666666664,0.13496932515337423,0.1031390134529148,0.08590308370044053,0.11189358372456965,0.1443217665615142,0.07684021543985638,0.11570584640456305,0.125,0.10908369694565649,0.11560693641618497,0.04357798165137615,0.14559386973180077,0.10093896713615023,0.10235424876225119,0.08532272325375774,0.07719298245614035,0.09743321110529073,0.13851193261581657,0.014285714285714285,0.09577254021698466,0.07708964919878736,0.0916030534351145,0.08095103311633173,0.10901001112347053,0.13043478260869565,0.1152567417805689,0.12251795521757498,0.0979020979020979,0.11307083611402421,0.08753568030447194,0.07670588235294118,0.090169992609017,0.09766763848396501,0.10112359550561797,0.11187214611872145,0.11904047976011994,0.021897810218978103,0.08767123287671233,0.08708708708708708,0.08532666904676901,0.10748760761805375,0.09846725499303298,0.10817748441510817,0.11596934288227165,0.1319073083778966,0.1404320987654321,0.05172413793103448,0.08472400513478819,0.1295774647887324,0.11132075471698114,0.10229508196721311,0.12224448897795591,0.09723833836156881,0.07272727272727272,0.12332439678284182,0.0935483870967742,0.0717628705148206,0.14545454545454545,0.08524173027989822,0.10955056179775281,0.11894736842105263,0.11128945960406635,0.07990314769975787,0.07347504621072089,0.10010500525026252,0.12950310559006212,0.11764705882352941,0.12984054669703873,0.08607617923457575,0.06584362139917696,0.10966243972137882,0.08333333333333333,0.14479487392860116,0.07364897178383549,0.0890302066772655,0.07119663547370565,0.13023255813953488,0.0796812749003984,0.07634470792365529,0.09218950064020487,0.11058308817982952,0.09392265193370165,0.07011070110701106,0.10351341140914243,0.10794824399260629,0.08319738988580751,0.07828835399951374,0.16366782006920416,0.10989010989010989,0.09038167938931298,0.1276595744680851,0.14816305988928033,0.11754021795537105,0.10415849352687329,0.10632183908045977,0.11435239206534423,0.09876543209876543,0.06758832565284179,0.07360185453491741,0.08874172185430464,0.07792207792207792,0.08042895442359249,0.12561441835062806,0.1038753495805034,0.10439786272092068,0.11457095317328263,0.08367514356029532,0.12114014251781473,0.10639557836557442,0.11266447368421052,0.09490740740740741,0.11608404786582494,0.11637080867850098,0.06508355321020229,0.06680584551148225,0.0745880312228968,0.09102296450939457,0.10343897505057316,0.07753244564301365,0.0932077342588002,0.07344797435150102,0.07251221393674466,0.06919831223628692,0.07231659865236785,0.07672188317349608,0.05877417460250871,0.07961214595560091,0.08027238959966983,0.056103108415466264,0.08642780075525984,0.049204052098408106,0.05905245346869712,0.093611271955221,0.10193304743007105,0.11580112624536748,0.04434589800443459,0.05747126436781609,0.07132109539572676,0.045033112582781455,0.04552590266875981,0.047520661157024795,0.07244539428405838,0.04871060171919771,0.08062937589399985,0.08236261477319447,0.047619047619047616,0.08096468561584841,0.05840568271507498,0.0405616224648986,0.08959338387319091,0.06303724928366762,0.06758775205377147,0.05586152635719906,0.04199475065616798,0.0571549534292972,0.06547619047619048,0.09041353383458646,0.053515868077162417,0.05390625,0.059506531204644414,0.07376691401134876,0.09404388714733543,0.04830917874396135,0.08862952493845172,0.03588907014681892,0.037091988130563795,0.0974836263357463,0.08314350797266515,0.07964601769911504,0.029508196721311476,0.057709648331830475,0.04625,0.07057044442577501,0.09713024282560706,0.07442489851150202,0.058113544926240504,0.10559006211180125,0.09137577002053388,0.07518796992481203,0.08176100628930817,0.09324009324009325,0.0962566844919786,0.06335918223475502,0.09108159392789374,0.07486007462686567,0.08619430241051863,0.07636967349197565,0.047619047619047616,0.038461538461538464,0.07631524225410688,0.10625870753402636,0.08241758241758242,0.05258964143426295,0.10163339382940109,0.048825426070935055,0.08143274853801169,0.04925602873268343,0.07358294331773271,0.042105263157894736,0.06756756756756757,0.0670391061452514,0.07833273445921667,0.057971014492753624,0.014184397163120567,0.06060606060606061,0.06320789185239313,0.09073860357761108,0.05114401076716016,0.09366391184573003,0.04488330341113106,0.06454630495790459,0.05371900826446281,0.05084745762711865,0.04523580365736285,0.10195350339037779,0.04031209362808843,0.046193327630453376,0.0884412123402141,0.10231923601637108,0.10118577075098814,0.07450980392156863,0.06587179789871325,0.0974592471585972,0.0841577449518905,0.06962025316455696,0.07194244604316546,0.11078717201166181,0.08629441624365482,0.06173611505883691,0.0621301775147929,0.0791724686691864,0.06303418803418803,0.05240174672489083,0.09322033898305085,0.06584597766962497,0.07944872314552087,0.05755395683453238,0.08129285014691479,0.07352941176470588,0.07624867162592987,0.06638217164532954,0.057971014492753624,0.06060606060606061,0.10059614510653087,0.08579565681737274,0.06624605678233439,0.06961259079903148,0.04835367257655998,0.05712603062426384,0.06006006006006006,0.05263157894736842,0.04679552390640895,0.04081632653061224,0.050880626223091974,0.06779661016949153,0.05198883461270063,0.09171974522292993,0.09301763711041314,0.04005461993627674,0.10313212844358659,0.07107107107107107,0.05058365758754864,0.05245628642797669,0.06615214994487321,0.08759124087591241,0.06629834254143646,0.08986615678776291,0.06930693069306931,0.0675626589175445,0.06835659356308744,0.10024252223120453,0.10197368421052631,0.06669377795851972,0.08186195826645265,0.09038828771483132,0.07524271844660194,0.08315140618980352,0.08714270420725832,0.08305866842452209,0.11924119241192412,0.0697585281717133,0.09816693030613194,0.08245774326176336,0.08101382488479263,0.07621658670322139,0.09875813128326434,0.07986960065199673,0.034161490683229816,0.08118335053319574,0.0799744081893794,0.0643995400032857,0.06871727748691099,0.09133489461358314,0.07933615107216255,0.07952522255192879,0.07231380098664421,0.09374120560589858,0.08482142857142858,0.09543932387179078,0.06790518898142217,0.06231454005934718,0.06540447504302926,0.09383381967164794,0.06398862424457874,0.0740354535974974,0.06923145111249003,0.08459361888964777,0.0627493652520856,0.06748466257668712,0.0689935064935065,0.06686332350049164,0.06806962847492855,0.036661466458658344,0.03125,0.07981882664615647,0.05367355917289925,0.06777332570120206,0.0670850910587509,0.07647058823529412,0.07421129448748176,0.06986899563318777,0.05493133583021224,0.05200945626477541,0.07742782152230972,0.06363234644277507,0.07055095075572891,0.08099066028530273,0.07641921397379912,0.059077809798270896,0.0578806767586821,0.047021943573667714,0.0223463687150838,0.08736945017768742,0.08009153318077804,0.06875,0.092410538733779,0.031446540880503145,0.05235602094240838,0.020833333333333332,0.04778156996587031,0.08143322475570032,0.06459525756336877,0.09836420756147762,0.053576773421131395,0.06794425087108014,0.059768245578369586,0.07575757575757576,0.07977928088287647,0.056140350877192984,0.09497876048360746,0.07629396625679154,0.04915514592933948,0.04054054054054054,0.06794055201698514,0.0412621359223301,0.1038961038961039,0.10247393576186821,0.049689440993788817,0.07244094488188976,0.06873428331936295,0.06627326373127554,0.05728634661218931,0.07945699891546582,0.10359339592101004,0.007518796992481203,0.08695652173913043,0.037721324095458045,0.07497142857142858,0.09259460045538329,0.04459124690338563,0.06563814866760169,0.03755868544600939,0.06555891238670696,0.07984607984607985,0.049586776859504134,0.05,0.1092896174863388,0.05033676001417937,0.09259259259259259,0.01694915254237288,0.041666666666666664,0.03383458646616541,0.07857142857142857,0.0708092485549133,0.07079646017699115,0.05396887925940516,0.038461538461538464,0.02830188679245283,0.05272555403844134,0.04452054794520548,0.024390243902439025,0.038461538461538464,0.06060606060606061,0.04417670682730924,0.04,0.046511627906976744,0.05405405405405406,0.030612244897959183,0.0462046204620462,0.023255813953488372,0.0,0.040166544207690426,0.01483679525222552,0.06153846153846154,0.0375,0.07847962811047307,0.08108108108108109,0.1232876712328767,0.03451407811080836,0.04608294930875576,0.012422360248447204,0.04132231404958678,0.012658227848101266,0.08787010506208214,0.06367041198501873,0.049723756906077346,0.04032258064516129,0.047619047619047616,0.046153846153846156,0.0125,0.03125,0.050955414012738856,0.06649616368286446,0.09234234234234234,0.03424657534246575,0.00881057268722467,0.02531645569620253,0.10204081632653061,0.07750397456279809,0.052083333333333336,0.06205733558178752,0.014285714285714285,0.02094972067039106,0.07009345794392523,0.037037037037037035,0.09446254071661238,0.06140350877192982,0.13725490196078433,0.03546099290780142,0.02527075812274368,0.00558659217877095,0.04424778761061947,0.029411764705882353,0.1226215644820296,0.05950095969289827,0.04419889502762431,0.10526315789473684,0.015267175572519083,0.05405405405405406,0.07889546351084813,0.03076923076923077,0.029411764705882353,0.07857581338244321,0.07499118787451534,0.015384615384615385,0.06557377049180328,0.04918032786885246,0.1702127659574468,0.12244897959183673,0.05384615384615385,0.06481481481481481,0.05700424499696786,0.10662366419562916,0.07495315427857589,0.02702702702702703,0.028037383177570093,0.03389830508474576,0.0525990099009901,0.047058823529411764,0.04918032786885246,0.05714285714285714,0.07777777777777778,0.0,0.053691275167785234,0.058666666666666666,0.05346820809248555,0.01875,0.04195804195804196,0.07449856733524356,0.03858520900321544,0.07516339869281045,0.06369080021774633,0.04739336492890995,0.016129032258064516,0.04807692307692308,0.08064516129032258,0.05647263249348393,0.07671561282589152,0.01020408163265306,0.08128402477942556,0.05161290322580645,0.03164556962025317,0.03508771929824561,0.005376344086021506,0.020202020202020204,0.056105610561056105,0.04114052953156823,0.05045045045045045,0.06818181818181818,0.016666666666666666,0.017241379310344827,0.0392156862745098,0.046875,0.039660056657223795,0.04672897196261682,0.0213903743315508,0.0196078431372549,0.05031106302407357,0.023668639053254437,0.010526315789473684,0.0,0.10256410256410256,0.07727975270479134,0.03418803418803419,0.04411764705882353,0.050314465408805034,0.008064516129032258,0.06896551724137931,0.050505050505050504,0.07120743034055728,0.049586776859504134,0.03065134099616858,0.044444444444444446,0.03927492447129909,0.03225806451612903,0.04040404040404041,0.040983606557377046,0.024539877300613498,0.07734024994105164,0.07386363636363637,0.05901639344262295,0.05067873303167421,0.046532045654082525,0.06329113924050633,0.048344118766653975,0.04918032786885246,0.04180064308681672,0.05922551252847381,0.09387984278495227,0.054982817869415807,0.07692307692307693,0.0,0.125,0.0,0.04128440366972477,0.037267080745341616,0.0642791551882461,0.08250825082508251,0.07923560941505477,0.015748031496062992,0.02631578947368421,0.021164021164021163,0.04602510460251046,0.023809523809523808,0.038834951456310676,0.07522388059701493,0.02040816326530612,0.05167173252279635,0.038834951456310676,0.07643535756403291,0.02,0.043478260869565216,0.09302325581395349,0.03508771929824561,0.03773584905660377,0.03305785123966942,0.05276256844201095,0.045454545454545456,0.06985294117647059,0.02702702702702703,0.053588516746411484,0.07142857142857142,0.04819277108433735,0.02197802197802198,0.05970149253731343,0.03806228373702422,0.04065040650406504,0.0,0.024242424242424242,0.057971014492753624,0.09090909090909091,0.045454545454545456,0.03389830508474576,0.03317535545023697,0.01694915254237288,0.044997039668442866,0.03389830508474576,0.08196721311475409,0.060420650095602296,0.07357859531772576,0.0967741935483871,0.03409090909090909,0.07142857142857142,0.04819277108433735,0.08139534883720931,0.08163265306122448,0.024096385542168676,0.058823529411764705,0.031746031746031744,0.05642023346303502,0.02553191489361702,0.04664723032069971,0.055958716336074826,0.07079646017699115,0.04632948360546927,0.0843688002506004,0.04963147568800042,0.01647058823529412,0.05732484076433121,0.042440318302387266,0.026030368763557483,0.06729475100942127,0.04665314401622718,0.04448398576512456,0.06606851549755302,0.059907834101382486,0.07789052736815796,0.05847568988173456,0.07568992021081912,0.05335628227194492,0.06215526955696578,0.044481054365733116,0.0520501380922031,0.07769136711076083,0.06148282097649186,0.079149871747893,0.0428380187416332,0.03194888178913738,0.04231830726770929,0.03155006858710562,0.05339120250766422,0.0378698224852071,0.057547426704184446,0.02838709677419355,0.05361930294906166,0.03806654799397508,0.027450980392156862,0.05502869977539306,0.04259259259259259,0.059832850076752514,0.06280788177339902,0.05274725274725275,0.022653721682847898,0.042270531400966184,0.036427732079905996,0.04946996466431095,0.06456165108484742,0.04819614532678158,0.08050465605286873,0.05987314007943565,0.004807692307692308,0.046801872074883,0.033287101248266296,0.037815126050420166,0.07518796992481203,0.042926829268292686,0.03220338983050847,0.058430826068639204,0.06755606017598638,0.0475799835931091,0.040100250626566414,0.028985507246376812,0.030592734225621414,0.03420523138832998,0.03249475890985325,0.046153846153846156,0.021739130434782608,0.03508771929824561,0.06321419888159495,0.047961630695443645,0.04735376044568245,0.0464,0.0583882529772228,0.02127659574468085,0.07016618306515432,0.039382239382239385,0.052383755150088286,0.049483545520057653,0.02686108979278588,0.059782608695652176,0.05994423791821561,0.0736388140161725,0.04678362573099415,0.07182044887780549,0.038011695906432746,0.08135872988293552,0.08339307048984468,0.10028375417549656,0.058924442455433726,0.06319845857418112,0.0803921568627451,0.0449438202247191,0.05595754944524843,0.09274983670803397,0.043668122270742356,0.054527750730282376,0.051070840197693576,0.06151645207439199,0.04794298671849692,0.0909952606635071,0.06870705808869457,0.054273643158921026,0.07070957095709571,0.03093220338983051,0.049789776499225495,0.047750229568411386,0.059957173447537475,0.022271714922048998,0.038834951456310676,0.023166023166023165,0.061493018259935556,0.02771855010660981,0.08925446272313615,0.06984553391537945,0.029339853300733496,0.027777777777777776,0.046153846153846156,0.0594059405940594,0.05970149253731343,0.026845637583892617,0.07547169811320754,0.04691358024691358,0.06097560975609756,0.05405405405405406,0.07425742574257425,0.06374501992031872,0.03896103896103896,0.02952029520295203,0.05042016806722689,0.09716599190283401,0.08960573476702509,0.06060606060606061,0.034383954154727794,0.08239700374531835,0.05537459283387622,0.11018291018291018,0.06172839506172839,0.04976958525345622,0.05,0.02197802197802198,0.08403361344537816,0.05442176870748299,0.08333333333333333,0.08944281524926687,0.04597701149425287,0.06535947712418301,0.08211143695014662,0.09299655568312284,0.04721030042918455,0.0411522633744856,0.0433996383363472,0.06372549019607843,0.06,0.07614213197969544,0.05555555555555555,0.08080808080808081,0.05761316872427984,0.038922155688622756,0.024390243902439025,0.030303030303030304,0.06896551724137931,0.0234375,0.08503401360544217,0.06435643564356436,0.09333333333333334,0.06947162426614481,0.035398230088495575,0.09146341463414634,0.06722689075630252,0.08645533141210375,0.13333333333333333,0.06547619047619048,0.10569105691056911,0.049315068493150684,0.03102189781021898,0.09240407204385279,0.055855855855855854,0.03950617283950617,0.08134920634920635,0.042328042328042326,0.07411907654921021,0.053691275167785234,0.05660377358490566,0.04020100502512563,0.05649717514124294,0.043859649122807015,0.04204993429697766,0.07783312577833126,0.07823960880195599,0.034482758620689655,0.055900621118012424,0.08939526730937773,0.072,0.08088235294117647,0.030303030303030304,0.09170305676855896,0.07534246575342465,0.06521739130434782,0.0641399416909621,0.055776892430278883,0.10303030303030303,0.08620689655172414,0.045454545454545456,0.05217391304347826,0.016,0.06748466257668712,0.07317073170731707,0.043689320388349516,0.08108108108108109,0.059490084985835696,0.055900621118012424,0.05303030303030303,0.08016032064128256,0.09618104667609619,0.0777479892761394,0.03676470588235294,0.07246376811594203,0.040229885057471264,0.08888888888888889,0.07425742574257425,0.0488997555012225,0.0778688524590164,0.10087719298245613,0.08208955223880597,0.036585365853658534,0.06588235294117648,0.08113590263691683,0.07155025553662692,0.07380073800738007,0.08983451536643026,0.05220883534136546,0.076534052596089,0.08347245409015025,0.08134920634920635,0.053475935828877004,0.07092198581560284,0.06629834254143646,0.04819277108433735,0.07446808510638298,0.06794682422451995,0.04619565217391304,0.059113300492610835,0.04435483870967742,0.028089887640449437,0.07123287671232877,0.06130268199233716,0.1,0.04794520547945205,0.05732484076433121,0.06201550387596899,0.07722007722007722,0.06987951807228916,0.047619047619047616,0.08333333333333333,0.07439446366782007,0.055248618784530384,0.028985507246376812,0.06818181818181818,0.044534412955465584,0.06046511627906977,0.049586776859504134,0.06774193548387097,0.022727272727272728,0.06914893617021277,0.0743801652892562,0.08139534883720931,0.0,0.07808219178082192,0.04672897196261682,0.058823529411764705,0.09375,0.16981132075471697,0.08498583569405099,0.03202846975088968,0.0691358024691358,0.053691275167785234,0.07434944237918216,0.04330175913396482,0.08754208754208755,0.09579439252336448,0.07142857142857142,0.03508771929824561,0.07493540051679587,0.05825242718446602,0.054945054945054944,0.05319148936170213,0.07063197026022305,0.07977991746905089,0.032,0.07692307692307693,0.015873015873015872,0.033003300330033,0.06896551724137931,0.10337972166998012,0.05945945945945946,0.08333333333333333,0.08695652173913043,0.09099264705882353,0.027950310559006212,0.08465608465608465,0.05847953216374269,0.1,0.035,0.050930460333006855,0.06716417910447761,0.06235011990407674,0.05156537753222836,0.09647495361781076,0.07277289836888332,0.04878048780487805,0.08985189248491497,0.0945945945945946,0.05782312925170068,0.06744186046511629,0.05997931747673216,0.0967741935483871,0.05333333333333334,0.05017921146953405,0.0947075208913649,0.037037037037037035,0.0851063829787234,0.020202020202020204,0.05390835579514825,0.017094017094017096,0.06521739130434782,0.08456659619450317,0.09112709832134293,0.06818181818181818,0.03488372093023256,0.10176991150442478,0.043596730245231606,0.07239819004524888,0.05363984674329502,0.04602510460251046,0.034782608695652174,0.02040816326530612,0.08450704225352113,0.07317073170731707,0.06369426751592357,0.06274509803921569,0.03125,0.04712041884816754,0.05325443786982249,0.043478260869565216,0.050239234449760764,0.05536332179930796,0.14501510574018128,0.04918032786885246,0.06818181818181818,0.06444444444444444,0.09680851063829787,0.035555555555555556,0.06521739130434782,0.04838709677419355,0.03759398496240601,0.011904761904761904,0.07216494845360824,0.042352941176470586,0.07630522088353414,0.07058823529411765,0.019138755980861243,0.02247191011235955,0.10050251256281408,0.09233275859341633,0.018867924528301886,0.03587443946188341,0.05161290322580645,0.018950437317784258,0.0,0.04753521126760563,0.0,0.0667139815471966,0.029197080291970802,0.0125,0.04316546762589928,0.009009009009009009,0.060836501901140684,0.022857142857142857,0.0,0.07547169811320754,0.05265448215839861,0.06070941336971351,0.034482758620689655,0.07543520309477757,0.0,0.010327022375215147,0.02681992337164751,0.034139402560455195,0.06526261050442017,0.03656307129798903,0.06640625,0.019801980198019802,0.04054054054054054,0.06598984771573604,0.06989247311827956,0.056782334384858045,0.013888888888888888,0.048287971905179985,0.012658227848101266,0.0,0.061068702290076333,0.06357758620689655,0.041666666666666664,0.022727272727272728,0.0,0.0,0.027607361963190184,0.03676470588235294,0.048749198203976905,0.018957345971563982,0.0,0.0,0.020202020202020204,0.04840370751802266,0.0196078431372549,0.05868544600938967,0.0,0.06316851664984864,0.07770961145194274,0.05667060212514758,0.014492753623188406,0.020080321285140562,0.05286343612334802,0.03375527426160337,0.056231640788921525,0.0625,0.03937007874015748,0.05714285714285714,0.06730506155950752,0.08261106433559506,0.0671615411806292,0.013888888888888888,0.028169014084507043,0.028169014084507043,0.023255813953488372,0.04609929078014184,0.08723002725938352,0.0,0.054945054945054944,0.022123893805309734,0.03787878787878788,0.03934426229508197,0.0,0.03902439024390244,0.01834862385321101,0.09090909090909091,0.0,0.06593406593406594,0.01327433628318584,0.0,0.036458333333333336,0.04888323662665925,0.005714285714285714,0.0,0.026915113871635612,0.024,0.048394825107810256,0.06734780243032465,0.024390243902439025,0.01951219512195122,0.09299191374663072,0.03296703296703297,0.08044901777362021,0.05067567567567568,0.0297029702970297,0.0480225988700565,0.006802721088435374,0.052545155993431854,0.0,0.0297029702970297,0.042606516290726815,0.04975124378109453,0.03689567430025445,0.031746031746031744,0.060008760402978534,0.055762081784386616,0.006578947368421052,0.07300380228136882,0.051001821493624776,0.05660377358490566,0.07668711656441718,0.014084507042253521,0.06752411575562701,0.018656716417910446,0.07459207459207459,0.07783853329044708,0.03125,0.050793650793650794,0.0700218818380744,0.031496062992125984,0.06589147286821706,0.031746031746031744,0.022388059701492536,0.0297029702970297,0.04132231404958678,0.019753086419753086,0.0,0.045714285714285714,0.05847953216374269,0.059322033898305086,0.03125,0.036755386565272496,0.0,0.06986899563318777,0.06673407482305359,0.024844720496894408,0.02857142857142857,0.10380622837370242,0.04638472032742155,0.062436548223350256,0.03457216940363008,0.05442176870748299,0.0,0.047244094488188976,0.08547008547008547,0.04853387259858443,0.06369626608095387,0.03333333333333333,0.05235602094240838,0.043963963963963966,0.05869074492099323,0.041882556131260795,0.03496503496503497,0.01968503937007874,0.03571428571428571,0.034261241970021415,0.023923444976076555,0.018018018018018018,0.018691588785046728,0.0,0.019417475728155338,0.04927782497875956,0.03676470588235294,0.02865329512893983,0.04960835509138381,0.007547169811320755,0.04032258064516129,0.04878048780487805,0.05618860510805501,0.05609756097560976,0.031007751937984496,0.005952380952380952,0.0,0.05263157894736842,0.03125,0.05443548387096774,0.08610792192881746,0.039285714285714285,0.08059701492537313,0.05238095238095238,0.03333333333333333,0.034482758620689655,0.04918032786885246,0.009259259259259259,0.0,0.04466501240694789,0.029717682020802376,0.06091370558375635,0.05555555555555555,0.0576036866359447,0.06144927536231884,0.07476635514018691,0.04477611940298507,0.0,0.07613589848546869,0.06333870101986044,0.046511627906976744,0.053125,0.045454545454545456,0.009523809523809525,0.030303030303030304,0.0,0.02127659574468085,0.0364963503649635,0.03389830508474576,0.057398805573988056,0.0,0.0,0.07114228456913828,0.044923629829290206,0.0,0.08622398414271557,0.015748031496062992,0.036585365853658534,0.0136986301369863,0.05710102489019034,0.03289473684210526,0.0625,0.0,0.027972027972027972,0.045098039215686274,0.04878048780487805,0.023076923076923078,0.0392156862745098,0.0,0.032121724429416736,0.060941828254847646,0.0392156862745098,0.056265984654731455,0.019083969465648856,0.021505376344086023,0.14285714285714285,0.04819277108433735,0.019834710743801654,0.03498542274052478,0.03636363636363636,0.07243535890973583,0.05827203230924564,0.08048289738430583,0.030456852791878174,0.008888888888888889,0.0,0.05319148936170213,0.0,0.029850746268656716,0.0,0.05241935483870968,0.05958023019634394,0.05194805194805195,0.03076923076923077,0.020833333333333332,0.007936507936507936,0.029940119760479042,0.10344827586206896,0.07425742574257425,0.025,0.011235955056179775,0.0608686234160078,0.0,0.0,0.03278688524590164,0.013605442176870748,0.0821917808219178,0.06493506493506493,0.06140350877192982,0.05221932114882506,0.047058823529411764,0.03,0.04878048780487805,0.021739130434782608,0.045838359469240045,0.0707070707070707,0.05654761904761905,0.044677212483967506,0.03508771929824561,0.0507399577167019,0.01818181818181818,0.05785123966942149,0.0502092050209205,0.02631578947368421,0.0,0.03036876355748373,0.06918234237068678,0.04412133366758586,0.02097902097902098,0.02197802197802198,0.034144569560479475,0.14762361125900686,0.12633389905377443],\"xaxis\":\"x\",\"yaxis\":\"y\",\"type\":\"histogram\"}],                        {\"template\":{\"data\":{\"bar\":[{\"error_x\":{\"color\":\"#2a3f5f\"},\"error_y\":{\"color\":\"#2a3f5f\"},\"marker\":{\"line\":{\"color\":\"#E5ECF6\",\"width\":0.5},\"pattern\":{\"fillmode\":\"overlay\",\"size\":10,\"solidity\":0.2}},\"type\":\"bar\"}],\"barpolar\":[{\"marker\":{\"line\":{\"color\":\"#E5ECF6\",\"width\":0.5},\"pattern\":{\"fillmode\":\"overlay\",\"size\":10,\"solidity\":0.2}},\"type\":\"barpolar\"}],\"carpet\":[{\"aaxis\":{\"endlinecolor\":\"#2a3f5f\",\"gridcolor\":\"white\",\"linecolor\":\"white\",\"minorgridcolor\":\"white\",\"startlinecolor\":\"#2a3f5f\"},\"baxis\":{\"endlinecolor\":\"#2a3f5f\",\"gridcolor\":\"white\",\"linecolor\":\"white\",\"minorgridcolor\":\"white\",\"startlinecolor\":\"#2a3f5f\"},\"type\":\"carpet\"}],\"choropleth\":[{\"colorbar\":{\"outlinewidth\":0,\"ticks\":\"\"},\"type\":\"choropleth\"}],\"contour\":[{\"colorbar\":{\"outlinewidth\":0,\"ticks\":\"\"},\"colorscale\":[[0.0,\"#0d0887\"],[0.1111111111111111,\"#46039f\"],[0.2222222222222222,\"#7201a8\"],[0.3333333333333333,\"#9c179e\"],[0.4444444444444444,\"#bd3786\"],[0.5555555555555556,\"#d8576b\"],[0.6666666666666666,\"#ed7953\"],[0.7777777777777778,\"#fb9f3a\"],[0.8888888888888888,\"#fdca26\"],[1.0,\"#f0f921\"]],\"type\":\"contour\"}],\"contourcarpet\":[{\"colorbar\":{\"outlinewidth\":0,\"ticks\":\"\"},\"type\":\"contourcarpet\"}],\"heatmap\":[{\"colorbar\":{\"outlinewidth\":0,\"ticks\":\"\"},\"colorscale\":[[0.0,\"#0d0887\"],[0.1111111111111111,\"#46039f\"],[0.2222222222222222,\"#7201a8\"],[0.3333333333333333,\"#9c179e\"],[0.4444444444444444,\"#bd3786\"],[0.5555555555555556,\"#d8576b\"],[0.6666666666666666,\"#ed7953\"],[0.7777777777777778,\"#fb9f3a\"],[0.8888888888888888,\"#fdca26\"],[1.0,\"#f0f921\"]],\"type\":\"heatmap\"}],\"heatmapgl\":[{\"colorbar\":{\"outlinewidth\":0,\"ticks\":\"\"},\"colorscale\":[[0.0,\"#0d0887\"],[0.1111111111111111,\"#46039f\"],[0.2222222222222222,\"#7201a8\"],[0.3333333333333333,\"#9c179e\"],[0.4444444444444444,\"#bd3786\"],[0.5555555555555556,\"#d8576b\"],[0.6666666666666666,\"#ed7953\"],[0.7777777777777778,\"#fb9f3a\"],[0.8888888888888888,\"#fdca26\"],[1.0,\"#f0f921\"]],\"type\":\"heatmapgl\"}],\"histogram\":[{\"marker\":{\"pattern\":{\"fillmode\":\"overlay\",\"size\":10,\"solidity\":0.2}},\"type\":\"histogram\"}],\"histogram2d\":[{\"colorbar\":{\"outlinewidth\":0,\"ticks\":\"\"},\"colorscale\":[[0.0,\"#0d0887\"],[0.1111111111111111,\"#46039f\"],[0.2222222222222222,\"#7201a8\"],[0.3333333333333333,\"#9c179e\"],[0.4444444444444444,\"#bd3786\"],[0.5555555555555556,\"#d8576b\"],[0.6666666666666666,\"#ed7953\"],[0.7777777777777778,\"#fb9f3a\"],[0.8888888888888888,\"#fdca26\"],[1.0,\"#f0f921\"]],\"type\":\"histogram2d\"}],\"histogram2dcontour\":[{\"colorbar\":{\"outlinewidth\":0,\"ticks\":\"\"},\"colorscale\":[[0.0,\"#0d0887\"],[0.1111111111111111,\"#46039f\"],[0.2222222222222222,\"#7201a8\"],[0.3333333333333333,\"#9c179e\"],[0.4444444444444444,\"#bd3786\"],[0.5555555555555556,\"#d8576b\"],[0.6666666666666666,\"#ed7953\"],[0.7777777777777778,\"#fb9f3a\"],[0.8888888888888888,\"#fdca26\"],[1.0,\"#f0f921\"]],\"type\":\"histogram2dcontour\"}],\"mesh3d\":[{\"colorbar\":{\"outlinewidth\":0,\"ticks\":\"\"},\"type\":\"mesh3d\"}],\"parcoords\":[{\"line\":{\"colorbar\":{\"outlinewidth\":0,\"ticks\":\"\"}},\"type\":\"parcoords\"}],\"pie\":[{\"automargin\":true,\"type\":\"pie\"}],\"scatter\":[{\"marker\":{\"colorbar\":{\"outlinewidth\":0,\"ticks\":\"\"}},\"type\":\"scatter\"}],\"scatter3d\":[{\"line\":{\"colorbar\":{\"outlinewidth\":0,\"ticks\":\"\"}},\"marker\":{\"colorbar\":{\"outlinewidth\":0,\"ticks\":\"\"}},\"type\":\"scatter3d\"}],\"scattercarpet\":[{\"marker\":{\"colorbar\":{\"outlinewidth\":0,\"ticks\":\"\"}},\"type\":\"scattercarpet\"}],\"scattergeo\":[{\"marker\":{\"colorbar\":{\"outlinewidth\":0,\"ticks\":\"\"}},\"type\":\"scattergeo\"}],\"scattergl\":[{\"marker\":{\"colorbar\":{\"outlinewidth\":0,\"ticks\":\"\"}},\"type\":\"scattergl\"}],\"scattermapbox\":[{\"marker\":{\"colorbar\":{\"outlinewidth\":0,\"ticks\":\"\"}},\"type\":\"scattermapbox\"}],\"scatterpolar\":[{\"marker\":{\"colorbar\":{\"outlinewidth\":0,\"ticks\":\"\"}},\"type\":\"scatterpolar\"}],\"scatterpolargl\":[{\"marker\":{\"colorbar\":{\"outlinewidth\":0,\"ticks\":\"\"}},\"type\":\"scatterpolargl\"}],\"scatterternary\":[{\"marker\":{\"colorbar\":{\"outlinewidth\":0,\"ticks\":\"\"}},\"type\":\"scatterternary\"}],\"surface\":[{\"colorbar\":{\"outlinewidth\":0,\"ticks\":\"\"},\"colorscale\":[[0.0,\"#0d0887\"],[0.1111111111111111,\"#46039f\"],[0.2222222222222222,\"#7201a8\"],[0.3333333333333333,\"#9c179e\"],[0.4444444444444444,\"#bd3786\"],[0.5555555555555556,\"#d8576b\"],[0.6666666666666666,\"#ed7953\"],[0.7777777777777778,\"#fb9f3a\"],[0.8888888888888888,\"#fdca26\"],[1.0,\"#f0f921\"]],\"type\":\"surface\"}],\"table\":[{\"cells\":{\"fill\":{\"color\":\"#EBF0F8\"},\"line\":{\"color\":\"white\"}},\"header\":{\"fill\":{\"color\":\"#C8D4E3\"},\"line\":{\"color\":\"white\"}},\"type\":\"table\"}]},\"layout\":{\"annotationdefaults\":{\"arrowcolor\":\"#2a3f5f\",\"arrowhead\":0,\"arrowwidth\":1},\"autotypenumbers\":\"strict\",\"coloraxis\":{\"colorbar\":{\"outlinewidth\":0,\"ticks\":\"\"}},\"colorscale\":{\"diverging\":[[0,\"#8e0152\"],[0.1,\"#c51b7d\"],[0.2,\"#de77ae\"],[0.3,\"#f1b6da\"],[0.4,\"#fde0ef\"],[0.5,\"#f7f7f7\"],[0.6,\"#e6f5d0\"],[0.7,\"#b8e186\"],[0.8,\"#7fbc41\"],[0.9,\"#4d9221\"],[1,\"#276419\"]],\"sequential\":[[0.0,\"#0d0887\"],[0.1111111111111111,\"#46039f\"],[0.2222222222222222,\"#7201a8\"],[0.3333333333333333,\"#9c179e\"],[0.4444444444444444,\"#bd3786\"],[0.5555555555555556,\"#d8576b\"],[0.6666666666666666,\"#ed7953\"],[0.7777777777777778,\"#fb9f3a\"],[0.8888888888888888,\"#fdca26\"],[1.0,\"#f0f921\"]],\"sequentialminus\":[[0.0,\"#0d0887\"],[0.1111111111111111,\"#46039f\"],[0.2222222222222222,\"#7201a8\"],[0.3333333333333333,\"#9c179e\"],[0.4444444444444444,\"#bd3786\"],[0.5555555555555556,\"#d8576b\"],[0.6666666666666666,\"#ed7953\"],[0.7777777777777778,\"#fb9f3a\"],[0.8888888888888888,\"#fdca26\"],[1.0,\"#f0f921\"]]},\"colorway\":[\"#636efa\",\"#EF553B\",\"#00cc96\",\"#ab63fa\",\"#FFA15A\",\"#19d3f3\",\"#FF6692\",\"#B6E880\",\"#FF97FF\",\"#FECB52\"],\"font\":{\"color\":\"#2a3f5f\"},\"geo\":{\"bgcolor\":\"white\",\"lakecolor\":\"white\",\"landcolor\":\"#E5ECF6\",\"showlakes\":true,\"showland\":true,\"subunitcolor\":\"white\"},\"hoverlabel\":{\"align\":\"left\"},\"hovermode\":\"closest\",\"mapbox\":{\"style\":\"light\"},\"paper_bgcolor\":\"white\",\"plot_bgcolor\":\"#E5ECF6\",\"polar\":{\"angularaxis\":{\"gridcolor\":\"white\",\"linecolor\":\"white\",\"ticks\":\"\"},\"bgcolor\":\"#E5ECF6\",\"radialaxis\":{\"gridcolor\":\"white\",\"linecolor\":\"white\",\"ticks\":\"\"}},\"scene\":{\"xaxis\":{\"backgroundcolor\":\"#E5ECF6\",\"gridcolor\":\"white\",\"gridwidth\":2,\"linecolor\":\"white\",\"showbackground\":true,\"ticks\":\"\",\"zerolinecolor\":\"white\"},\"yaxis\":{\"backgroundcolor\":\"#E5ECF6\",\"gridcolor\":\"white\",\"gridwidth\":2,\"linecolor\":\"white\",\"showbackground\":true,\"ticks\":\"\",\"zerolinecolor\":\"white\"},\"zaxis\":{\"backgroundcolor\":\"#E5ECF6\",\"gridcolor\":\"white\",\"gridwidth\":2,\"linecolor\":\"white\",\"showbackground\":true,\"ticks\":\"\",\"zerolinecolor\":\"white\"}},\"shapedefaults\":{\"line\":{\"color\":\"#2a3f5f\"}},\"ternary\":{\"aaxis\":{\"gridcolor\":\"white\",\"linecolor\":\"white\",\"ticks\":\"\"},\"baxis\":{\"gridcolor\":\"white\",\"linecolor\":\"white\",\"ticks\":\"\"},\"bgcolor\":\"#E5ECF6\",\"caxis\":{\"gridcolor\":\"white\",\"linecolor\":\"white\",\"ticks\":\"\"}},\"title\":{\"x\":0.05},\"xaxis\":{\"automargin\":true,\"gridcolor\":\"white\",\"linecolor\":\"white\",\"ticks\":\"\",\"title\":{\"standoff\":15},\"zerolinecolor\":\"white\",\"zerolinewidth\":2},\"yaxis\":{\"automargin\":true,\"gridcolor\":\"white\",\"linecolor\":\"white\",\"ticks\":\"\",\"title\":{\"standoff\":15},\"zerolinecolor\":\"white\",\"zerolinewidth\":2}}},\"xaxis\":{\"anchor\":\"y\",\"domain\":[0.0,1.0],\"title\":{\"text\":\"Proporcion_Paro\"}},\"yaxis\":{\"anchor\":\"x\",\"domain\":[0.0,1.0],\"title\":{\"text\":\"count\"}},\"legend\":{\"tracegroupgap\":0},\"margin\":{\"t\":60},\"barmode\":\"relative\"},                        {\"responsive\": true}                    ).then(function(){\n",
              "                            \n",
              "var gd = document.getElementById('9b1425df-e2b8-4352-8003-88f24eae791a');\n",
              "var x = new MutationObserver(function (mutations, observer) {{\n",
              "        var display = window.getComputedStyle(gd).display;\n",
              "        if (!display || display === 'none') {{\n",
              "            console.log([gd, 'removed!']);\n",
              "            Plotly.purge(gd);\n",
              "            observer.disconnect();\n",
              "        }}\n",
              "}});\n",
              "\n",
              "// Listen for the removal of the full notebook cells\n",
              "var notebookContainer = gd.closest('#notebook-container');\n",
              "if (notebookContainer) {{\n",
              "    x.observe(notebookContainer, {childList: true});\n",
              "}}\n",
              "\n",
              "// Listen for the clearing of the current output cell\n",
              "var outputEl = gd.closest('.output');\n",
              "if (outputEl) {{\n",
              "    x.observe(outputEl, {childList: true});\n",
              "}}\n",
              "\n",
              "                        })                };                            </script>        </div>\n",
              "</body>\n",
              "</html>"
            ]
          },
          "metadata": {}
        }
      ],
      "source": [
        "fig = px.histogram(df, x=\"Proporcion_Paro\")\n",
        "fig.show()"
      ]
    },
    {
      "cell_type": "markdown",
      "metadata": {
        "id": "muJWJ7RNLgGw"
      },
      "source": [
        "Y en cuanto al tamaño, ¿cuál es la mediana de tamaño en las autonomías? "
      ]
    },
    {
      "cell_type": "code",
      "execution_count": null,
      "metadata": {
        "id": "R70aEwKPLgGw"
      },
      "outputs": [],
      "source": [
        "mediana_area = df['Shape__Area'].median()"
      ]
    },
    {
      "cell_type": "code",
      "execution_count": null,
      "metadata": {
        "id": "-x4U_o9FLgGx"
      },
      "outputs": [],
      "source": [
        "mediana_area"
      ]
    },
    {
      "cell_type": "markdown",
      "metadata": {
        "id": "PdTaJvQHLgGx"
      },
      "source": [
        "Si dividimos a las autonomías entre \"grandes\" (con un área mayor que la mediana) y \"chicas\" (con un área menor), ¿cuál grupo tiene mayor proporción de paro?"
      ]
    },
    {
      "cell_type": "code",
      "execution_count": null,
      "metadata": {
        "id": "F1SDPFvtLgGx"
      },
      "outputs": [],
      "source": [
        "df.query('Shape__Area > @mediana_area')['Proporcion_Paro'].mean()"
      ]
    },
    {
      "cell_type": "code",
      "execution_count": null,
      "metadata": {
        "id": "xU0C2im6LgGx"
      },
      "outputs": [],
      "source": [
        "df.query('Shape__Area < @mediana_area')['Proporcion_Paro'].mean()"
      ]
    },
    {
      "cell_type": "markdown",
      "metadata": {
        "id": "LRAGtld-LgGx"
      },
      "source": [
        "Entonces, mientras que en autonomías más grandes la proporción de paro es 6.5%, en las más chicas es de 5.4%.\n",
        "\n",
        "Ejercicio: calculen cómo es esta relación con respecto a la densidad."
      ]
    },
    {
      "cell_type": "code",
      "execution_count": null,
      "metadata": {
        "id": "sfsRVNZLLgGy"
      },
      "outputs": [],
      "source": [
        ""
      ]
    },
    {
      "cell_type": "markdown",
      "metadata": {
        "id": "NunyXsenLgGy"
      },
      "source": [
        "## GroupBy: Trabajando sobre grupos\n",
        "\n",
        "Muchas veces necesitamos analizar métricas, pero sobre agrupamientos de los datos. Por ejemplo, las autonomías se agrupan en provincias y podemos querer ver el desempeño de cada provinicia. O en lugar de analizar la densidad separando únicamente por la mediana, podemos querer ver qué pasa en cada percentil. \n",
        "\n",
        "En Pandas las operaciones sobre grupos se pueden ver como una combinación de las operaciones Split Apply Combine.\n",
        "\n",
        "<img src='https://datasets-humai.s3.amazonaws.com/images/splitapplycombine.png'></img>\n",
        "\n",
        "En algunos casos la operación que aplicamos sobre el dataframe original reduce el tamaño del mismo, por ejemplo cuando devolvemos la media de cada grupo y otras veces no, por ejemplo cuando comparamos cada elemento del grupo contra un benchmark del mismo, por ejemplo si quisiéramos hacer un ranking por juego para grupos de jugadores. \n",
        "\n",
        "## Clases que se encargan de la Agregación en Pandas\n",
        "\n",
        "## DataSetGroupBy\n",
        "\n",
        "Veamos qué devuelve pandas cuando agrupamos un dataset por una columna:"
      ]
    },
    {
      "cell_type": "code",
      "execution_count": null,
      "metadata": {
        "id": "Ju5abpUHLgGz"
      },
      "outputs": [],
      "source": [
        "df.groupby('PAD_1_COD_PROV')"
      ]
    },
    {
      "cell_type": "code",
      "execution_count": null,
      "metadata": {
        "id": "ocY-WNUsLgGz"
      },
      "outputs": [],
      "source": [
        "df.groupby('PAD_1_COD_PROV')['Shape__Area']"
      ]
    },
    {
      "cell_type": "markdown",
      "metadata": {
        "id": "q_yYzJqiLgGz"
      },
      "source": [
        "En lugar de recibir una lista o numpy array de grupos, recibimos un objeto del tipo DataFrameGroupBy. Ahora veamos cuánto tarda en ejecutarse este método.\n",
        "\n",
        "### Lazy Evaluation"
      ]
    },
    {
      "cell_type": "code",
      "execution_count": null,
      "metadata": {
        "id": "BouUwboTLgGz"
      },
      "outputs": [],
      "source": [
        "%%timeit\n",
        "df.groupby('PAD_1_COD_PROV')"
      ]
    },
    {
      "cell_type": "code",
      "execution_count": null,
      "metadata": {
        "id": "v9bJ7M4gLgG0"
      },
      "outputs": [],
      "source": [
        "%%timeit\n",
        "a = list(df.groupby('PAD_1_COD_PROV'))"
      ]
    },
    {
      "cell_type": "markdown",
      "metadata": {
        "id": "vrC_-ocSLgG0"
      },
      "source": [
        "Hacer únicamente la agrupación por código de provincia lleva 50 microsegundos pero si convertimos el resultado a una lista, forzamos a que efectivamente se separen los grupos y eso tarda 10.9 ms.  \n",
        "\n",
        "Este comportamiento se llama \"lazy evaluation\" y es muy importante en todos los motores de procesamiento de datos. Ejecutar las operaciones computacionalmente pesadas, sólo cuando se necesita permite hacer los procesos más eficientes. "
      ]
    },
    {
      "cell_type": "code",
      "execution_count": null,
      "metadata": {
        "id": "r5HvhycxLgG1"
      },
      "outputs": [],
      "source": [
        "a = list(df.groupby('PAD_1_COD_PROV'))\n",
        "type(a[0])"
      ]
    },
    {
      "cell_type": "code",
      "execution_count": null,
      "metadata": {
        "id": "iukGA9LCLgG1"
      },
      "outputs": [],
      "source": [
        "type(a[0][0])"
      ]
    },
    {
      "cell_type": "code",
      "execution_count": null,
      "metadata": {
        "id": "OELcqcWgLgG1"
      },
      "outputs": [],
      "source": [
        "type(a[0][1])"
      ]
    },
    {
      "cell_type": "markdown",
      "metadata": {
        "id": "R4WIZxUNLgG2"
      },
      "source": [
        "### Iterar sobre los grupos\n",
        "\n",
        "Podemos recorrer los grupos en un loop for, desempaquetando la tupla que contine el nombre del grupo y el DataFrame correspondiente.\n",
        "\n",
        "Veamos a ver cuántas autonomías tiene cada provincia."
      ]
    },
    {
      "cell_type": "code",
      "execution_count": null,
      "metadata": {
        "id": "WeT9RPQCLgG2"
      },
      "outputs": [],
      "source": [
        "for (cod_prov, group) in df.groupby('PAD_1_COD_PROV'):\n",
        "    print(\"provincia={0}, tamaño={1}\".format(cod_prov, group.shape[0]))"
      ]
    },
    {
      "cell_type": "markdown",
      "metadata": {
        "id": "rV0Ms3YkLgG2"
      },
      "source": [
        "Ejercicio: Calculen la media para cada provincia de la proporción de paro. Midan el tiempo que tarda en ejecutarse esa consulta. "
      ]
    },
    {
      "cell_type": "code",
      "execution_count": null,
      "metadata": {
        "id": "PjhiWH8-LgG2"
      },
      "outputs": [],
      "source": [
        ""
      ]
    },
    {
      "cell_type": "markdown",
      "metadata": {
        "id": "p5ld_fP5LgG2"
      },
      "source": [
        "## SeriesGroupBy\n",
        "\n",
        "Veamos el tipo de objeto que se forma cuando tomamos una serie del DataFrame. "
      ]
    },
    {
      "cell_type": "code",
      "execution_count": null,
      "metadata": {
        "id": "rTBBkP9zLgG2"
      },
      "outputs": [],
      "source": [
        "type(df.groupby('PAD_1_COD_PROV')['Proporcion_Paro'])"
      ]
    },
    {
      "cell_type": "markdown",
      "metadata": {
        "id": "y-S-t1M6LgG3"
      },
      "source": [
        "Es un objeto de tipo SeriesGroupBy. A estos objetos, podemos aplicarles cualquier función de agregación. "
      ]
    },
    {
      "cell_type": "code",
      "execution_count": null,
      "metadata": {
        "id": "xAzGjMMdLgG3"
      },
      "outputs": [],
      "source": [
        "%%time\n",
        "df.groupby('PAD_1_COD_PROV')['Proporcion_Paro'].mean()"
      ]
    },
    {
      "cell_type": "markdown",
      "metadata": {
        "id": "haz_AXhSLgG3"
      },
      "source": [
        "Noten que en este caso, la operación sobre el objeto SeriesGroupBy tarda (en este caso, va a depender del hardware) casi 15 veces que el loop for sobre el GroupBy. Esto es gracias a la vectorización que vimos en la clase 1."
      ]
    },
    {
      "cell_type": "code",
      "execution_count": null,
      "metadata": {
        "id": "I76N3VxOLgG3"
      },
      "outputs": [],
      "source": [
        "a = df.groupby('PAD_1_COD_PROV')['Proporcion_Paro'].mean()"
      ]
    },
    {
      "cell_type": "code",
      "execution_count": null,
      "metadata": {
        "id": "Ck7dcWEVLgG4"
      },
      "outputs": [],
      "source": [
        "# El resultado de una función de agregación sobre una SeriesGroupBy, es otra serie\n",
        "type(a)"
      ]
    },
    {
      "cell_type": "code",
      "execution_count": null,
      "metadata": {
        "id": "_uuqWAabLgG4"
      },
      "outputs": [],
      "source": [
        "# El índice de la serie son todas las provincias. \n",
        "a.index"
      ]
    },
    {
      "cell_type": "markdown",
      "metadata": {
        "id": "4stFiv6CLgG4"
      },
      "source": [
        "Ahora podemos probar otras funciones de agregación, por ejemplo calculemos el área por provincia:"
      ]
    },
    {
      "cell_type": "code",
      "execution_count": null,
      "metadata": {
        "id": "qtR9qmB5LgG4"
      },
      "outputs": [],
      "source": [
        "df.groupby('PAD_1_COD_PROV')['Shape__Area'].sum()"
      ]
    },
    {
      "cell_type": "markdown",
      "metadata": {
        "id": "IO4Oj2HKLgG5"
      },
      "source": [
        "## Agregaciones múltiples\n",
        "\n",
        "Veamos ahora quiero combinar para cada provincia, cuál es el área, cuál es la población, cuál es la media y la mediana de paro y cuántas autonomías la componen. Para esto existe la función aggregate. Aplicada sobre un DataFrameGroupBy recibe como parámetro un diccionario con las nombres de columnas como claves y el tipo de agregación a realizar como valores. Pueden ser valores únicos o listas con varios valores.\n"
      ]
    },
    {
      "cell_type": "code",
      "execution_count": null,
      "metadata": {
        "id": "JzJUGhYxLgG5"
      },
      "outputs": [],
      "source": [
        "df.groupby('PAD_1_COD_PROV').aggregate({'Shape__Area':'sum',\n",
        "                                        'PAD_1C02':'sum',\n",
        "                                        'Proporcion_Paro':['mean','median','size']}).head()"
      ]
    },
    {
      "cell_type": "markdown",
      "metadata": {
        "id": "gq8mPsL2LgG5"
      },
      "source": [
        "## MultiIndex\n",
        "\n",
        "Cuando agregamos por varias columnas distintas, nos queda un MultiIndex en las columnas\n"
      ]
    },
    {
      "cell_type": "code",
      "execution_count": null,
      "metadata": {
        "id": "aoE3dRxMLgG5"
      },
      "outputs": [],
      "source": [
        "df_agregado = df.groupby('PAD_1_COD_PROV').aggregate({'Shape__Area':'sum',\n",
        "                                        'PAD_1C02':'sum',\n",
        "                                        'Proporcion_Paro':['mean','median','size']})"
      ]
    },
    {
      "cell_type": "code",
      "execution_count": null,
      "metadata": {
        "id": "i6cKQHOcLgG5"
      },
      "outputs": [],
      "source": [
        "df_agregado.columns"
      ]
    },
    {
      "cell_type": "markdown",
      "metadata": {
        "id": "eXhR-FKYLgG6"
      },
      "source": [
        "#### Entendiendo la función pd.qcut\n",
        "\n",
        "También podemos agrupar por más de una columna, usando una lista en lugar de un único valor como parámetro del groupby.\n",
        "\n",
        "Calculemos los deciles de paro regitrado en los distintos municipios. \n",
        "Para eso vamos a construir una columna que contenga el decil que ocupa el municipio en el ranking de proporción de paro. El decil 1 va a representar las autonomías que mejor se desempeñan y el decil 10 las que peor lo hacen."
      ]
    },
    {
      "cell_type": "code",
      "execution_count": null,
      "metadata": {
        "id": "XrIstDK1LgG6"
      },
      "outputs": [],
      "source": [
        "df['Decil_Paro'] = pd.qcut(df['Proporcion_Paro'], 10, labels=range(1,11))\n"
      ]
    },
    {
      "cell_type": "markdown",
      "metadata": {
        "id": "Y6AVuLv1LgG7"
      },
      "source": [
        "Ahora podemos agrupar por provincia y decil para ver cuántos municipios de cada decil hay en cada provincia. "
      ]
    },
    {
      "cell_type": "code",
      "execution_count": null,
      "metadata": {
        "id": "4vsFKsmWLgG7"
      },
      "outputs": [],
      "source": [
        "serie_prov_decil = df.groupby(['PAD_1_COD_PROV','Decil_Paro']).size()"
      ]
    },
    {
      "cell_type": "code",
      "execution_count": null,
      "metadata": {
        "id": "lMoUwLvaLgG7"
      },
      "outputs": [],
      "source": [
        "type(serie_prov_decil)"
      ]
    },
    {
      "cell_type": "code",
      "execution_count": null,
      "metadata": {
        "id": "tl2v8e5VLgG7"
      },
      "outputs": [],
      "source": [
        "serie_prov_decil.index"
      ]
    },
    {
      "cell_type": "code",
      "execution_count": null,
      "metadata": {
        "id": "hNg7TS74LgG8"
      },
      "outputs": [],
      "source": [
        "serie_prov_decil.head(10)"
      ]
    },
    {
      "cell_type": "markdown",
      "metadata": {
        "id": "yKS96R5QLgG8"
      },
      "source": [
        "El objeto MultiIndex puede ser complicado para trabajar. Por eso conviene utilizar el método reset_index() para volver a un DataFrame común."
      ]
    },
    {
      "cell_type": "code",
      "execution_count": null,
      "metadata": {
        "id": "kNOdyaMRLgG8"
      },
      "outputs": [],
      "source": [
        "df_prov = serie_prov_decil.reset_index()"
      ]
    },
    {
      "cell_type": "code",
      "execution_count": null,
      "metadata": {
        "id": "nTDznzq7LgG9"
      },
      "outputs": [],
      "source": [
        "df_prov.head()"
      ]
    },
    {
      "cell_type": "markdown",
      "metadata": {
        "id": "XownF_UkLgG9"
      },
      "source": [
        "## Ejercicios\n",
        "\n",
        "Ahora vamos a querer trabajar a nivel de provincia. Calculen la densidad, la proporción de paro y la cantidad de municipios para cada provincia ¿Cuál es la provincia con mayor proporción de paro? ¿Cuál es la que tiene menos?"
      ]
    },
    {
      "cell_type": "code",
      "execution_count": null,
      "metadata": {
        "id": "UJE6LgCWLgG9"
      },
      "outputs": [],
      "source": [
        ""
      ]
    },
    {
      "cell_type": "code",
      "execution_count": null,
      "metadata": {
        "id": "a7SVzTYILgG-"
      },
      "outputs": [],
      "source": [
        ""
      ]
    },
    {
      "cell_type": "code",
      "execution_count": null,
      "metadata": {
        "id": "sfekiGSCLgG-"
      },
      "outputs": [],
      "source": [
        ""
      ]
    },
    {
      "cell_type": "code",
      "execution_count": null,
      "metadata": {
        "id": "pffxB1O9LgG-"
      },
      "outputs": [],
      "source": [
        ""
      ]
    },
    {
      "cell_type": "code",
      "execution_count": null,
      "metadata": {
        "id": "DyR48l4XLgG-"
      },
      "outputs": [],
      "source": [
        ""
      ]
    },
    {
      "cell_type": "code",
      "execution_count": null,
      "metadata": {
        "id": "YdP0R3YALgG-"
      },
      "outputs": [],
      "source": [
        ""
      ]
    },
    {
      "cell_type": "code",
      "execution_count": null,
      "metadata": {
        "id": "eqNrn4vBLgG_"
      },
      "outputs": [],
      "source": [
        ""
      ]
    },
    {
      "cell_type": "code",
      "execution_count": null,
      "metadata": {
        "id": "t2keZI-5LgG_"
      },
      "outputs": [],
      "source": [
        ""
      ]
    },
    {
      "cell_type": "code",
      "execution_count": null,
      "metadata": {
        "id": "eT4a-9UTLgHA"
      },
      "outputs": [],
      "source": [
        ""
      ]
    },
    {
      "cell_type": "code",
      "execution_count": null,
      "metadata": {
        "id": "4AA5fClhLgHC"
      },
      "outputs": [],
      "source": [
        ""
      ]
    },
    {
      "cell_type": "code",
      "execution_count": null,
      "metadata": {
        "id": "J_rvwU9CLgHF"
      },
      "outputs": [],
      "source": [
        ""
      ]
    }
  ],
  "metadata": {
    "kernelspec": {
      "display_name": "conda_python3",
      "language": "python",
      "name": "conda_python3"
    },
    "language_info": {
      "codemirror_mode": {
        "name": "ipython",
        "version": 3
      },
      "file_extension": ".py",
      "mimetype": "text/x-python",
      "name": "python",
      "nbconvert_exporter": "python",
      "pygments_lexer": "ipython3",
      "version": "3.6.10"
    },
    "colab": {
      "name": "agrupacion_agregacion.ipynb",
      "provenance": []
    }
  },
  "nbformat": 4,
  "nbformat_minor": 0
}